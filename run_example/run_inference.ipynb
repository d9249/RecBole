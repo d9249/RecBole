{
 "cells": [
  {
   "cell_type": "code",
   "execution_count": 1,
   "id": "375682ec-ea8c-4c3d-940a-8e5bdbbed660",
   "metadata": {},
   "outputs": [],
   "source": [
    "import argparse\n",
    "import torch\n",
    "import numpy as np\n",
    "import pandas as pd\n",
    "import gc\n",
    "from tqdm.notebook import tqdm\n",
    "from recbole.quick_start import load_data_and_model"
   ]
  },
  {
   "cell_type": "code",
   "execution_count": 2,
   "id": "04b6903f-a902-400e-b06c-84dd065efbb8",
   "metadata": {
    "collapsed": true,
    "jupyter": {
     "outputs_hidden": true
    },
    "tags": []
   },
   "outputs": [
    {
     "name": "stderr",
     "output_type": "stream",
     "text": [
      "07 Feb 19:33    INFO  \n",
      "General Hyper Parameters:\n",
      "gpu_id = 0\n",
      "use_gpu = True\n",
      "seed = 2023\n",
      "state = INFO\n",
      "reproducibility = True\n",
      "data_path = /home/RecBole/recbole/config/../dataset_example/ml-100k\n",
      "checkpoint_dir = /home/RecBole/saved/\n",
      "show_progress = True\n",
      "save_dataset = True\n",
      "dataset_save_path = saved_dataset\n",
      "save_dataloaders = True\n",
      "dataloaders_save_path = saved_dataloaders\n",
      "log_wandb = True\n",
      "\n",
      "Training Hyper Parameters:\n",
      "epochs = 1000\n",
      "train_batch_size = 4048\n",
      "learner = adam\n",
      "learning_rate = 0.001\n",
      "train_neg_sample_args = {'distribution': 'uniform', 'sample_num': 1, 'alpha': 1.0, 'dynamic': False, 'candidate_num': 0}\n",
      "eval_step = 1\n",
      "stopping_step = 1000\n",
      "clip_grad_norm = None\n",
      "weight_decay = 0.0005\n",
      "loss_decimal_place = 4\n",
      "\n",
      "Evaluation Hyper Parameters:\n",
      "eval_args = {'split': {'RS': [0.675, 0.075, 0.25]}, 'group_by': 'user', 'order': 'RO', 'mode': 'full'}\n",
      "repeatable = False\n",
      "metrics = ['Recall', 'MRR', 'NDCG', 'Hit', 'MAP', 'Precision', 'GAUC', 'ItemCoverage', 'AveragePopularity', 'GiniIndex', 'ShannonEntropy', 'TailPercentage']\n",
      "topk = [20]\n",
      "valid_metric = MRR@20\n",
      "valid_metric_bigger = True\n",
      "eval_batch_size = 4048\n",
      "metric_decimal_place = 4\n",
      "\n",
      "Dataset Hyper Parameters:\n",
      "load_col = {'inter': ['user_id', 'item_id', 'rating', 'timestamp']}\n",
      "field_separator = \t\n",
      "seq_separator =  \n",
      "USER_ID_FIELD = user_id\n",
      "ITEM_ID_FIELD = item_id\n",
      "RATING_FIELD = rating\n",
      "TIME_FIELD = timestamp\n",
      "seq_len = None\n",
      "LABEL_FIELD = label\n",
      "threshold = None\n",
      "NEG_PREFIX = neg_\n",
      "unload_col = None\n",
      "unused_col = None\n",
      "additional_feat_suffix = None\n",
      "rm_dup_inter = None\n",
      "val_interval = None\n",
      "filter_inter_by_user_or_item = True\n",
      "user_inter_num_interval = None\n",
      "item_inter_num_interval = None\n",
      "alias_of_user_id = None\n",
      "alias_of_item_id = None\n",
      "alias_of_entity_id = None\n",
      "alias_of_relation_id = None\n",
      "preload_weight = None\n",
      "normalize_field = None\n",
      "normalize_all = True\n",
      "ITEM_LIST_LENGTH_FIELD = item_length\n",
      "LIST_SUFFIX = _list\n",
      "MAX_ITEM_LIST_LENGTH = 50\n",
      "POSITION_FIELD = position_id\n",
      "HEAD_ENTITY_ID_FIELD = head_id\n",
      "TAIL_ENTITY_ID_FIELD = tail_id\n",
      "RELATION_ID_FIELD = relation_id\n",
      "ENTITY_ID_FIELD = entity_id\n",
      "kg_reverse_r = False\n",
      "entity_kg_num_interval = None\n",
      "relation_kg_num_interval = None\n",
      "benchmark_filename = None\n",
      "\n",
      "Other Hyper Parameters: \n",
      "worker = 0\n",
      "saved_model_file = True\n",
      "wandb_project = recbole\n",
      "shuffle = True\n",
      "require_pow = False\n",
      "enable_amp = False\n",
      "enable_scaler = False\n",
      "transform = None\n",
      "embedding_size = 64\n",
      "n_layers = 4\n",
      "reg_weight = 1e-05\n",
      "numerical_features = []\n",
      "discretization = None\n",
      "MODEL_TYPE = ModelType.GENERAL\n",
      "MODEL_INPUT_TYPE = InputType.PAIRWISE\n",
      "eval_type = EvaluatorType.RANKING\n",
      "single_spec = True\n",
      "local_rank = 0\n",
      "device = cuda\n",
      "eval_neg_sample_args = {'distribution': 'uniform', 'sample_num': 'none'}\n",
      "\n",
      "\n",
      "07 Feb 19:33    INFO  Saving filtered dataset into [/home/RecBole/saved/ml-100k-dataset.pth]\n",
      "07 Feb 19:33    INFO  ml-100k\n",
      "The number of users: 944\n",
      "Average actions of users: 106.04453870625663\n",
      "The number of items: 1683\n",
      "Average actions of items: 59.45303210463734\n",
      "The number of inters: 100000\n",
      "The sparsity of the dataset: 93.70575143257098%\n",
      "Remain Fields: ['user_id', 'item_id', 'rating', 'timestamp']\n",
      "07 Feb 19:33    INFO  Saving split dataloaders into: [/home/RecBole/saved/ml-100k-for-LightGCN-dataloader.pth]\n",
      "07 Feb 19:33    INFO  [Training]: train_batch_size = [4048] train_neg_sample_args: [{'distribution': 'uniform', 'sample_num': 1, 'alpha': 1.0, 'dynamic': False, 'candidate_num': 0}]\n",
      "07 Feb 19:33    INFO  [Evaluation]: eval_batch_size = [4048] eval_args: [{'split': {'RS': [0.675, 0.075, 0.25]}, 'group_by': 'user', 'order': 'RO', 'mode': 'full'}]\n"
     ]
    },
    {
     "data": {
      "text/plain": [
       "54"
      ]
     },
     "execution_count": 2,
     "metadata": {},
     "output_type": "execute_result"
    }
   ],
   "source": [
    "# python run_inference.py --model_path=/opt/ml/input/RecBole/saved/SASRecF-Apr-07-2022_03-17-16.pth 로 실행\n",
    "# python /home/RecBole/run_inference.py -m=/home/RecBole/saved/LightGCN-Dec-28-2022_06-04-00.pt\n",
    "    \n",
    "# args, _ = parser.parse_known_args()\n",
    "# model, dataset 불러오기\n",
    "config, model, dataset, train_data, valid_data, test_data = load_data_and_model(\n",
    "    model_file = \"/home/RecBole/saved/LightGCN-Feb-07-2023_19-15-05.pth\"\n",
    ")\n",
    "\n",
    "del train_data, valid_data\n",
    "gc.collect()"
   ]
  },
  {
   "cell_type": "code",
   "execution_count": 4,
   "id": "f48bc013-b4ba-49b5-887c-4f70893878ae",
   "metadata": {
    "collapsed": true,
    "jupyter": {
     "outputs_hidden": true
    },
    "tags": []
   },
   "outputs": [
    {
     "data": {
      "text/plain": [
       "array(['196', '186', '22', '244', '166', '298', '115', '253', '305', '6',\n",
       "       '62', '286', '200', '210', '224', '303', '122', '194', '291',\n",
       "       '234', '119', '167', '299', '308', '95', '38', '102', '63', '160',\n",
       "       '50', '301', '225', '290', '97', '157', '181', '278', '276', '7',\n",
       "       '10', '284', '201', '287', '246', '242', '249', '99', '178', '251',\n",
       "       '81', '260', '25', '59', '72', '87', '42', '292', '20', '13',\n",
       "       '138', '60', '57', '223', '189', '243', '92', '241', '254', '293',\n",
       "       '127', '222', '267', '11', '8', '162', '279', '145', '28', '135',\n",
       "       '32', '90', '216', '250', '271', '265', '198', '168', '110', '58',\n",
       "       '237', '94', '128', '44', '264', '41', '82', '262', '174', '43',\n",
       "       '84', '269', '259', '85', '213', '121', '49', '155', '68', '172',\n",
       "       '19', '268', '5', '80', '66', '18', '26', '130', '256', '1', '56',\n",
       "       '15', '207', '232', '52', '161', '148', '125', '83', '272', '151',\n",
       "       '54', '16', '91', '294', '229', '36', '70', '14', '295', '233',\n",
       "       '214', '192', '100', '307', '297', '193', '113', '275', '219',\n",
       "       '218', '123', '158', '302', '23', '296', '33', '154', '77', '270',\n",
       "       '187', '170', '101', '184', '112', '133', '215', '69', '104',\n",
       "       '240', '144', '191', '61', '142', '177', '203', '21', '197', '134',\n",
       "       '180', '236', '263', '109', '64', '114', '239', '117', '65', '137',\n",
       "       '257', '111', '285', '96', '116', '73', '221', '235', '164', '281',\n",
       "       '182', '129', '45', '131', '230', '126', '231', '280', '288',\n",
       "       '152', '217', '79', '75', '245', '282', '78', '118', '283', '171',\n",
       "       '107', '226', '306', '173', '185', '150', '274', '188', '48',\n",
       "       '311', '165', '208', '2', '205', '248', '93', '159', '146', '29',\n",
       "       '156', '37', '141', '195', '108', '47', '255', '89', '140', '190',\n",
       "       '24', '17', '313', '53', '124', '149', '176', '106', '312', '175',\n",
       "       '153', '220', '143', '199', '202', '277', '206', '76', '314',\n",
       "       '136', '179', '4', '304', '3', '227', '252', '212', '310', '35',\n",
       "       '147', '105', '34', '71', '51', '204', '315', '31', '316', '103',\n",
       "       '318', '30', '120', '46', '289', '209', '261', '88', '9', '247',\n",
       "       '321', '266', '74', '238', '319', '323', '67', '211', '98', '12',\n",
       "       '40', '258', '228', '325', '320', '326', '327', '183', '328',\n",
       "       '322', '330', '27', '331', '332', '329', '86', '139', '300', '163',\n",
       "       '333', '334', '39', '324', '132', '336', '335', '169', '338',\n",
       "       '339', '309', '342', '340', '317', '341', '343', '344', '345',\n",
       "       '346', '347', '273', '55', '349', '348', '354', '351', '358',\n",
       "       '352', '360', '363', '355', '362', '357', '356', '361', '365',\n",
       "       '350', '367', '368', '371', '373', '370', '374', '372', '337',\n",
       "       '378', '366', '377', '375', '359', '379', '380', '381', '385',\n",
       "       '382', '387', '364', '369', '388', '386', '389', '383', '390',\n",
       "       '393', '392', '376', '394', '391', '398', '397', '399', '396',\n",
       "       '401', '402', '384', '395', '353', '403', '405', '400', '406',\n",
       "       '407', '409', '404', '413', '416', '408', '410', '411', '417',\n",
       "       '412', '420', '422', '425', '419', '415', '423', '429', '428',\n",
       "       '427', '418', '424', '432', '421', '435', '433', '426', '436',\n",
       "       '430', '434', '437', '438', '431', '442', '440', '445', '447',\n",
       "       '449', '450', '446', '439', '451', '452', '454', '453', '414',\n",
       "       '455', '444', '448', '457', '456', '458', '462', '459', '460',\n",
       "       '461', '467', '468', '466', '472', '465', '463', '471', '474',\n",
       "       '469', '464', '476', '478', '473', '470', '480', '441', '479',\n",
       "       '484', '486', '487', '482', '481', '492', '493', '490', '489',\n",
       "       '483', '496', '494', '495', '477', '497', '488', '498', '499',\n",
       "       '491', '500', '502', '503', '504', '505', '506', '443', '507',\n",
       "       '514', '508', '511', '515', '512', '513', '475', '523', '518',\n",
       "       '509', '516', '510', '524', '501', '525', '521', '520', '519',\n",
       "       '528', '532', '530', '531', '529', '517', '527', '485', '533',\n",
       "       '535', '536', '526', '537', '534', '541', '538', '542', '545',\n",
       "       '539', '547', '543', '548', '546', '522', '551', '544', '553',\n",
       "       '552', '540', '554', '550', '556', '559', '560', '561', '563',\n",
       "       '566', '557', '558', '564', '565', '573', '549', '567', '569',\n",
       "       '562', '576', '577', '579', '574', '555', '572', '575', '584',\n",
       "       '588', '587', '568', '586', '585', '582', '591', '581', '592',\n",
       "       '580', '590', '593', '583', '596', '570', '599', '589', '594',\n",
       "       '597', '578', '601', '602', '600', '605', '603', '595', '606',\n",
       "       '608', '607', '610', '611', '617', '618', '614', '609', '615',\n",
       "       '616', '620', '571', '619', '613', '622', '621', '604', '624',\n",
       "       '612', '627', '623', '628', '625', '629', '633', '632', '631',\n",
       "       '634', '639', '630', '642', '637', '640', '626', '643', '598',\n",
       "       '638', '635', '644', '636', '645', '648', '647', '650', '651',\n",
       "       '654', '653', '655', '649', '658', '656', '660', '659', '646',\n",
       "       '663', '664', '657', '665', '666', '661', '662', '667', '641',\n",
       "       '668', '673', '671', '669', '676', '674', '652', '677', '682',\n",
       "       '679', '684', '685', '683', '691', '672', '692', '690', '689',\n",
       "       '686', '693', '688', '697', '698', '670', '694', '680', '705',\n",
       "       '701', '699', '704', '707', '700', '687', '695', '675', '708',\n",
       "       '709', '711', '710', '712', '715', '713', '716', '681', '678',\n",
       "       '719', '702', '721', '714', '717', '718', '696', '722', '724',\n",
       "       '727', '725', '706', '720', '729', '726', '728', '703', '738',\n",
       "       '736', '734', '730', '743', '742', '737', '733', '745', '740',\n",
       "       '735', '747', '723', '739', '749', '748', '746', '731', '750',\n",
       "       '741', '751', '756', '757', '752', '758', '732', '762', '744',\n",
       "       '754', '753', '763', '764', '767', '769', '755', '771', '768',\n",
       "       '773', '765', '772', '766', '774', '760', '761', '777', '759',\n",
       "       '776', '780', '779', '778', '782', '786', '784', '770', '788',\n",
       "       '789', '790', '787', '783', '785', '794', '781', '796', '795',\n",
       "       '793', '798', '791', '802', '800', '804', '803', '775', '792',\n",
       "       '799', '805', '806', '807', '797', '801', '809', '815', '817',\n",
       "       '821', '818', '814', '812', '823', '825', '827', '829', '811',\n",
       "       '830', '826', '831', '819', '828', '808', '835', '833', '836',\n",
       "       '816', '838', '839', '840', '832', '810', '844', '843', '834',\n",
       "       '846', '837', '813', '842', '847', '848', '822', '852', '851',\n",
       "       '849', '854', '850', '858', '853', '855', '824', '845', '841',\n",
       "       '859', '862', '856', '820', '863', '860', '857', '864', '865',\n",
       "       '868', '867', '861', '870', '871', '875', '876', '872', '866',\n",
       "       '877', '873', '880', '878', '869', '881', '879', '883', '882',\n",
       "       '884', '886', '885', '889', '874', '892', '890', '893', '887',\n",
       "       '891', '894', '896', '897', '901', '899', '903', '904', '907',\n",
       "       '905', '902', '898', '895', '906', '900', '908', '916', '911',\n",
       "       '912', '914', '918', '919', '921', '910', '913', '915', '922',\n",
       "       '923', '928', '927', '924', '929', '931', '917', '932', '909',\n",
       "       '934', '933', '935', '938', '940', '888', '925', '942', '937',\n",
       "       '926', '943', '939', '936', '930', '920', '941'], dtype='<U5')"
      ]
     },
     "execution_count": 4,
     "metadata": {},
     "output_type": "execute_result"
    }
   ],
   "source": [
    "external_user_ids = dataset.id2token(dataset.uid_field, list(range(dataset.user_num)))[1:]\n",
    "external_user_ids"
   ]
  },
  {
   "cell_type": "code",
   "execution_count": 5,
   "id": "41ad0b17-2ddd-4929-99d2-41ac43f40372",
   "metadata": {},
   "outputs": [],
   "source": [
    "user_id2token = dataset.field2id_token['user_id']\n",
    "item_id2token = dataset.field2id_token['item_id']"
   ]
  },
  {
   "cell_type": "code",
   "execution_count": 6,
   "id": "32d6ef05-9c6a-4020-818a-124261b9e161",
   "metadata": {},
   "outputs": [],
   "source": [
    "device = config.final_config_dict['device']"
   ]
  },
  {
   "cell_type": "code",
   "execution_count": 7,
   "id": "2f64862c-1426-4961-96bc-ebc2c7746c86",
   "metadata": {},
   "outputs": [],
   "source": [
    "# user-item sparse matrix\n",
    "matrix = dataset.inter_matrix(form='csr')\n",
    "\n",
    "# user id, predict item id 저장 변수\n",
    "pred_list = None\n",
    "user_list = None"
   ]
  },
  {
   "cell_type": "code",
   "execution_count": 8,
   "id": "f9353ca4-1d6f-4f28-b37a-5346cb6e3968",
   "metadata": {},
   "outputs": [
    {
     "data": {
      "text/plain": [
       "<944x1683 sparse matrix of type '<class 'numpy.float64'>'\n",
       "\twith 100000 stored elements in Compressed Sparse Row format>"
      ]
     },
     "execution_count": 8,
     "metadata": {},
     "output_type": "execute_result"
    }
   ],
   "source": [
    "matrix"
   ]
  },
  {
   "cell_type": "code",
   "execution_count": 24,
   "id": "99bd9047-83c2-4655-8638-2d39f12ed5d4",
   "metadata": {
    "collapsed": true,
    "jupyter": {
     "outputs_hidden": true
    },
    "tags": []
   },
   "outputs": [
    {
     "name": "stdout",
     "output_type": "stream",
     "text": [
      "[-5.5160969e-09  1.4331990e+00  2.4582176e+00 ... -5.1355348e-03\n",
      " -3.6828227e-03 -2.1332261e-01]\n",
      "(3366,)\n",
      "(2,)\n"
     ]
    },
    {
     "ename": "IndexError",
     "evalue": "too many indices for array: array is 1-dimensional, but 2 were indexed",
     "output_type": "error",
     "traceback": [
      "\u001b[0;31m---------------------------------------------------------------------------\u001b[0m",
      "\u001b[0;31mIndexError\u001b[0m                                Traceback (most recent call last)",
      "\u001b[0;32m/tmp/ipykernel_76868/1992892588.py\u001b[0m in \u001b[0;36m<module>\u001b[0;34m\u001b[0m\n\u001b[1;32m     13\u001b[0m     \u001b[0mprint\u001b[0m\u001b[0;34m(\u001b[0m\u001b[0mbatch_user_index\u001b[0m\u001b[0;34m.\u001b[0m\u001b[0mshape\u001b[0m\u001b[0;34m)\u001b[0m\u001b[0;34m\u001b[0m\u001b[0;34m\u001b[0m\u001b[0m\n\u001b[1;32m     14\u001b[0m \u001b[0;34m\u001b[0m\u001b[0m\n\u001b[0;32m---> 15\u001b[0;31m     \u001b[0mrating_pred\u001b[0m\u001b[0;34m[\u001b[0m\u001b[0mmatrix\u001b[0m\u001b[0;34m[\u001b[0m\u001b[0mbatch_user_index\u001b[0m\u001b[0;34m]\u001b[0m\u001b[0;34m.\u001b[0m\u001b[0mtoarray\u001b[0m\u001b[0;34m(\u001b[0m\u001b[0;34m)\u001b[0m \u001b[0;34m>\u001b[0m \u001b[0;36m0\u001b[0m\u001b[0;34m]\u001b[0m \u001b[0;34m=\u001b[0m \u001b[0;36m0\u001b[0m\u001b[0;34m\u001b[0m\u001b[0;34m\u001b[0m\u001b[0m\n\u001b[0m\u001b[1;32m     16\u001b[0m \u001b[0;34m\u001b[0m\u001b[0m\n\u001b[1;32m     17\u001b[0m     \u001b[0mind\u001b[0m \u001b[0;34m=\u001b[0m \u001b[0mnp\u001b[0m\u001b[0;34m.\u001b[0m\u001b[0margpartition\u001b[0m\u001b[0;34m(\u001b[0m\u001b[0mrating_pred\u001b[0m\u001b[0;34m,\u001b[0m \u001b[0;34m-\u001b[0m\u001b[0;36m10\u001b[0m\u001b[0;34m)\u001b[0m\u001b[0;34m[\u001b[0m\u001b[0;34m:\u001b[0m\u001b[0;34m,\u001b[0m \u001b[0;34m-\u001b[0m\u001b[0;36m10\u001b[0m\u001b[0;34m:\u001b[0m\u001b[0;34m]\u001b[0m\u001b[0;34m\u001b[0m\u001b[0;34m\u001b[0m\u001b[0m\n",
      "\u001b[0;31mIndexError\u001b[0m: too many indices for array: array is 1-dimensional, but 2 were indexed"
     ]
    }
   ],
   "source": [
    "model.eval()\n",
    "\n",
    "for data in test_data:\n",
    "    interaction = data[0].to(device)\n",
    "    score = model.full_sort_predict(interaction)\n",
    "\n",
    "    rating_pred = score.cpu().data.numpy().copy()\n",
    "    \n",
    "    print(rating_pred)\n",
    "    print(rating_pred.shape)\n",
    "    \n",
    "    batch_user_index = interaction['user_id'].cpu().numpy()\n",
    "    \n",
    "    print(batch_user_index.shape)\n",
    "    \n",
    "    rating_pred[matrix[batch_user_index].toarray() > 0] = 0\n",
    "    \n",
    "    ind = np.argpartition(rating_pred, -10)[:, -10:]\n",
    "\n",
    "    arr_ind = rating_pred[np.arange(len(rating_pred))[:, None], ind]\n",
    "\n",
    "    arr_ind_argsort = np.argsort(arr_ind)[np.arange(len(rating_pred)), ::-1]\n",
    "\n",
    "    batch_pred_list = ind[\n",
    "        np.arange(len(rating_pred))[:, None], arr_ind_argsort\n",
    "    ]\n",
    "\n",
    "    # 예측값 저장\n",
    "    if pred_list is None:\n",
    "        pred_list = batch_pred_list\n",
    "        user_list = batch_user_index\n",
    "    else:\n",
    "        pred_list = np.append(pred_list, batch_pred_list, axis=0)\n",
    "        user_list = np.append(user_list, batch_user_index, axis=0)"
   ]
  },
  {
   "cell_type": "code",
   "execution_count": 10,
   "id": "809fc947-b36e-4896-a607-a40e680fc271",
   "metadata": {
    "collapsed": true,
    "jupyter": {
     "outputs_hidden": true
    },
    "tags": []
   },
   "outputs": [
    {
     "ename": "TypeError",
     "evalue": "zip argument #1 must support iteration",
     "output_type": "error",
     "traceback": [
      "\u001b[0;31m---------------------------------------------------------------------------\u001b[0m",
      "\u001b[0;31mTypeError\u001b[0m                                 Traceback (most recent call last)",
      "\u001b[0;32m/tmp/ipykernel_76868/1048229362.py\u001b[0m in \u001b[0;36m<module>\u001b[0;34m\u001b[0m\n\u001b[1;32m      1\u001b[0m \u001b[0mresult\u001b[0m \u001b[0;34m=\u001b[0m \u001b[0;34m[\u001b[0m\u001b[0;34m]\u001b[0m\u001b[0;34m\u001b[0m\u001b[0;34m\u001b[0m\u001b[0m\n\u001b[0;32m----> 2\u001b[0;31m \u001b[0;32mfor\u001b[0m \u001b[0muser\u001b[0m\u001b[0;34m,\u001b[0m \u001b[0mpred\u001b[0m \u001b[0;32min\u001b[0m \u001b[0mzip\u001b[0m\u001b[0;34m(\u001b[0m\u001b[0muser_list\u001b[0m\u001b[0;34m,\u001b[0m \u001b[0mpred_list\u001b[0m\u001b[0;34m)\u001b[0m\u001b[0;34m:\u001b[0m\u001b[0;34m\u001b[0m\u001b[0;34m\u001b[0m\u001b[0m\n\u001b[0m\u001b[1;32m      3\u001b[0m     \u001b[0;32mfor\u001b[0m \u001b[0mitem\u001b[0m \u001b[0;32min\u001b[0m \u001b[0mpred\u001b[0m\u001b[0;34m:\u001b[0m\u001b[0;34m\u001b[0m\u001b[0;34m\u001b[0m\u001b[0m\n\u001b[1;32m      4\u001b[0m         \u001b[0mresult\u001b[0m\u001b[0;34m.\u001b[0m\u001b[0mappend\u001b[0m\u001b[0;34m(\u001b[0m\u001b[0;34m(\u001b[0m\u001b[0mint\u001b[0m\u001b[0;34m(\u001b[0m\u001b[0muser_id2token\u001b[0m\u001b[0;34m[\u001b[0m\u001b[0muser\u001b[0m\u001b[0;34m]\u001b[0m\u001b[0;34m)\u001b[0m\u001b[0;34m,\u001b[0m \u001b[0mint\u001b[0m\u001b[0;34m(\u001b[0m\u001b[0mitem_id2token\u001b[0m\u001b[0;34m[\u001b[0m\u001b[0mitem\u001b[0m\u001b[0;34m]\u001b[0m\u001b[0;34m)\u001b[0m\u001b[0;34m)\u001b[0m\u001b[0;34m)\u001b[0m\u001b[0;34m\u001b[0m\u001b[0;34m\u001b[0m\u001b[0m\n",
      "\u001b[0;31mTypeError\u001b[0m: zip argument #1 must support iteration"
     ]
    }
   ],
   "source": [
    "result = []\n",
    "for user, pred in zip(user_list, pred_list):\n",
    "    for item in pred:\n",
    "        result.append((int(user_id2token[user]), int(item_id2token[item])))"
   ]
  },
  {
   "cell_type": "code",
   "execution_count": 11,
   "id": "c298e986-2e6c-4c30-8b64-c87d7cae5152",
   "metadata": {
    "collapsed": true,
    "jupyter": {
     "outputs_hidden": true
    },
    "tags": []
   },
   "outputs": [
    {
     "ename": "FileNotFoundError",
     "evalue": "[Errno 2] No such file or directory: '/saved/submission.csv'",
     "output_type": "error",
     "traceback": [
      "\u001b[0;31m---------------------------------------------------------------------------\u001b[0m",
      "\u001b[0;31mFileNotFoundError\u001b[0m                         Traceback (most recent call last)",
      "\u001b[0;32m/tmp/ipykernel_76868/1383396697.py\u001b[0m in \u001b[0;36m<module>\u001b[0;34m\u001b[0m\n\u001b[1;32m      3\u001b[0m \u001b[0mdataframe\u001b[0m\u001b[0;34m.\u001b[0m\u001b[0msort_values\u001b[0m\u001b[0;34m(\u001b[0m\u001b[0mby\u001b[0m\u001b[0;34m=\u001b[0m\u001b[0;34m'user'\u001b[0m\u001b[0;34m,\u001b[0m \u001b[0minplace\u001b[0m\u001b[0;34m=\u001b[0m\u001b[0;32mTrue\u001b[0m\u001b[0;34m)\u001b[0m\u001b[0;34m\u001b[0m\u001b[0;34m\u001b[0m\u001b[0m\n\u001b[1;32m      4\u001b[0m dataframe.to_csv(\n\u001b[0;32m----> 5\u001b[0;31m     \u001b[0;34m\"/saved/submission.csv\"\u001b[0m\u001b[0;34m,\u001b[0m \u001b[0mindex\u001b[0m\u001b[0;34m=\u001b[0m\u001b[0;32mFalse\u001b[0m\u001b[0;34m\u001b[0m\u001b[0;34m\u001b[0m\u001b[0m\n\u001b[0m\u001b[1;32m      6\u001b[0m )\n",
      "\u001b[0;32m/opt/conda/lib/python3.7/site-packages/pandas/core/generic.py\u001b[0m in \u001b[0;36mto_csv\u001b[0;34m(self, path_or_buf, sep, na_rep, float_format, columns, header, index, index_label, mode, encoding, compression, quoting, quotechar, line_terminator, chunksize, date_format, doublequote, escapechar, decimal, errors, storage_options)\u001b[0m\n\u001b[1;32m   3480\u001b[0m             \u001b[0mdoublequote\u001b[0m\u001b[0;34m=\u001b[0m\u001b[0mdoublequote\u001b[0m\u001b[0;34m,\u001b[0m\u001b[0;34m\u001b[0m\u001b[0;34m\u001b[0m\u001b[0m\n\u001b[1;32m   3481\u001b[0m             \u001b[0mescapechar\u001b[0m\u001b[0;34m=\u001b[0m\u001b[0mescapechar\u001b[0m\u001b[0;34m,\u001b[0m\u001b[0;34m\u001b[0m\u001b[0;34m\u001b[0m\u001b[0m\n\u001b[0;32m-> 3482\u001b[0;31m             \u001b[0mstorage_options\u001b[0m\u001b[0;34m=\u001b[0m\u001b[0mstorage_options\u001b[0m\u001b[0;34m,\u001b[0m\u001b[0;34m\u001b[0m\u001b[0;34m\u001b[0m\u001b[0m\n\u001b[0m\u001b[1;32m   3483\u001b[0m         )\n\u001b[1;32m   3484\u001b[0m \u001b[0;34m\u001b[0m\u001b[0m\n",
      "\u001b[0;32m/opt/conda/lib/python3.7/site-packages/pandas/io/formats/format.py\u001b[0m in \u001b[0;36mto_csv\u001b[0;34m(self, path_or_buf, encoding, sep, columns, index_label, mode, compression, quoting, quotechar, line_terminator, chunksize, date_format, doublequote, escapechar, errors, storage_options)\u001b[0m\n\u001b[1;32m   1103\u001b[0m             \u001b[0mformatter\u001b[0m\u001b[0;34m=\u001b[0m\u001b[0mself\u001b[0m\u001b[0;34m.\u001b[0m\u001b[0mfmt\u001b[0m\u001b[0;34m,\u001b[0m\u001b[0;34m\u001b[0m\u001b[0;34m\u001b[0m\u001b[0m\n\u001b[1;32m   1104\u001b[0m         )\n\u001b[0;32m-> 1105\u001b[0;31m         \u001b[0mcsv_formatter\u001b[0m\u001b[0;34m.\u001b[0m\u001b[0msave\u001b[0m\u001b[0;34m(\u001b[0m\u001b[0;34m)\u001b[0m\u001b[0;34m\u001b[0m\u001b[0;34m\u001b[0m\u001b[0m\n\u001b[0m\u001b[1;32m   1106\u001b[0m \u001b[0;34m\u001b[0m\u001b[0m\n\u001b[1;32m   1107\u001b[0m         \u001b[0;32mif\u001b[0m \u001b[0mcreated_buffer\u001b[0m\u001b[0;34m:\u001b[0m\u001b[0;34m\u001b[0m\u001b[0;34m\u001b[0m\u001b[0m\n",
      "\u001b[0;32m/opt/conda/lib/python3.7/site-packages/pandas/io/formats/csvs.py\u001b[0m in \u001b[0;36msave\u001b[0;34m(self)\u001b[0m\n\u001b[1;32m    241\u001b[0m             \u001b[0merrors\u001b[0m\u001b[0;34m=\u001b[0m\u001b[0mself\u001b[0m\u001b[0;34m.\u001b[0m\u001b[0merrors\u001b[0m\u001b[0;34m,\u001b[0m\u001b[0;34m\u001b[0m\u001b[0;34m\u001b[0m\u001b[0m\n\u001b[1;32m    242\u001b[0m             \u001b[0mcompression\u001b[0m\u001b[0;34m=\u001b[0m\u001b[0mself\u001b[0m\u001b[0;34m.\u001b[0m\u001b[0mcompression\u001b[0m\u001b[0;34m,\u001b[0m\u001b[0;34m\u001b[0m\u001b[0;34m\u001b[0m\u001b[0m\n\u001b[0;32m--> 243\u001b[0;31m             \u001b[0mstorage_options\u001b[0m\u001b[0;34m=\u001b[0m\u001b[0mself\u001b[0m\u001b[0;34m.\u001b[0m\u001b[0mstorage_options\u001b[0m\u001b[0;34m,\u001b[0m\u001b[0;34m\u001b[0m\u001b[0;34m\u001b[0m\u001b[0m\n\u001b[0m\u001b[1;32m    244\u001b[0m         ) as handles:\n\u001b[1;32m    245\u001b[0m \u001b[0;34m\u001b[0m\u001b[0m\n",
      "\u001b[0;32m/opt/conda/lib/python3.7/site-packages/pandas/io/common.py\u001b[0m in \u001b[0;36mget_handle\u001b[0;34m(path_or_buf, mode, encoding, compression, memory_map, is_text, errors, storage_options)\u001b[0m\n\u001b[1;32m    705\u001b[0m                 \u001b[0mencoding\u001b[0m\u001b[0;34m=\u001b[0m\u001b[0mioargs\u001b[0m\u001b[0;34m.\u001b[0m\u001b[0mencoding\u001b[0m\u001b[0;34m,\u001b[0m\u001b[0;34m\u001b[0m\u001b[0;34m\u001b[0m\u001b[0m\n\u001b[1;32m    706\u001b[0m                 \u001b[0merrors\u001b[0m\u001b[0;34m=\u001b[0m\u001b[0merrors\u001b[0m\u001b[0;34m,\u001b[0m\u001b[0;34m\u001b[0m\u001b[0;34m\u001b[0m\u001b[0m\n\u001b[0;32m--> 707\u001b[0;31m                 \u001b[0mnewline\u001b[0m\u001b[0;34m=\u001b[0m\u001b[0;34m\"\"\u001b[0m\u001b[0;34m,\u001b[0m\u001b[0;34m\u001b[0m\u001b[0;34m\u001b[0m\u001b[0m\n\u001b[0m\u001b[1;32m    708\u001b[0m             )\n\u001b[1;32m    709\u001b[0m         \u001b[0;32melse\u001b[0m\u001b[0;34m:\u001b[0m\u001b[0;34m\u001b[0m\u001b[0;34m\u001b[0m\u001b[0m\n",
      "\u001b[0;31mFileNotFoundError\u001b[0m: [Errno 2] No such file or directory: '/saved/submission.csv'"
     ]
    }
   ],
   "source": [
    "# 데이터 저장\n",
    "dataframe = pd.DataFrame(result, columns=[\"user\", \"item\"])\n",
    "dataframe.sort_values(by='user', inplace=True)\n",
    "dataframe.to_csv(\n",
    "    \"/saved/submission.csv\", index=False\n",
    ")"
   ]
  },
  {
   "cell_type": "markdown",
   "id": "5731eca0-b2e4-478e-b24b-70563f84b278",
   "metadata": {},
   "source": []
  },
  {
   "cell_type": "code",
   "execution_count": 27,
   "id": "3e746e6e-4a1e-4d69-8fa5-0da167beb742",
   "metadata": {},
   "outputs": [],
   "source": [
    "def predict_item(external_user_id, dataset, model):\n",
    "    \"\"\"\n",
    "\n",
    "    article_id_list => interaction_sequence recorded by Target User\n",
    "\n",
    "    \"\"\"\n",
    "    model.eval()\n",
    "    with torch.no_grad():\n",
    "        uid_series = dataset.token2id(dataset.uid_field, [external_user_id])\n",
    "        index = np.isin(dataset.inter_feat[dataset.uid_field].numpy(), uid_series)\n",
    "        input_interaction = dataset[index]\n",
    "      \n",
    "        test = {\n",
    "                'article_id_list': add_last_item(\n",
    "                    input_interaction, \n",
    "                    input_interaction['article_id'][-1].item(),\n",
    "                    model.max_seq_length\n",
    "                ),\n",
    "                'item_length': torch.tensor(\n",
    "                    [input_interaction['item_length'][-1].item() + 1\n",
    "                                             if input_interaction['item_length'][-1].item() < model.max_seq_length else model.max_seq_length])\n",
    "        }\n",
    "        \n",
    "        new_inter = Interaction(test) # 마지막 정보도 함께 추론에 사용된다.\n",
    "        new_inter = new_inter.to(config['device'])\n",
    "        new_scores = model.full_sort_predict(new_inter) # 개별 모델 클래스 내부 메소드\n",
    "        new_scores = new_scores.view(-1, test_data.dataset.item_num)\n",
    "        new_scores[:, 0] = -np.inf  # set scores of [pad] to -inf\n",
    "    return torch.topk(new_scores, 12)"
   ]
  },
  {
   "cell_type": "code",
   "execution_count": 28,
   "id": "806348e1-684a-4288-9cd7-8845dc42b481",
   "metadata": {},
   "outputs": [
    {
     "data": {
      "application/json": {
       "ascii": false,
       "bar_format": null,
       "colour": null,
       "elapsed": 0.019774913787841797,
       "initial": 0,
       "n": 0,
       "ncols": null,
       "nrows": 75,
       "postfix": null,
       "prefix": "",
       "rate": null,
       "total": 943,
       "unit": "it",
       "unit_divisor": 1000,
       "unit_scale": false
      },
      "application/vnd.jupyter.widget-view+json": {
       "model_id": "1dfccf751b4b4348bd9b1a42dc6570af",
       "version_major": 2,
       "version_minor": 0
      },
      "text/plain": [
       "  0%|          | 0/943 [00:00<?, ?it/s]"
      ]
     },
     "metadata": {},
     "output_type": "display_data"
    },
    {
     "ename": "AttributeError",
     "evalue": "'FullSortEvalDataLoader' object has no attribute 'token2id'",
     "output_type": "error",
     "traceback": [
      "\u001b[0;31m---------------------------------------------------------------------------\u001b[0m",
      "\u001b[0;31mAttributeError\u001b[0m                            Traceback (most recent call last)",
      "\u001b[0;32m/tmp/ipykernel_76868/619460103.py\u001b[0m in \u001b[0;36m<module>\u001b[0;34m\u001b[0m\n\u001b[1;32m     11\u001b[0m \u001b[0mouter_topk_item_list\u001b[0m \u001b[0;34m=\u001b[0m \u001b[0;34m[\u001b[0m\u001b[0;34m]\u001b[0m\u001b[0;34m\u001b[0m\u001b[0;34m\u001b[0m\u001b[0m\n\u001b[1;32m     12\u001b[0m \u001b[0;32mfor\u001b[0m \u001b[0muuser\u001b[0m \u001b[0;32min\u001b[0m \u001b[0mtqdm\u001b[0m\u001b[0;34m(\u001b[0m\u001b[0mexternal_user_ids\u001b[0m\u001b[0;34m)\u001b[0m\u001b[0;34m:\u001b[0m\u001b[0;34m\u001b[0m\u001b[0;34m\u001b[0m\u001b[0m\n\u001b[0;32m---> 13\u001b[0;31m     \u001b[0mresult\u001b[0m \u001b[0;34m=\u001b[0m \u001b[0mpredict_item\u001b[0m\u001b[0;34m(\u001b[0m\u001b[0muuser\u001b[0m\u001b[0;34m,\u001b[0m \u001b[0mtest_data\u001b[0m\u001b[0;34m,\u001b[0m \u001b[0mmodel\u001b[0m\u001b[0;34m)\u001b[0m\u001b[0;34m\u001b[0m\u001b[0;34m\u001b[0m\u001b[0m\n\u001b[0m\u001b[1;32m     14\u001b[0m     \u001b[0minter_topk_items\u001b[0m \u001b[0;34m=\u001b[0m \u001b[0mresult\u001b[0m\u001b[0;34m[\u001b[0m\u001b[0;34m-\u001b[0m\u001b[0;36m1\u001b[0m\u001b[0;34m]\u001b[0m\u001b[0;34m[\u001b[0m\u001b[0;34m-\u001b[0m\u001b[0;36m1\u001b[0m\u001b[0;34m]\u001b[0m\u001b[0;34m\u001b[0m\u001b[0;34m\u001b[0m\u001b[0m\n\u001b[1;32m     15\u001b[0m     \u001b[0mouter_topk_item_list\u001b[0m\u001b[0;34m.\u001b[0m\u001b[0mappend\u001b[0m\u001b[0;34m(\u001b[0m\u001b[0mdataset\u001b[0m\u001b[0;34m.\u001b[0m\u001b[0mid2token\u001b[0m\u001b[0;34m(\u001b[0m\u001b[0mdataset\u001b[0m\u001b[0;34m.\u001b[0m\u001b[0miid_field\u001b[0m\u001b[0;34m,\u001b[0m \u001b[0minter_topk_items\u001b[0m\u001b[0;34m.\u001b[0m\u001b[0mcpu\u001b[0m\u001b[0;34m(\u001b[0m\u001b[0;34m)\u001b[0m\u001b[0;34m)\u001b[0m\u001b[0;34m.\u001b[0m\u001b[0mtolist\u001b[0m\u001b[0;34m(\u001b[0m\u001b[0;34m)\u001b[0m\u001b[0;34m)\u001b[0m\u001b[0;34m\u001b[0m\u001b[0;34m\u001b[0m\u001b[0m\n",
      "\u001b[0;32m/tmp/ipykernel_76868/3187832814.py\u001b[0m in \u001b[0;36mpredict_item\u001b[0;34m(external_user_id, dataset, model)\u001b[0m\n\u001b[1;32m      7\u001b[0m     \u001b[0mmodel\u001b[0m\u001b[0;34m.\u001b[0m\u001b[0meval\u001b[0m\u001b[0;34m(\u001b[0m\u001b[0;34m)\u001b[0m\u001b[0;34m\u001b[0m\u001b[0;34m\u001b[0m\u001b[0m\n\u001b[1;32m      8\u001b[0m     \u001b[0;32mwith\u001b[0m \u001b[0mtorch\u001b[0m\u001b[0;34m.\u001b[0m\u001b[0mno_grad\u001b[0m\u001b[0;34m(\u001b[0m\u001b[0;34m)\u001b[0m\u001b[0;34m:\u001b[0m\u001b[0;34m\u001b[0m\u001b[0;34m\u001b[0m\u001b[0m\n\u001b[0;32m----> 9\u001b[0;31m         \u001b[0muid_series\u001b[0m \u001b[0;34m=\u001b[0m \u001b[0mdataset\u001b[0m\u001b[0;34m.\u001b[0m\u001b[0mtoken2id\u001b[0m\u001b[0;34m(\u001b[0m\u001b[0mdataset\u001b[0m\u001b[0;34m.\u001b[0m\u001b[0muid_field\u001b[0m\u001b[0;34m,\u001b[0m \u001b[0;34m[\u001b[0m\u001b[0mexternal_user_id\u001b[0m\u001b[0;34m]\u001b[0m\u001b[0;34m)\u001b[0m\u001b[0;34m\u001b[0m\u001b[0;34m\u001b[0m\u001b[0m\n\u001b[0m\u001b[1;32m     10\u001b[0m         \u001b[0mindex\u001b[0m \u001b[0;34m=\u001b[0m \u001b[0mnp\u001b[0m\u001b[0;34m.\u001b[0m\u001b[0misin\u001b[0m\u001b[0;34m(\u001b[0m\u001b[0mdataset\u001b[0m\u001b[0;34m.\u001b[0m\u001b[0minter_feat\u001b[0m\u001b[0;34m[\u001b[0m\u001b[0mdataset\u001b[0m\u001b[0;34m.\u001b[0m\u001b[0muid_field\u001b[0m\u001b[0;34m]\u001b[0m\u001b[0;34m.\u001b[0m\u001b[0mnumpy\u001b[0m\u001b[0;34m(\u001b[0m\u001b[0;34m)\u001b[0m\u001b[0;34m,\u001b[0m \u001b[0muid_series\u001b[0m\u001b[0;34m)\u001b[0m\u001b[0;34m\u001b[0m\u001b[0;34m\u001b[0m\u001b[0m\n\u001b[1;32m     11\u001b[0m         \u001b[0minput_interaction\u001b[0m \u001b[0;34m=\u001b[0m \u001b[0mdataset\u001b[0m\u001b[0;34m[\u001b[0m\u001b[0mindex\u001b[0m\u001b[0;34m]\u001b[0m\u001b[0;34m\u001b[0m\u001b[0;34m\u001b[0m\u001b[0m\n",
      "\u001b[0;32m/home/RecBole/recbole/data/dataloader/abstract_dataloader.py\u001b[0m in \u001b[0;36m__getattribute__\u001b[0;34m(self, _AbstractDataLoader__name)\u001b[0m\n\u001b[1;32m    110\u001b[0m         \u001b[0;32mif\u001b[0m \u001b[0;32mnot\u001b[0m \u001b[0mstart_iter\u001b[0m \u001b[0;32mand\u001b[0m \u001b[0m__name\u001b[0m \u001b[0;34m==\u001b[0m \u001b[0;34m\"dataset\"\u001b[0m\u001b[0;34m:\u001b[0m\u001b[0;34m\u001b[0m\u001b[0;34m\u001b[0m\u001b[0m\n\u001b[1;32m    111\u001b[0m             \u001b[0m__name\u001b[0m \u001b[0;34m=\u001b[0m \u001b[0;34m\"_dataset\"\u001b[0m\u001b[0;34m\u001b[0m\u001b[0;34m\u001b[0m\u001b[0m\n\u001b[0;32m--> 112\u001b[0;31m         \u001b[0;32mreturn\u001b[0m \u001b[0msuper\u001b[0m\u001b[0;34m(\u001b[0m\u001b[0;34m)\u001b[0m\u001b[0;34m.\u001b[0m\u001b[0m__getattribute__\u001b[0m\u001b[0;34m(\u001b[0m\u001b[0m__name\u001b[0m\u001b[0;34m)\u001b[0m\u001b[0;34m\u001b[0m\u001b[0;34m\u001b[0m\u001b[0m\n\u001b[0m\u001b[1;32m    113\u001b[0m \u001b[0;34m\u001b[0m\u001b[0m\n\u001b[1;32m    114\u001b[0m \u001b[0;34m\u001b[0m\u001b[0m\n",
      "\u001b[0;31mAttributeError\u001b[0m: 'FullSortEvalDataLoader' object has no attribute 'token2id'"
     ]
    }
   ],
   "source": [
    "\"\"\" \n",
    "\n",
    "This is For-Loop for Inference Target User's buying next Period\n",
    "\n",
    "[Inference Step]\n",
    "1) Range: [0, 25000] => Colab\n",
    "2) Range: [25000, 50000] => Kaggle Notebook Stream\n",
    "3) Range: [50000, 105333] => Kaggle Notebook Background\n",
    "\n",
    "\"\"\"\n",
    "outer_topk_item_list = []\n",
    "\n",
    "for uuser in tqdm(external_user_ids):\n",
    "    result = predict_item(uuser, test_data, model)\n",
    "    inter_topk_items = result[-1][-1]\n",
    "    outer_topk_item_list.append(dataset.id2token(dataset.iid_field, inter_topk_items.cpu()).tolist())\n",
    "\n",
    "    del result, inter_topk_items\n",
    "    gc.collect()"
   ]
  },
  {
   "cell_type": "code",
   "execution_count": null,
   "id": "92e457f0-62f3-4c2d-8b8b-525f193ad9d5",
   "metadata": {},
   "outputs": [],
   "source": [
    "group_one_submission = pd.DataFrame(external_user_ids[50000:105333],\n",
    "                                    columns=['customer_id'])\n",
    "group_one_submission['prediction'] = [' '.join(outer_topk_item) for outer_topk_item in outer_topk_item_list]\n",
    "group_one_submission.to_csv('(Range_3)final_group_submission.csv', index=False)\n",
    "group_one_submission.head()"
   ]
  }
 ],
 "metadata": {
  "kernelspec": {
   "display_name": "Python 3 (ipykernel)",
   "language": "python",
   "name": "python3"
  },
  "language_info": {
   "codemirror_mode": {
    "name": "ipython",
    "version": 3
   },
   "file_extension": ".py",
   "mimetype": "text/x-python",
   "name": "python",
   "nbconvert_exporter": "python",
   "pygments_lexer": "ipython3",
   "version": "3.7.11"
  },
  "widgets": {
   "application/vnd.jupyter.widget-state+json": {
    "state": {
     "196e25bdefc3417fb1124ecc74b33064": {
      "model_module": "@jupyter-widgets/controls",
      "model_module_version": "2.0.0",
      "model_name": "HTMLStyleModel",
      "state": {
       "description_width": "",
       "font_size": null,
       "text_color": null
      }
     },
     "19ac55dae21f45c1bbb66bf28c150347": {
      "model_module": "@jupyter-widgets/controls",
      "model_module_version": "2.0.0",
      "model_name": "HTMLModel",
      "state": {
       "layout": "IPY_MODEL_b1ca818da14b4b2e807b2d9596258b31",
       "style": "IPY_MODEL_2d4f7a8c96af450db407d433168608a7",
       "value": " 0/943 [00:00&lt;?, ?it/s]"
      }
     },
     "1dfccf751b4b4348bd9b1a42dc6570af": {
      "model_module": "@jupyter-widgets/controls",
      "model_module_version": "2.0.0",
      "model_name": "HBoxModel",
      "state": {
       "children": [
        "IPY_MODEL_43d5bc3115a84aa6992eab6a3b265db1",
        "IPY_MODEL_a94ed745a46043e98367f7c1f64717fa",
        "IPY_MODEL_19ac55dae21f45c1bbb66bf28c150347"
       ],
       "layout": "IPY_MODEL_959d05d34ae44d3fa9a904cd2bb0392d"
      }
     },
     "2d4f7a8c96af450db407d433168608a7": {
      "model_module": "@jupyter-widgets/controls",
      "model_module_version": "2.0.0",
      "model_name": "HTMLStyleModel",
      "state": {
       "description_width": "",
       "font_size": null,
       "text_color": null
      }
     },
     "43d5bc3115a84aa6992eab6a3b265db1": {
      "model_module": "@jupyter-widgets/controls",
      "model_module_version": "2.0.0",
      "model_name": "HTMLModel",
      "state": {
       "layout": "IPY_MODEL_c1531c0472ff4aa6bab20614dc5fea46",
       "style": "IPY_MODEL_196e25bdefc3417fb1124ecc74b33064",
       "value": "  0%"
      }
     },
     "4dfdaf772f64466393a5870dc66053b8": {
      "model_module": "@jupyter-widgets/base",
      "model_module_version": "2.0.0",
      "model_name": "LayoutModel",
      "state": {}
     },
     "61147b78869342a6b39baefa0b8b60db": {
      "model_module": "@jupyter-widgets/controls",
      "model_module_version": "2.0.0",
      "model_name": "ProgressStyleModel",
      "state": {
       "description_width": ""
      }
     },
     "959d05d34ae44d3fa9a904cd2bb0392d": {
      "model_module": "@jupyter-widgets/base",
      "model_module_version": "2.0.0",
      "model_name": "LayoutModel",
      "state": {}
     },
     "a94ed745a46043e98367f7c1f64717fa": {
      "model_module": "@jupyter-widgets/controls",
      "model_module_version": "2.0.0",
      "model_name": "FloatProgressModel",
      "state": {
       "bar_style": "danger",
       "layout": "IPY_MODEL_4dfdaf772f64466393a5870dc66053b8",
       "max": 943,
       "style": "IPY_MODEL_61147b78869342a6b39baefa0b8b60db"
      }
     },
     "b1ca818da14b4b2e807b2d9596258b31": {
      "model_module": "@jupyter-widgets/base",
      "model_module_version": "2.0.0",
      "model_name": "LayoutModel",
      "state": {}
     },
     "c1531c0472ff4aa6bab20614dc5fea46": {
      "model_module": "@jupyter-widgets/base",
      "model_module_version": "2.0.0",
      "model_name": "LayoutModel",
      "state": {}
     }
    },
    "version_major": 2,
    "version_minor": 0
   }
  }
 },
 "nbformat": 4,
 "nbformat_minor": 5
}
