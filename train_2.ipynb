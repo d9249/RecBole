{
 "cells": [
  {
   "cell_type": "code",
   "execution_count": 1,
   "id": "779fcafb-fbcd-4451-8243-3a696a70f7dc",
   "metadata": {},
   "outputs": [],
   "source": [
    "from logging import getLogger\n",
    "from recbole.config import Config\n",
    "from recbole.data import create_dataset, data_preparation\n",
    "from recbole.model.general_recommender import LightGCN\n",
    "from recbole.trainer import Trainer, PretrainTrainer\n",
    "from recbole.utils import init_seed, init_logger\n",
    "from recbole.utils import get_model, get_trainer\n",
    "from recbole.utils.case_study import full_sort_topk, full_sort_scores"
   ]
  },
  {
   "cell_type": "code",
   "execution_count": 2,
   "id": "9f6efb52-51d0-458c-b964-a4f92c0315cf",
   "metadata": {},
   "outputs": [],
   "source": [
    "config = Config(model='LightGCN', dataset='Custom_ml-100k_2')"
   ]
  },
  {
   "cell_type": "code",
   "execution_count": 3,
   "id": "a467266e-1eae-40a9-9772-2fbe86821a5e",
   "metadata": {},
   "outputs": [],
   "source": [
    "# init random seed\n",
    "init_seed(config['seed'], config['reproducibility'])"
   ]
  },
  {
   "cell_type": "code",
   "execution_count": 4,
   "id": "03017780-4d64-40c6-a78d-1cbd0a7a9d76",
   "metadata": {},
   "outputs": [],
   "source": [
    "# logger initialization\n",
    "init_logger(config)\n",
    "logger = getLogger()"
   ]
  },
  {
   "cell_type": "code",
   "execution_count": 5,
   "id": "be7bd86e-a27e-4837-9365-46ad826085c4",
   "metadata": {
    "tags": []
   },
   "outputs": [
    {
     "name": "stderr",
     "output_type": "stream",
     "text": [
      "07 Feb 18:14    INFO  \n",
      "General Hyper Parameters:\n",
      "gpu_id = 0\n",
      "use_gpu = True\n",
      "seed = 2023\n",
      "state = INFO\n",
      "reproducibility = True\n",
      "data_path = /home/RecBole/dataset/Custom_ml-100k_2\n",
      "checkpoint_dir = /home/RecBole/saved/\n",
      "show_progress = True\n",
      "save_dataset = True\n",
      "dataset_save_path = saved_dataset\n",
      "save_dataloaders = True\n",
      "dataloaders_save_path = saved_dataloaders\n",
      "log_wandb = True\n",
      "\n",
      "Training Hyper Parameters:\n",
      "epochs = 100\n",
      "train_batch_size = 4048\n",
      "learner = adam\n",
      "learning_rate = 0.001\n",
      "train_neg_sample_args = {'distribution': 'uniform', 'sample_num': 1, 'alpha': 1.0, 'dynamic': False, 'candidate_num': 0}\n",
      "eval_step = 1\n",
      "stopping_step = 1000\n",
      "clip_grad_norm = None\n",
      "weight_decay = 0.0001\n",
      "loss_decimal_place = 4\n",
      "\n",
      "Evaluation Hyper Parameters:\n",
      "eval_args = {'split': {'RS': [0.675, 0.075, 0.25]}, 'group_by': 'user', 'order': 'RO', 'mode': 'full'}\n",
      "repeatable = False\n",
      "metrics = ['Recall', 'MRR', 'NDCG', 'Hit', 'MAP', 'Precision', 'GAUC', 'ItemCoverage', 'AveragePopularity', 'GiniIndex', 'ShannonEntropy', 'TailPercentage']\n",
      "topk = [20]\n",
      "valid_metric = MRR@20\n",
      "valid_metric_bigger = True\n",
      "eval_batch_size = 4048\n",
      "metric_decimal_place = 4\n",
      "\n",
      "Dataset Hyper Parameters:\n",
      "load_col = {'inter': ['user_id', 'item_id', 'rating', 'timestamp']}\n",
      "field_separator = \t\n",
      "seq_separator =  \n",
      "USER_ID_FIELD = user_id\n",
      "ITEM_ID_FIELD = item_id\n",
      "RATING_FIELD = rating\n",
      "TIME_FIELD = timestamp\n",
      "seq_len = None\n",
      "LABEL_FIELD = label\n",
      "threshold = None\n",
      "NEG_PREFIX = neg_\n",
      "unload_col = None\n",
      "unused_col = None\n",
      "additional_feat_suffix = None\n",
      "rm_dup_inter = None\n",
      "val_interval = None\n",
      "filter_inter_by_user_or_item = True\n",
      "user_inter_num_interval = None\n",
      "item_inter_num_interval = None\n",
      "alias_of_user_id = None\n",
      "alias_of_item_id = None\n",
      "alias_of_entity_id = None\n",
      "alias_of_relation_id = None\n",
      "preload_weight = None\n",
      "normalize_field = None\n",
      "normalize_all = True\n",
      "ITEM_LIST_LENGTH_FIELD = item_length\n",
      "LIST_SUFFIX = _list\n",
      "MAX_ITEM_LIST_LENGTH = 50\n",
      "POSITION_FIELD = position_id\n",
      "HEAD_ENTITY_ID_FIELD = head_id\n",
      "TAIL_ENTITY_ID_FIELD = tail_id\n",
      "RELATION_ID_FIELD = relation_id\n",
      "ENTITY_ID_FIELD = entity_id\n",
      "kg_reverse_r = False\n",
      "entity_kg_num_interval = None\n",
      "relation_kg_num_interval = None\n",
      "benchmark_filename = None\n",
      "\n",
      "Other Hyper Parameters: \n",
      "worker = 0\n",
      "saved_model_file = True\n",
      "wandb_project = recbole\n",
      "shuffle = True\n",
      "pretrain_epochs = 10\n",
      "save_step = 5\n",
      "require_pow = False\n",
      "enable_amp = False\n",
      "enable_scaler = False\n",
      "transform = None\n",
      "embedding_size = 64\n",
      "n_layers = 4\n",
      "reg_weight = 1e-05\n",
      "numerical_features = []\n",
      "discretization = None\n",
      "MODEL_TYPE = ModelType.GENERAL\n",
      "MODEL_INPUT_TYPE = InputType.PAIRWISE\n",
      "eval_type = EvaluatorType.RANKING\n",
      "single_spec = True\n",
      "local_rank = 0\n",
      "device = cuda\n",
      "eval_neg_sample_args = {'distribution': 'uniform', 'sample_num': 'none'}\n",
      "\n",
      "\n"
     ]
    }
   ],
   "source": [
    "# write config info into log\n",
    "logger.info(config)"
   ]
  },
  {
   "cell_type": "code",
   "execution_count": 6,
   "id": "898a77f2-232b-4295-b140-31c03faadbdf",
   "metadata": {},
   "outputs": [
    {
     "name": "stderr",
     "output_type": "stream",
     "text": [
      "07 Feb 18:14    INFO  Saving filtered dataset into [/home/RecBole/saved/Custom_ml-100k_2-dataset.pth]\n",
      "07 Feb 18:14    INFO  Custom_ml-100k_2\n",
      "The number of users: 587\n",
      "Average actions of users: 85.32423208191126\n",
      "The number of items: 1622\n",
      "Average actions of items: 30.845157310302284\n",
      "The number of inters: 50000\n",
      "The sparsity of the dataset: 94.74852801240188%\n",
      "Remain Fields: ['user_id', 'item_id', 'rating', 'timestamp']\n"
     ]
    }
   ],
   "source": [
    "# dataset creating and filtering\n",
    "dataset = create_dataset(config)\n",
    "logger.info(dataset)"
   ]
  },
  {
   "cell_type": "code",
   "execution_count": 7,
   "id": "e2200a9e-e0a6-4750-9bc8-f75f8f42c67d",
   "metadata": {},
   "outputs": [
    {
     "name": "stderr",
     "output_type": "stream",
     "text": [
      "07 Feb 18:14    INFO  Saving split dataloaders into: [/home/RecBole/saved/Custom_ml-100k_2-for-LightGCN-dataloader.pth]\n",
      "07 Feb 18:14    INFO  [Training]: train_batch_size = [4048] train_neg_sample_args: [{'distribution': 'uniform', 'sample_num': 1, 'alpha': 1.0, 'dynamic': False, 'candidate_num': 0}]\n",
      "07 Feb 18:14    INFO  [Evaluation]: eval_batch_size = [4048] eval_args: [{'split': {'RS': [0.675, 0.075, 0.25]}, 'group_by': 'user', 'order': 'RO', 'mode': 'full'}]\n"
     ]
    }
   ],
   "source": [
    "# dataset splitting\n",
    "train_data, valid_data, test_data = data_preparation(config, dataset)"
   ]
  },
  {
   "cell_type": "code",
   "execution_count": 8,
   "id": "4e591d22-8bf4-4875-9441-5d51ef668185",
   "metadata": {},
   "outputs": [
    {
     "data": {
      "text/plain": [
       "9"
      ]
     },
     "execution_count": 8,
     "metadata": {},
     "output_type": "execute_result"
    }
   ],
   "source": [
    "len(train_data)"
   ]
  },
  {
   "cell_type": "code",
   "execution_count": 9,
   "id": "c5828a5e-7411-49c7-8c87-554c13700216",
   "metadata": {},
   "outputs": [
    {
     "data": {
      "text/plain": [
       "<recbole.data.dataloader.general_dataloader.TrainDataLoader at 0x7fd742b0afd0>"
      ]
     },
     "execution_count": 9,
     "metadata": {},
     "output_type": "execute_result"
    }
   ],
   "source": [
    "train_data"
   ]
  },
  {
   "cell_type": "code",
   "execution_count": 10,
   "id": "c7f17e44-85ef-4a10-b0f6-7daf8422fdeb",
   "metadata": {},
   "outputs": [
    {
     "data": {
      "text/plain": [
       "292"
      ]
     },
     "execution_count": 10,
     "metadata": {},
     "output_type": "execute_result"
    }
   ],
   "source": [
    "len(valid_data)"
   ]
  },
  {
   "cell_type": "code",
   "execution_count": 11,
   "id": "4c38e7a9-6f23-40dc-ba67-c720913f36f2",
   "metadata": {},
   "outputs": [
    {
     "data": {
      "text/plain": [
       "293"
      ]
     },
     "execution_count": 11,
     "metadata": {},
     "output_type": "execute_result"
    }
   ],
   "source": [
    "len(test_data)"
   ]
  },
  {
   "cell_type": "code",
   "execution_count": 12,
   "id": "ba791e0f-bc4c-4dfb-9926-c7ef876b6ef0",
   "metadata": {},
   "outputs": [
    {
     "data": {
      "text/plain": [
       "<recbole.data.dataloader.general_dataloader.FullSortEvalDataLoader at 0x7fd73223a790>"
      ]
     },
     "execution_count": 12,
     "metadata": {},
     "output_type": "execute_result"
    }
   ],
   "source": [
    "test_data"
   ]
  },
  {
   "cell_type": "code",
   "execution_count": 13,
   "id": "be2cfc01-99bb-49e0-a8f7-85bd1b88b254",
   "metadata": {},
   "outputs": [
    {
     "name": "stderr",
     "output_type": "stream",
     "text": [
      "07 Feb 18:14    INFO  LightGCN(\n",
      "  (user_embedding): Embedding(587, 64)\n",
      "  (item_embedding): Embedding(1622, 64)\n",
      "  (mf_loss): BPRLoss()\n",
      "  (reg_loss): EmbLoss()\n",
      ")\n",
      "Trainable parameters: 141376\n"
     ]
    }
   ],
   "source": [
    "# model loading and initialization\n",
    "model = LightGCN(config, train_data.dataset).to(config['device'])\n",
    "logger.info(model)"
   ]
  },
  {
   "cell_type": "code",
   "execution_count": 14,
   "id": "6e68444c-d51f-4edf-adfc-45d2a58da3bf",
   "metadata": {},
   "outputs": [
    {
     "name": "stderr",
     "output_type": "stream",
     "text": [
      "07 Feb 18:14    ERROR  Failed to detect the name of this notebook, you can set it manually with the WANDB_NOTEBOOK_NAME environment variable to enable code saving.\n",
      "wandb: Currently logged in as: d9249. Use `wandb login --relogin` to force relogin\n"
     ]
    },
    {
     "data": {
      "text/html": [
       "wandb version 0.13.9 is available!  To upgrade, please run:\n",
       " $ pip install wandb --upgrade"
      ],
      "text/plain": [
       "<IPython.core.display.HTML object>"
      ]
     },
     "metadata": {},
     "output_type": "display_data"
    },
    {
     "data": {
      "text/html": [
       "Tracking run with wandb version 0.13.5"
      ],
      "text/plain": [
       "<IPython.core.display.HTML object>"
      ]
     },
     "metadata": {},
     "output_type": "display_data"
    },
    {
     "data": {
      "text/html": [
       "Run data is saved locally in <code>/home/RecBole/wandb/run-20230207_181418-1j4jsqm6</code>"
      ],
      "text/plain": [
       "<IPython.core.display.HTML object>"
      ]
     },
     "metadata": {},
     "output_type": "display_data"
    },
    {
     "data": {
      "text/html": [
       "Syncing run <strong><a href=\"https://wandb.ai/d9249/recbole/runs/1j4jsqm6\" target=\"_blank\">icy-armadillo-246</a></strong> to <a href=\"https://wandb.ai/d9249/recbole\" target=\"_blank\">Weights & Biases</a> (<a href=\"https://wandb.me/run\" target=\"_blank\">docs</a>)<br/>"
      ],
      "text/plain": [
       "<IPython.core.display.HTML object>"
      ]
     },
     "metadata": {},
     "output_type": "display_data"
    },
    {
     "name": "stderr",
     "output_type": "stream",
     "text": [
      "07 Feb 18:14    WARNING  The parameters [weight_decay] and [reg_weight] are specified simultaneously, which may lead to double regularization.\n"
     ]
    }
   ],
   "source": [
    "trainer = Trainer(config, model)"
   ]
  },
  {
   "cell_type": "code",
   "execution_count": 15,
   "id": "a7c215ae-6d93-4b3b-b218-8343602e8cf7",
   "metadata": {
    "collapsed": true,
    "jupyter": {
     "outputs_hidden": true
    },
    "tags": []
   },
   "outputs": [
    {
     "name": "stderr",
     "output_type": "stream",
     "text": [
      "07 Feb 18:14    INFO  epoch 0 training [time: 0.27s, train loss: 5.4081]\n"
     ]
    },
    {
     "name": "stdout",
     "output_type": "stream",
     "text": [
      "interaction :  The batch_size of interaction: 2\n",
      "    user_id, torch.Size([2]), cpu, torch.int64\n",
      "\n",
      "\n",
      "scores :  tensor([[  -inf, 1.6738, 1.5823,  ..., 0.1810, 0.1725, 0.1835],\n",
      "        [  -inf, 0.8600, 0.7271,  ..., 0.0814, 0.0825, 0.0814]],\n",
      "       device='cuda:0')\n",
      "scores size :  torch.Size([2, 1622])\n",
      "positive_u :  tensor([0, 0, 0, 0, 0, 0, 0, 0, 0, 1])\n",
      "positive_i:  tensor([224, 194, 663, 393, 425, 464, 820, 375, 152, 306])\n",
      "result :  OrderedDict([('recall@20', 0.1823), ('mrr@20', 0.1451), ('ndcg@20', 0.1122), ('hit@20', 0.476), ('map@20', 0.0599), ('precision@20', 0.0342), ('gauc', 0.8231), ('itemcoverage@20', 0.0419), ('averagepopularity@20', 139.2655), ('giniindex@20', 0.9819), ('shannonentropy@20', 0.0529), ('tailpercentage@20', 0.0), ('F1', 0.05759501154734411)])\n"
     ]
    },
    {
     "name": "stderr",
     "output_type": "stream",
     "text": [
      "07 Feb 18:14    INFO  epoch 0 evaluating [time: 0.57s, valid_score: 0.145100]\n",
      "07 Feb 18:14    INFO  valid result: \n",
      "recall@20 : 0.1823    mrr@20 : 0.1451    ndcg@20 : 0.1122    hit@20 : 0.476    map@20 : 0.0599    precision@20 : 0.0342    gauc : 0.8231    itemcoverage@20 : 0.0419    averagepopularity@20 : 139.2655    giniindex@20 : 0.9819    shannonentropy@20 : 0.0529    tailpercentage@20 : 0.0    F1 : 0.05759501154734411\n",
      "07 Feb 18:14    INFO  Saving current: /home/RecBole/saved/LightGCN-Feb-07-2023_18-14-24.pth\n",
      "07 Feb 18:14    INFO  epoch 1 training [time: 0.05s, train loss: 3.9128]\n"
     ]
    },
    {
     "name": "stdout",
     "output_type": "stream",
     "text": [
      "interaction :  The batch_size of interaction: 2\n",
      "    user_id, torch.Size([2]), cpu, torch.int64\n",
      "\n",
      "\n",
      "scores :  tensor([[  -inf, 4.6692, 4.5474,  ..., 0.5362, 0.4549, 0.5421],\n",
      "        [  -inf, 2.3964, 2.0916,  ..., 0.2437, 0.2153, 0.2454]],\n",
      "       device='cuda:0')\n",
      "scores size :  torch.Size([2, 1622])\n",
      "positive_u :  tensor([0, 0, 0, 0, 0, 0, 0, 0, 0, 1])\n",
      "positive_i:  tensor([224, 194, 663, 393, 425, 464, 820, 375, 152, 306])\n",
      "result :  OrderedDict([('recall@20', 0.1839), ('mrr@20', 0.1458), ('ndcg@20', 0.1126), ('hit@20', 0.476), ('map@20', 0.0592), ('precision@20', 0.0354), ('gauc', 0.824), ('itemcoverage@20', 0.0444), ('averagepopularity@20', 139.7841), ('giniindex@20', 0.9817), ('shannonentropy@20', 0.0502), ('tailpercentage@20', 0.0), ('F1', 0.05937127222982217)])\n"
     ]
    },
    {
     "name": "stderr",
     "output_type": "stream",
     "text": [
      "07 Feb 18:14    INFO  epoch 1 evaluating [time: 0.22s, valid_score: 0.145800]\n",
      "07 Feb 18:14    INFO  valid result: \n",
      "recall@20 : 0.1839    mrr@20 : 0.1458    ndcg@20 : 0.1126    hit@20 : 0.476    map@20 : 0.0592    precision@20 : 0.0354    gauc : 0.824    itemcoverage@20 : 0.0444    averagepopularity@20 : 139.7841    giniindex@20 : 0.9817    shannonentropy@20 : 0.0502    tailpercentage@20 : 0.0    F1 : 0.05937127222982217\n",
      "07 Feb 18:14    INFO  Saving current: /home/RecBole/saved/LightGCN-Feb-07-2023_18-14-24.pth\n",
      "07 Feb 18:14    INFO  epoch 2 training [time: 0.06s, train loss: 3.7519]\n"
     ]
    },
    {
     "name": "stdout",
     "output_type": "stream",
     "text": [
      "interaction :  The batch_size of interaction: 2\n",
      "    user_id, torch.Size([2]), cpu, torch.int64\n",
      "\n",
      "\n",
      "scores :  tensor([[  -inf, 3.7844, 4.6070,  ..., 0.5292, 0.3359, 0.5567],\n",
      "        [  -inf, 2.0395, 1.9230,  ..., 0.2164, 0.1480, 0.2259]],\n",
      "       device='cuda:0')\n",
      "scores size :  torch.Size([2, 1622])\n",
      "positive_u :  tensor([0, 0, 0, 0, 0, 0, 0, 0, 0, 1])\n",
      "positive_i:  tensor([224, 194, 663, 393, 425, 464, 820, 375, 152, 306])\n",
      "result :  OrderedDict([('recall@20', 0.1966), ('mrr@20', 0.1535), ('ndcg@20', 0.1207), ('hit@20', 0.512), ('map@20', 0.0623), ('precision@20', 0.0398), ('gauc', 0.8322), ('itemcoverage@20', 0.0586), ('averagepopularity@20', 135.8779), ('giniindex@20', 0.977), ('shannonentropy@20', 0.041), ('tailpercentage@20', 0.0), ('F1', 0.06619864636209814)])\n"
     ]
    },
    {
     "name": "stderr",
     "output_type": "stream",
     "text": [
      "07 Feb 18:14    INFO  epoch 2 evaluating [time: 0.19s, valid_score: 0.153500]\n",
      "07 Feb 18:14    INFO  valid result: \n",
      "recall@20 : 0.1966    mrr@20 : 0.1535    ndcg@20 : 0.1207    hit@20 : 0.512    map@20 : 0.0623    precision@20 : 0.0398    gauc : 0.8322    itemcoverage@20 : 0.0586    averagepopularity@20 : 135.8779    giniindex@20 : 0.977    shannonentropy@20 : 0.041    tailpercentage@20 : 0.0    F1 : 0.06619864636209814\n",
      "07 Feb 18:14    INFO  Saving current: /home/RecBole/saved/LightGCN-Feb-07-2023_18-14-24.pth\n",
      "07 Feb 18:14    INFO  epoch 3 training [time: 0.12s, train loss: 3.4623]\n"
     ]
    },
    {
     "name": "stdout",
     "output_type": "stream",
     "text": [
      "interaction :  The batch_size of interaction: 2\n",
      "    user_id, torch.Size([2]), cpu, torch.int64\n",
      "\n",
      "\n",
      "scores :  tensor([[  -inf, 1.8832, 3.5194,  ..., 0.3882, 0.1257, 0.4342],\n",
      "        [  -inf, 1.3788, 1.2564,  ..., 0.1318, 0.0512, 0.1453]],\n",
      "       device='cuda:0')\n",
      "scores size :  torch.Size([2, 1622])\n",
      "positive_u :  tensor([0, 0, 0, 0, 0, 0, 0, 0, 0, 1])\n",
      "positive_i:  tensor([224, 194, 663, 393, 425, 464, 820, 375, 152, 306])\n",
      "result :  OrderedDict([('recall@20', 0.2208), ('mrr@20', 0.1787), ('ndcg@20', 0.1383), ('hit@20', 0.5668), ('map@20', 0.0722), ('precision@20', 0.0463), ('gauc', 0.8458), ('itemcoverage@20', 0.074), ('averagepopularity@20', 125.5217), ('giniindex@20', 0.9682), ('shannonentropy@20', 0.0351), ('tailpercentage@20', 0.0), ('F1', 0.07654840883564207)])\n"
     ]
    },
    {
     "name": "stderr",
     "output_type": "stream",
     "text": [
      "07 Feb 18:14    INFO  epoch 3 evaluating [time: 0.19s, valid_score: 0.178700]\n",
      "07 Feb 18:14    INFO  valid result: \n",
      "recall@20 : 0.2208    mrr@20 : 0.1787    ndcg@20 : 0.1383    hit@20 : 0.5668    map@20 : 0.0722    precision@20 : 0.0463    gauc : 0.8458    itemcoverage@20 : 0.074    averagepopularity@20 : 125.5217    giniindex@20 : 0.9682    shannonentropy@20 : 0.0351    tailpercentage@20 : 0.0    F1 : 0.07654840883564207\n",
      "07 Feb 18:14    INFO  Saving current: /home/RecBole/saved/LightGCN-Feb-07-2023_18-14-24.pth\n",
      "07 Feb 18:14    INFO  epoch 4 training [time: 0.13s, train loss: 3.2689]\n"
     ]
    },
    {
     "name": "stdout",
     "output_type": "stream",
     "text": [
      "interaction :  The batch_size of interaction: 2\n",
      "    user_id, torch.Size([2]), cpu, torch.int64\n",
      "\n",
      "\n",
      "scores :  tensor([[  -inf, 1.6351, 3.5893,  ..., 0.3831, 0.0391, 0.4461],\n",
      "        [  -inf, 1.6789, 1.2174,  ..., 0.1221, 0.0217, 0.1362]],\n",
      "       device='cuda:0')\n",
      "scores size :  torch.Size([2, 1622])\n",
      "positive_u :  tensor([0, 0, 0, 0, 0, 0, 0, 0, 0, 1])\n",
      "positive_i:  tensor([224, 194, 663, 393, 425, 464, 820, 375, 152, 306])\n",
      "result :  OrderedDict([('recall@20', 0.2218), ('mrr@20', 0.1722), ('ndcg@20', 0.1361), ('hit@20', 0.5565), ('map@20', 0.0697), ('precision@20', 0.0467), ('gauc', 0.8507), ('itemcoverage@20', 0.0795), ('averagepopularity@20', 121.8067), ('giniindex@20', 0.9663), ('shannonentropy@20', 0.033), ('tailpercentage@20', 0.0), ('F1', 0.07715500931098696)])\n"
     ]
    },
    {
     "name": "stderr",
     "output_type": "stream",
     "text": [
      "07 Feb 18:14    INFO  epoch 4 evaluating [time: 0.20s, valid_score: 0.172200]\n",
      "07 Feb 18:14    INFO  valid result: \n",
      "recall@20 : 0.2218    mrr@20 : 0.1722    ndcg@20 : 0.1361    hit@20 : 0.5565    map@20 : 0.0697    precision@20 : 0.0467    gauc : 0.8507    itemcoverage@20 : 0.0795    averagepopularity@20 : 121.8067    giniindex@20 : 0.9663    shannonentropy@20 : 0.033    tailpercentage@20 : 0.0    F1 : 0.07715500931098696\n",
      "07 Feb 18:14    INFO  epoch 5 training [time: 0.08s, train loss: 3.0925]\n"
     ]
    },
    {
     "name": "stdout",
     "output_type": "stream",
     "text": [
      "interaction :  The batch_size of interaction: 2\n",
      "    user_id, torch.Size([2]), cpu, torch.int64\n",
      "\n",
      "\n",
      "scores :  tensor([[  -inf, 1.9988, 4.2259,  ..., 0.4438, 0.0046, 0.5210],\n",
      "        [  -inf, 2.2988, 1.4445,  ..., 0.1443, 0.0134, 0.1561]],\n",
      "       device='cuda:0')\n",
      "scores size :  torch.Size([2, 1622])\n",
      "positive_u :  tensor([0, 0, 0, 0, 0, 0, 0, 0, 0, 1])\n",
      "positive_i:  tensor([224, 194, 663, 393, 425, 464, 820, 375, 152, 306])\n",
      "result :  OrderedDict([('recall@20', 0.2227), ('mrr@20', 0.1714), ('ndcg@20', 0.1361), ('hit@20', 0.5582), ('map@20', 0.0699), ('precision@20', 0.0468), ('gauc', 0.8521), ('itemcoverage@20', 0.0826), ('averagepopularity@20', 121.481), ('giniindex@20', 0.9671), ('shannonentropy@20', 0.0317), ('tailpercentage@20', 0.0), ('F1', 0.07734589981447124)])\n"
     ]
    },
    {
     "name": "stderr",
     "output_type": "stream",
     "text": [
      "07 Feb 18:14    INFO  epoch 5 evaluating [time: 0.21s, valid_score: 0.171400]\n",
      "07 Feb 18:14    INFO  valid result: \n",
      "recall@20 : 0.2227    mrr@20 : 0.1714    ndcg@20 : 0.1361    hit@20 : 0.5582    map@20 : 0.0699    precision@20 : 0.0468    gauc : 0.8521    itemcoverage@20 : 0.0826    averagepopularity@20 : 121.481    giniindex@20 : 0.9671    shannonentropy@20 : 0.0317    tailpercentage@20 : 0.0    F1 : 0.07734589981447124\n",
      "07 Feb 18:14    INFO  epoch 6 training [time: 0.05s, train loss: 2.9830]\n"
     ]
    },
    {
     "name": "stdout",
     "output_type": "stream",
     "text": [
      "interaction :  The batch_size of interaction: 2\n",
      "    user_id, torch.Size([2]), cpu, torch.int64\n",
      "\n",
      "\n",
      "scores :  tensor([[   -inf,  1.6914,  4.3315,  ...,  0.4399, -0.0601,  0.5350],\n",
      "        [   -inf,  2.5051,  1.3688,  ...,  0.1308, -0.0097,  0.1432]],\n",
      "       device='cuda:0')\n",
      "scores size :  torch.Size([2, 1622])\n",
      "positive_u :  tensor([0, 0, 0, 0, 0, 0, 0, 0, 0, 1])\n",
      "positive_i:  tensor([224, 194, 663, 393, 425, 464, 820, 375, 152, 306])\n",
      "result :  OrderedDict([('recall@20', 0.2216), ('mrr@20', 0.1704), ('ndcg@20', 0.1362), ('hit@20', 0.5497), ('map@20', 0.07), ('precision@20', 0.0475), ('gauc', 0.8541), ('itemcoverage@20', 0.0851), ('averagepopularity@20', 118.8728), ('giniindex@20', 0.9657), ('shannonentropy@20', 0.0311), ('tailpercentage@20', 0.0), ('F1', 0.07823114083983648)])\n"
     ]
    },
    {
     "name": "stderr",
     "output_type": "stream",
     "text": [
      "07 Feb 18:14    INFO  epoch 6 evaluating [time: 0.20s, valid_score: 0.170400]\n",
      "07 Feb 18:14    INFO  valid result: \n",
      "recall@20 : 0.2216    mrr@20 : 0.1704    ndcg@20 : 0.1362    hit@20 : 0.5497    map@20 : 0.07    precision@20 : 0.0475    gauc : 0.8541    itemcoverage@20 : 0.0851    averagepopularity@20 : 118.8728    giniindex@20 : 0.9657    shannonentropy@20 : 0.0311    tailpercentage@20 : 0.0    F1 : 0.07823114083983648\n",
      "07 Feb 18:14    INFO  epoch 7 training [time: 0.13s, train loss: 2.9308]\n"
     ]
    },
    {
     "name": "stdout",
     "output_type": "stream",
     "text": [
      "interaction :  The batch_size of interaction: 2\n",
      "    user_id, torch.Size([2]), cpu, torch.int64\n",
      "\n",
      "\n",
      "scores :  tensor([[   -inf,  1.2688,  4.2263,  ...,  0.4135, -0.1186,  0.5250],\n",
      "        [   -inf,  2.5986,  1.2459,  ...,  0.1111, -0.0242,  0.1271]],\n",
      "       device='cuda:0')\n",
      "scores size :  torch.Size([2, 1622])\n",
      "positive_u :  tensor([0, 0, 0, 0, 0, 0, 0, 0, 0, 1])\n",
      "positive_i:  tensor([224, 194, 663, 393, 425, 464, 820, 375, 152, 306])\n",
      "result :  OrderedDict([('recall@20', 0.2224), ('mrr@20', 0.1678), ('ndcg@20', 0.1358), ('hit@20', 0.5479), ('map@20', 0.0692), ('precision@20', 0.0485), ('gauc', 0.8551), ('itemcoverage@20', 0.09), ('averagepopularity@20', 117.0775), ('giniindex@20', 0.9648), ('shannonentropy@20', 0.0296), ('tailpercentage@20', 0.0), ('F1', 0.07963381321520857)])\n"
     ]
    },
    {
     "name": "stderr",
     "output_type": "stream",
     "text": [
      "07 Feb 18:14    INFO  epoch 7 evaluating [time: 0.19s, valid_score: 0.167800]\n",
      "07 Feb 18:14    INFO  valid result: \n",
      "recall@20 : 0.2224    mrr@20 : 0.1678    ndcg@20 : 0.1358    hit@20 : 0.5479    map@20 : 0.0692    precision@20 : 0.0485    gauc : 0.8551    itemcoverage@20 : 0.09    averagepopularity@20 : 117.0775    giniindex@20 : 0.9648    shannonentropy@20 : 0.0296    tailpercentage@20 : 0.0    F1 : 0.07963381321520857\n",
      "07 Feb 18:14    INFO  epoch 8 training [time: 0.06s, train loss: 2.9209]\n"
     ]
    },
    {
     "name": "stdout",
     "output_type": "stream",
     "text": [
      "interaction :  The batch_size of interaction: 2\n",
      "    user_id, torch.Size([2]), cpu, torch.int64\n",
      "\n",
      "\n",
      "scores :  tensor([[   -inf,  1.4184,  4.3329,  ...,  0.4116, -0.1307,  0.5313],\n",
      "        [   -inf,  2.8428,  1.2842,  ...,  0.1107, -0.0260,  0.1288]],\n",
      "       device='cuda:0')\n",
      "scores size :  torch.Size([2, 1622])\n",
      "positive_u :  tensor([0, 0, 0, 0, 0, 0, 0, 0, 0, 1])\n",
      "positive_i:  tensor([224, 194, 663, 393, 425, 464, 820, 375, 152, 306])\n",
      "result :  OrderedDict([('recall@20', 0.2209), ('mrr@20', 0.1703), ('ndcg@20', 0.136), ('hit@20', 0.5462), ('map@20', 0.0699), ('precision@20', 0.0481), ('gauc', 0.8561), ('itemcoverage@20', 0.0925), ('averagepopularity@20', 117.2515), ('giniindex@20', 0.965), ('shannonentropy@20', 0.0288), ('tailpercentage@20', 0.0), ('F1', 0.07899843866171004)])\n"
     ]
    },
    {
     "name": "stderr",
     "output_type": "stream",
     "text": [
      "07 Feb 18:14    INFO  epoch 8 evaluating [time: 0.19s, valid_score: 0.170300]\n",
      "07 Feb 18:14    INFO  valid result: \n",
      "recall@20 : 0.2209    mrr@20 : 0.1703    ndcg@20 : 0.136    hit@20 : 0.5462    map@20 : 0.0699    precision@20 : 0.0481    gauc : 0.8561    itemcoverage@20 : 0.0925    averagepopularity@20 : 117.2515    giniindex@20 : 0.965    shannonentropy@20 : 0.0288    tailpercentage@20 : 0.0    F1 : 0.07899843866171004\n",
      "07 Feb 18:14    INFO  epoch 9 training [time: 0.07s, train loss: 2.8280]\n"
     ]
    },
    {
     "name": "stdout",
     "output_type": "stream",
     "text": [
      "interaction :  The batch_size of interaction: 2\n",
      "    user_id, torch.Size([2]), cpu, torch.int64\n",
      "\n",
      "\n",
      "scores :  tensor([[   -inf,  1.4971,  4.3994,  ...,  0.4085, -0.1408,  0.5297],\n",
      "        [   -inf,  2.9168,  1.3266,  ...,  0.1127, -0.0279,  0.1328]],\n",
      "       device='cuda:0')\n",
      "scores size :  torch.Size([2, 1622])\n",
      "positive_u :  tensor([0, 0, 0, 0, 0, 0, 0, 0, 0, 1])\n",
      "positive_i:  tensor([224, 194, 663, 393, 425, 464, 820, 375, 152, 306])\n",
      "result :  OrderedDict([('recall@20', 0.2209), ('mrr@20', 0.1672), ('ndcg@20', 0.1357), ('hit@20', 0.5479), ('map@20', 0.0697), ('precision@20', 0.0482), ('gauc', 0.8573), ('itemcoverage@20', 0.0943), ('averagepopularity@20', 117.4983), ('giniindex@20', 0.9649), ('shannonentropy@20', 0.0282), ('tailpercentage@20', 0.0), ('F1', 0.0791332590115199)])\n"
     ]
    },
    {
     "name": "stderr",
     "output_type": "stream",
     "text": [
      "07 Feb 18:14    INFO  epoch 9 evaluating [time: 0.19s, valid_score: 0.167200]\n",
      "07 Feb 18:14    INFO  valid result: \n",
      "recall@20 : 0.2209    mrr@20 : 0.1672    ndcg@20 : 0.1357    hit@20 : 0.5479    map@20 : 0.0697    precision@20 : 0.0482    gauc : 0.8573    itemcoverage@20 : 0.0943    averagepopularity@20 : 117.4983    giniindex@20 : 0.9649    shannonentropy@20 : 0.0282    tailpercentage@20 : 0.0    F1 : 0.0791332590115199\n",
      "07 Feb 18:14    INFO  epoch 10 training [time: 0.07s, train loss: 2.7749]\n"
     ]
    },
    {
     "name": "stdout",
     "output_type": "stream",
     "text": [
      "interaction :  The batch_size of interaction: 2\n",
      "    user_id, torch.Size([2]), cpu, torch.int64\n",
      "\n",
      "\n",
      "scores :  tensor([[   -inf,  1.4627,  4.4441,  ...,  0.4113, -0.1532,  0.5272],\n",
      "        [   -inf,  2.9618,  1.3665,  ...,  0.1119, -0.0146,  0.1389]],\n",
      "       device='cuda:0')\n",
      "scores size :  torch.Size([2, 1622])\n",
      "positive_u :  tensor([0, 0, 0, 0, 0, 0, 0, 0, 0, 1])\n",
      "positive_i:  tensor([224, 194, 663, 393, 425, 464, 820, 375, 152, 306])\n",
      "result :  OrderedDict([('recall@20', 0.223), ('mrr@20', 0.169), ('ndcg@20', 0.1365), ('hit@20', 0.5479), ('map@20', 0.07), ('precision@20', 0.0485), ('gauc', 0.8585), ('itemcoverage@20', 0.098), ('averagepopularity@20', 117.7001), ('giniindex@20', 0.9646), ('shannonentropy@20', 0.0272), ('tailpercentage@20', 0.0), ('F1', 0.07967219152854511)])\n"
     ]
    },
    {
     "name": "stderr",
     "output_type": "stream",
     "text": [
      "07 Feb 18:14    INFO  epoch 10 evaluating [time: 0.19s, valid_score: 0.169000]\n",
      "07 Feb 18:14    INFO  valid result: \n",
      "recall@20 : 0.223    mrr@20 : 0.169    ndcg@20 : 0.1365    hit@20 : 0.5479    map@20 : 0.07    precision@20 : 0.0485    gauc : 0.8585    itemcoverage@20 : 0.098    averagepopularity@20 : 117.7001    giniindex@20 : 0.9646    shannonentropy@20 : 0.0272    tailpercentage@20 : 0.0    F1 : 0.07967219152854511\n",
      "07 Feb 18:14    INFO  epoch 11 training [time: 0.05s, train loss: 2.8113]\n"
     ]
    },
    {
     "name": "stdout",
     "output_type": "stream",
     "text": [
      "interaction :  The batch_size of interaction: 2\n",
      "    user_id, torch.Size([2]), cpu, torch.int64\n",
      "\n",
      "\n",
      "scores :  tensor([[   -inf,  1.1354,  4.2732,  ...,  0.3936, -0.1716,  0.5031],\n",
      "        [   -inf,  2.8664,  1.3152,  ...,  0.0959,  0.0150,  0.1351]],\n",
      "       device='cuda:0')\n",
      "scores size :  torch.Size([2, 1622])\n",
      "positive_u :  tensor([0, 0, 0, 0, 0, 0, 0, 0, 0, 1])\n",
      "positive_i:  tensor([224, 194, 663, 393, 425, 464, 820, 375, 152, 306])\n",
      "result :  OrderedDict([('recall@20', 0.2252), ('mrr@20', 0.1715), ('ndcg@20', 0.1382), ('hit@20', 0.5565), ('map@20', 0.0705), ('precision@20', 0.0498), ('gauc', 0.8603), ('itemcoverage@20', 0.1097), ('averagepopularity@20', 116.7211), ('giniindex@20', 0.9635), ('shannonentropy@20', 0.0245), ('tailpercentage@20', 0.0), ('F1', 0.08156334545454544)])\n"
     ]
    },
    {
     "name": "stderr",
     "output_type": "stream",
     "text": [
      "07 Feb 18:14    INFO  epoch 11 evaluating [time: 0.20s, valid_score: 0.171500]\n",
      "07 Feb 18:14    INFO  valid result: \n",
      "recall@20 : 0.2252    mrr@20 : 0.1715    ndcg@20 : 0.1382    hit@20 : 0.5565    map@20 : 0.0705    precision@20 : 0.0498    gauc : 0.8603    itemcoverage@20 : 0.1097    averagepopularity@20 : 116.7211    giniindex@20 : 0.9635    shannonentropy@20 : 0.0245    tailpercentage@20 : 0.0    F1 : 0.08156334545454544\n",
      "07 Feb 18:14    INFO  epoch 12 training [time: 0.07s, train loss: 2.7386]\n"
     ]
    },
    {
     "name": "stdout",
     "output_type": "stream",
     "text": [
      "interaction :  The batch_size of interaction: 2\n",
      "    user_id, torch.Size([2]), cpu, torch.int64\n",
      "\n",
      "\n",
      "scores :  tensor([[   -inf,  1.2374,  4.2425,  ...,  0.3884, -0.1770,  0.4890],\n",
      "        [   -inf,  2.9630,  1.4137,  ...,  0.0931,  0.0568,  0.1468]],\n",
      "       device='cuda:0')\n",
      "scores size :  torch.Size([2, 1622])\n",
      "positive_u :  tensor([0, 0, 0, 0, 0, 0, 0, 0, 0, 1])\n",
      "positive_i:  tensor([224, 194, 663, 393, 425, 464, 820, 375, 152, 306])\n",
      "result :  OrderedDict([('recall@20', 0.2305), ('mrr@20', 0.1752), ('ndcg@20', 0.1409), ('hit@20', 0.5668), ('map@20', 0.0717), ('precision@20', 0.0509), ('gauc', 0.8622), ('itemcoverage@20', 0.1128), ('averagepopularity@20', 116.897), ('giniindex@20', 0.9635), ('shannonentropy@20', 0.0238), ('tailpercentage@20', 0.0), ('F1', 0.0833862828713575)])\n"
     ]
    },
    {
     "name": "stderr",
     "output_type": "stream",
     "text": [
      "07 Feb 18:14    INFO  epoch 12 evaluating [time: 0.19s, valid_score: 0.175200]\n",
      "07 Feb 18:14    INFO  valid result: \n",
      "recall@20 : 0.2305    mrr@20 : 0.1752    ndcg@20 : 0.1409    hit@20 : 0.5668    map@20 : 0.0717    precision@20 : 0.0509    gauc : 0.8622    itemcoverage@20 : 0.1128    averagepopularity@20 : 116.897    giniindex@20 : 0.9635    shannonentropy@20 : 0.0238    tailpercentage@20 : 0.0    F1 : 0.0833862828713575\n",
      "07 Feb 18:14    INFO  epoch 13 training [time: 0.06s, train loss: 2.6673]\n"
     ]
    },
    {
     "name": "stdout",
     "output_type": "stream",
     "text": [
      "interaction :  The batch_size of interaction: 2\n",
      "    user_id, torch.Size([2]), cpu, torch.int64\n",
      "\n",
      "\n",
      "scores :  tensor([[   -inf,  1.3336,  4.1775,  ...,  0.3832, -0.1844,  0.4682],\n",
      "        [   -inf,  3.0792,  1.5020,  ...,  0.0884,  0.0963,  0.1594]],\n",
      "       device='cuda:0')\n",
      "scores size :  torch.Size([2, 1622])\n",
      "positive_u :  tensor([0, 0, 0, 0, 0, 0, 0, 0, 0, 1])\n",
      "positive_i:  tensor([224, 194, 663, 393, 425, 464, 820, 375, 152, 306])\n",
      "result :  OrderedDict([('recall@20', 0.2295), ('mrr@20', 0.1743), ('ndcg@20', 0.1406), ('hit@20', 0.5599), ('map@20', 0.0719), ('precision@20', 0.0503), ('gauc', 0.8642), ('itemcoverage@20', 0.1184), ('averagepopularity@20', 117.3134), ('giniindex@20', 0.9634), ('shannonentropy@20', 0.0228), ('tailpercentage@20', 0.0), ('F1', 0.08251501072194424)])\n"
     ]
    },
    {
     "name": "stderr",
     "output_type": "stream",
     "text": [
      "07 Feb 18:14    INFO  epoch 13 evaluating [time: 0.22s, valid_score: 0.174300]\n",
      "07 Feb 18:14    INFO  valid result: \n",
      "recall@20 : 0.2295    mrr@20 : 0.1743    ndcg@20 : 0.1406    hit@20 : 0.5599    map@20 : 0.0719    precision@20 : 0.0503    gauc : 0.8642    itemcoverage@20 : 0.1184    averagepopularity@20 : 117.3134    giniindex@20 : 0.9634    shannonentropy@20 : 0.0228    tailpercentage@20 : 0.0    F1 : 0.08251501072194424\n",
      "07 Feb 18:14    INFO  epoch 14 training [time: 0.05s, train loss: 2.6736]\n"
     ]
    },
    {
     "name": "stdout",
     "output_type": "stream",
     "text": [
      "interaction :  The batch_size of interaction: 2\n",
      "    user_id, torch.Size([2]), cpu, torch.int64\n",
      "\n",
      "\n",
      "scores :  tensor([[   -inf,  1.1905,  4.0978,  ...,  0.3847, -0.1991,  0.4498],\n",
      "        [   -inf,  3.0776,  1.5455,  ...,  0.0740,  0.1307,  0.1699]],\n",
      "       device='cuda:0')\n",
      "scores size :  torch.Size([2, 1622])\n",
      "positive_u :  tensor([0, 0, 0, 0, 0, 0, 0, 0, 0, 1])\n",
      "positive_i:  tensor([224, 194, 663, 393, 425, 464, 820, 375, 152, 306])\n",
      "result :  OrderedDict([('recall@20', 0.232), ('mrr@20', 0.1801), ('ndcg@20', 0.1428), ('hit@20', 0.5668), ('map@20', 0.073), ('precision@20', 0.0511), ('gauc', 0.8666), ('itemcoverage@20', 0.127), ('averagepopularity@20', 116.4408), ('giniindex@20', 0.9622), ('shannonentropy@20', 0.0214), ('tailpercentage@20', 0.0), ('F1', 0.0837527375485694)])\n"
     ]
    },
    {
     "name": "stderr",
     "output_type": "stream",
     "text": [
      "07 Feb 18:14    INFO  epoch 14 evaluating [time: 0.19s, valid_score: 0.180100]\n",
      "07 Feb 18:14    INFO  valid result: \n",
      "recall@20 : 0.232    mrr@20 : 0.1801    ndcg@20 : 0.1428    hit@20 : 0.5668    map@20 : 0.073    precision@20 : 0.0511    gauc : 0.8666    itemcoverage@20 : 0.127    averagepopularity@20 : 116.4408    giniindex@20 : 0.9622    shannonentropy@20 : 0.0214    tailpercentage@20 : 0.0    F1 : 0.0837527375485694\n",
      "07 Feb 18:14    INFO  Saving current: /home/RecBole/saved/LightGCN-Feb-07-2023_18-14-24.pth\n",
      "07 Feb 18:14    INFO  epoch 15 training [time: 0.07s, train loss: 2.5810]\n"
     ]
    },
    {
     "name": "stdout",
     "output_type": "stream",
     "text": [
      "interaction :  The batch_size of interaction: 2\n",
      "    user_id, torch.Size([2]), cpu, torch.int64\n",
      "\n",
      "\n",
      "scores :  tensor([[   -inf,  1.2231,  4.1362,  ...,  0.4077, -0.2052,  0.4419],\n",
      "        [   -inf,  3.1379,  1.6428,  ...,  0.0628,  0.1666,  0.1843]],\n",
      "       device='cuda:0')\n",
      "scores size :  torch.Size([2, 1622])\n",
      "positive_u :  tensor([0, 0, 0, 0, 0, 0, 0, 0, 0, 1])\n",
      "positive_i:  tensor([224, 194, 663, 393, 425, 464, 820, 375, 152, 306])\n",
      "result :  OrderedDict([('recall@20', 0.2369), ('mrr@20', 0.1844), ('ndcg@20', 0.1459), ('hit@20', 0.5822), ('map@20', 0.0746), ('precision@20', 0.0521), ('gauc', 0.8688), ('itemcoverage@20', 0.1326), ('averagepopularity@20', 116.4491), ('giniindex@20', 0.9612), ('shannonentropy@20', 0.0206), ('tailpercentage@20', 0.0), ('F1', 0.08541515570934256)])\n"
     ]
    },
    {
     "name": "stderr",
     "output_type": "stream",
     "text": [
      "07 Feb 18:14    INFO  epoch 15 evaluating [time: 0.20s, valid_score: 0.184400]\n",
      "07 Feb 18:14    INFO  valid result: \n",
      "recall@20 : 0.2369    mrr@20 : 0.1844    ndcg@20 : 0.1459    hit@20 : 0.5822    map@20 : 0.0746    precision@20 : 0.0521    gauc : 0.8688    itemcoverage@20 : 0.1326    averagepopularity@20 : 116.4491    giniindex@20 : 0.9612    shannonentropy@20 : 0.0206    tailpercentage@20 : 0.0    F1 : 0.08541515570934256\n",
      "07 Feb 18:14    INFO  Saving current: /home/RecBole/saved/LightGCN-Feb-07-2023_18-14-24.pth\n",
      "07 Feb 18:14    INFO  epoch 16 training [time: 0.06s, train loss: 2.5370]\n"
     ]
    },
    {
     "name": "stdout",
     "output_type": "stream",
     "text": [
      "interaction :  The batch_size of interaction: 2\n",
      "    user_id, torch.Size([2]), cpu, torch.int64\n",
      "\n",
      "\n",
      "scores :  tensor([[   -inf,  1.1606,  4.0843,  ...,  0.4294, -0.2241,  0.4290],\n",
      "        [   -inf,  3.1426,  1.6584,  ...,  0.0423,  0.2001,  0.1891]],\n",
      "       device='cuda:0')\n",
      "scores size :  torch.Size([2, 1622])\n",
      "positive_u :  tensor([0, 0, 0, 0, 0, 0, 0, 0, 0, 1])\n",
      "positive_i:  tensor([224, 194, 663, 393, 425, 464, 820, 375, 152, 306])\n",
      "result :  OrderedDict([('recall@20', 0.2401), ('mrr@20', 0.1848), ('ndcg@20', 0.1475), ('hit@20', 0.5908), ('map@20', 0.0751), ('precision@20', 0.0529), ('gauc', 0.8709), ('itemcoverage@20', 0.14), ('averagepopularity@20', 115.9744), ('giniindex@20', 0.9597), ('shannonentropy@20', 0.0197), ('tailpercentage@20', 0.0), ('F1', 0.08669822525597269)])\n"
     ]
    },
    {
     "name": "stderr",
     "output_type": "stream",
     "text": [
      "07 Feb 18:14    INFO  epoch 16 evaluating [time: 0.19s, valid_score: 0.184800]\n",
      "07 Feb 18:14    INFO  valid result: \n",
      "recall@20 : 0.2401    mrr@20 : 0.1848    ndcg@20 : 0.1475    hit@20 : 0.5908    map@20 : 0.0751    precision@20 : 0.0529    gauc : 0.8709    itemcoverage@20 : 0.14    averagepopularity@20 : 115.9744    giniindex@20 : 0.9597    shannonentropy@20 : 0.0197    tailpercentage@20 : 0.0    F1 : 0.08669822525597269\n",
      "07 Feb 18:14    INFO  Saving current: /home/RecBole/saved/LightGCN-Feb-07-2023_18-14-24.pth\n",
      "07 Feb 18:14    INFO  epoch 17 training [time: 0.09s, train loss: 2.4363]\n"
     ]
    },
    {
     "name": "stdout",
     "output_type": "stream",
     "text": [
      "interaction :  The batch_size of interaction: 2\n",
      "    user_id, torch.Size([2]), cpu, torch.int64\n",
      "\n",
      "\n",
      "scores :  tensor([[   -inf,  1.0584,  4.0482,  ...,  0.4617, -0.2463,  0.4174],\n",
      "        [   -inf,  3.1098,  1.6574,  ...,  0.0233,  0.2220,  0.1900]],\n",
      "       device='cuda:0')\n",
      "scores size :  torch.Size([2, 1622])\n",
      "positive_u :  tensor([0, 0, 0, 0, 0, 0, 0, 0, 0, 1])\n",
      "positive_i:  tensor([224, 194, 663, 393, 425, 464, 820, 375, 152, 306])\n",
      "result :  OrderedDict([('recall@20', 0.2422), ('mrr@20', 0.184), ('ndcg@20', 0.1491), ('hit@20', 0.5993), ('map@20', 0.0761), ('precision@20', 0.0535), ('gauc', 0.8724), ('itemcoverage@20', 0.1424), ('averagepopularity@20', 115.2608), ('giniindex@20', 0.9576), ('shannonentropy@20', 0.0196), ('tailpercentage@20', 0.0), ('F1', 0.08764085221508285)])\n"
     ]
    },
    {
     "name": "stderr",
     "output_type": "stream",
     "text": [
      "07 Feb 18:14    INFO  epoch 17 evaluating [time: 0.19s, valid_score: 0.184000]\n",
      "07 Feb 18:14    INFO  valid result: \n",
      "recall@20 : 0.2422    mrr@20 : 0.184    ndcg@20 : 0.1491    hit@20 : 0.5993    map@20 : 0.0761    precision@20 : 0.0535    gauc : 0.8724    itemcoverage@20 : 0.1424    averagepopularity@20 : 115.2608    giniindex@20 : 0.9576    shannonentropy@20 : 0.0196    tailpercentage@20 : 0.0    F1 : 0.08764085221508285\n",
      "07 Feb 18:14    INFO  epoch 18 training [time: 0.05s, train loss: 2.4452]\n"
     ]
    },
    {
     "name": "stdout",
     "output_type": "stream",
     "text": [
      "interaction :  The batch_size of interaction: 2\n",
      "    user_id, torch.Size([2]), cpu, torch.int64\n",
      "\n",
      "\n",
      "scores :  tensor([[       -inf,  1.0061e+00,  3.9151e+00,  ...,  4.7686e-01,\n",
      "         -2.4139e-01,  3.9853e-01],\n",
      "        [       -inf,  3.1058e+00,  1.6538e+00,  ...,  2.2154e-03,\n",
      "          2.3962e-01,  1.8969e-01]], device='cuda:0')\n",
      "scores size :  torch.Size([2, 1622])\n",
      "positive_u :  tensor([0, 0, 0, 0, 0, 0, 0, 0, 0, 1])\n",
      "positive_i:  tensor([224, 194, 663, 393, 425, 464, 820, 375, 152, 306])\n",
      "result :  OrderedDict([('recall@20', 0.2441), ('mrr@20', 0.1881), ('ndcg@20', 0.1515), ('hit@20', 0.6027), ('map@20', 0.0776), ('precision@20', 0.0544), ('gauc', 0.8737), ('itemcoverage@20', 0.151), ('averagepopularity@20', 114.4563), ('giniindex@20', 0.9558), ('shannonentropy@20', 0.0187), ('tailpercentage@20', 0.0), ('F1', 0.08897179229480738)])\n"
     ]
    },
    {
     "name": "stderr",
     "output_type": "stream",
     "text": [
      "07 Feb 18:14    INFO  epoch 18 evaluating [time: 0.18s, valid_score: 0.188100]\n",
      "07 Feb 18:14    INFO  valid result: \n",
      "recall@20 : 0.2441    mrr@20 : 0.1881    ndcg@20 : 0.1515    hit@20 : 0.6027    map@20 : 0.0776    precision@20 : 0.0544    gauc : 0.8737    itemcoverage@20 : 0.151    averagepopularity@20 : 114.4563    giniindex@20 : 0.9558    shannonentropy@20 : 0.0187    tailpercentage@20 : 0.0    F1 : 0.08897179229480738\n",
      "07 Feb 18:14    INFO  Saving current: /home/RecBole/saved/LightGCN-Feb-07-2023_18-14-24.pth\n",
      "07 Feb 18:14    INFO  epoch 19 training [time: 0.07s, train loss: 2.3901]\n"
     ]
    },
    {
     "name": "stdout",
     "output_type": "stream",
     "text": [
      "interaction :  The batch_size of interaction: 2\n",
      "    user_id, torch.Size([2]), cpu, torch.int64\n",
      "\n",
      "\n",
      "scores :  tensor([[   -inf,  0.9808,  3.8310,  ...,  0.4920, -0.2325,  0.3855],\n",
      "        [   -inf,  3.1389,  1.7073,  ..., -0.0180,  0.2535,  0.1990]],\n",
      "       device='cuda:0')\n",
      "scores size :  torch.Size([2, 1622])\n",
      "positive_u :  tensor([0, 0, 0, 0, 0, 0, 0, 0, 0, 1])\n",
      "positive_i:  tensor([224, 194, 663, 393, 425, 464, 820, 375, 152, 306])\n",
      "result :  OrderedDict([('recall@20', 0.2445), ('mrr@20', 0.1883), ('ndcg@20', 0.1521), ('hit@20', 0.5993), ('map@20', 0.0781), ('precision@20', 0.0544), ('gauc', 0.8749), ('itemcoverage@20', 0.1535), ('averagepopularity@20', 113.3227), ('giniindex@20', 0.9539), ('shannonentropy@20', 0.0185), ('tailpercentage@20', 0.0), ('F1', 0.08899832719973234)])\n"
     ]
    },
    {
     "name": "stderr",
     "output_type": "stream",
     "text": [
      "07 Feb 18:14    INFO  epoch 19 evaluating [time: 0.19s, valid_score: 0.188300]\n",
      "07 Feb 18:14    INFO  valid result: \n",
      "recall@20 : 0.2445    mrr@20 : 0.1883    ndcg@20 : 0.1521    hit@20 : 0.5993    map@20 : 0.0781    precision@20 : 0.0544    gauc : 0.8749    itemcoverage@20 : 0.1535    averagepopularity@20 : 113.3227    giniindex@20 : 0.9539    shannonentropy@20 : 0.0185    tailpercentage@20 : 0.0    F1 : 0.08899832719973234\n",
      "07 Feb 18:14    INFO  Saving current: /home/RecBole/saved/LightGCN-Feb-07-2023_18-14-24.pth\n",
      "07 Feb 18:14    INFO  epoch 20 training [time: 0.09s, train loss: 2.3611]\n"
     ]
    },
    {
     "name": "stdout",
     "output_type": "stream",
     "text": [
      "interaction :  The batch_size of interaction: 2\n",
      "    user_id, torch.Size([2]), cpu, torch.int64\n",
      "\n",
      "\n",
      "scores :  tensor([[   -inf,  1.1122,  3.9163,  ...,  0.5197, -0.1999,  0.3929],\n",
      "        [   -inf,  3.2805,  1.8337,  ..., -0.0261,  0.2565,  0.2161]],\n",
      "       device='cuda:0')\n",
      "scores size :  torch.Size([2, 1622])\n",
      "positive_u :  tensor([0, 0, 0, 0, 0, 0, 0, 0, 0, 1])\n",
      "positive_i:  tensor([224, 194, 663, 393, 425, 464, 820, 375, 152, 306])\n",
      "result :  OrderedDict([('recall@20', 0.2486), ('mrr@20', 0.1895), ('ndcg@20', 0.1537), ('hit@20', 0.6096), ('map@20', 0.0788), ('precision@20', 0.0547), ('gauc', 0.8755), ('itemcoverage@20', 0.1535), ('averagepopularity@20', 113.2544), ('giniindex@20', 0.9534), ('shannonentropy@20', 0.0186), ('tailpercentage@20', 0.0), ('F1', 0.08966976590834155)])\n"
     ]
    },
    {
     "name": "stderr",
     "output_type": "stream",
     "text": [
      "07 Feb 18:14    INFO  epoch 20 evaluating [time: 0.19s, valid_score: 0.189500]\n",
      "07 Feb 18:14    INFO  valid result: \n",
      "recall@20 : 0.2486    mrr@20 : 0.1895    ndcg@20 : 0.1537    hit@20 : 0.6096    map@20 : 0.0788    precision@20 : 0.0547    gauc : 0.8755    itemcoverage@20 : 0.1535    averagepopularity@20 : 113.2544    giniindex@20 : 0.9534    shannonentropy@20 : 0.0186    tailpercentage@20 : 0.0    F1 : 0.08966976590834155\n",
      "07 Feb 18:14    INFO  Saving current: /home/RecBole/saved/LightGCN-Feb-07-2023_18-14-24.pth\n",
      "07 Feb 18:14    INFO  epoch 21 training [time: 0.09s, train loss: 2.3455]\n"
     ]
    },
    {
     "name": "stdout",
     "output_type": "stream",
     "text": [
      "interaction :  The batch_size of interaction: 2\n",
      "    user_id, torch.Size([2]), cpu, torch.int64\n",
      "\n",
      "\n",
      "scores :  tensor([[   -inf,  0.9554,  3.6855,  ...,  0.5010, -0.2066,  0.3663],\n",
      "        [   -inf,  3.2308,  1.8090,  ..., -0.0464,  0.2452,  0.2165]],\n",
      "       device='cuda:0')\n",
      "scores size :  torch.Size([2, 1622])\n",
      "positive_u :  tensor([0, 0, 0, 0, 0, 0, 0, 0, 0, 1])\n",
      "positive_i:  tensor([224, 194, 663, 393, 425, 464, 820, 375, 152, 306])\n",
      "result :  OrderedDict([('recall@20', 0.2492), ('mrr@20', 0.1921), ('ndcg@20', 0.1546), ('hit@20', 0.6079), ('map@20', 0.0793), ('precision@20', 0.0551), ('gauc', 0.8762), ('itemcoverage@20', 0.1603), ('averagepopularity@20', 111.8622), ('giniindex@20', 0.9509), ('shannonentropy@20', 0.018), ('tailpercentage@20', 0.0), ('F1', 0.09024594150509366)])\n"
     ]
    },
    {
     "name": "stderr",
     "output_type": "stream",
     "text": [
      "07 Feb 18:14    INFO  epoch 21 evaluating [time: 0.19s, valid_score: 0.192100]\n",
      "07 Feb 18:14    INFO  valid result: \n",
      "recall@20 : 0.2492    mrr@20 : 0.1921    ndcg@20 : 0.1546    hit@20 : 0.6079    map@20 : 0.0793    precision@20 : 0.0551    gauc : 0.8762    itemcoverage@20 : 0.1603    averagepopularity@20 : 111.8622    giniindex@20 : 0.9509    shannonentropy@20 : 0.018    tailpercentage@20 : 0.0    F1 : 0.09024594150509366\n",
      "07 Feb 18:14    INFO  Saving current: /home/RecBole/saved/LightGCN-Feb-07-2023_18-14-24.pth\n",
      "07 Feb 18:14    INFO  epoch 22 training [time: 0.06s, train loss: 2.2876]\n"
     ]
    },
    {
     "name": "stdout",
     "output_type": "stream",
     "text": [
      "interaction :  The batch_size of interaction: 2\n",
      "    user_id, torch.Size([2]), cpu, torch.int64\n",
      "\n",
      "\n",
      "scores :  tensor([[   -inf,  1.0864,  3.6239,  ...,  0.5061, -0.1881,  0.3580],\n",
      "        [   -inf,  3.3066,  1.8421,  ..., -0.0528,  0.2353,  0.2193]],\n",
      "       device='cuda:0')\n",
      "scores size :  torch.Size([2, 1622])\n",
      "positive_u :  tensor([0, 0, 0, 0, 0, 0, 0, 0, 0, 1])\n",
      "positive_i:  tensor([224, 194, 663, 393, 425, 464, 820, 375, 152, 306])\n",
      "result :  OrderedDict([('recall@20', 0.2545), ('mrr@20', 0.1936), ('ndcg@20', 0.1563), ('hit@20', 0.613), ('map@20', 0.0798), ('precision@20', 0.0557), ('gauc', 0.8765), ('itemcoverage@20', 0.164), ('averagepopularity@20', 111.6689), ('giniindex@20', 0.95), ('shannonentropy@20', 0.0177), ('tailpercentage@20', 0.0), ('F1', 0.09139684074790456)])\n"
     ]
    },
    {
     "name": "stderr",
     "output_type": "stream",
     "text": [
      "07 Feb 18:14    INFO  epoch 22 evaluating [time: 0.19s, valid_score: 0.193600]\n",
      "07 Feb 18:14    INFO  valid result: \n",
      "recall@20 : 0.2545    mrr@20 : 0.1936    ndcg@20 : 0.1563    hit@20 : 0.613    map@20 : 0.0798    precision@20 : 0.0557    gauc : 0.8765    itemcoverage@20 : 0.164    averagepopularity@20 : 111.6689    giniindex@20 : 0.95    shannonentropy@20 : 0.0177    tailpercentage@20 : 0.0    F1 : 0.09139684074790456\n",
      "07 Feb 18:14    INFO  Saving current: /home/RecBole/saved/LightGCN-Feb-07-2023_18-14-24.pth\n",
      "07 Feb 18:14    INFO  epoch 23 training [time: 0.10s, train loss: 2.2444]\n"
     ]
    },
    {
     "name": "stdout",
     "output_type": "stream",
     "text": [
      "interaction :  The batch_size of interaction: 2\n",
      "    user_id, torch.Size([2]), cpu, torch.int64\n",
      "\n",
      "\n",
      "scores :  tensor([[   -inf,  1.0954,  3.7868,  ...,  0.5247, -0.1539,  0.3789],\n",
      "        [   -inf,  3.3176,  1.9301,  ..., -0.0569,  0.2307,  0.2317]],\n",
      "       device='cuda:0')\n",
      "scores size :  torch.Size([2, 1622])\n",
      "positive_u :  tensor([0, 0, 0, 0, 0, 0, 0, 0, 0, 1])\n",
      "positive_i:  tensor([224, 194, 663, 393, 425, 464, 820, 375, 152, 306])\n",
      "result :  OrderedDict([('recall@20', 0.2546), ('mrr@20', 0.2016), ('ndcg@20', 0.159), ('hit@20', 0.6199), ('map@20', 0.0815), ('precision@20', 0.0568), ('gauc', 0.8769), ('itemcoverage@20', 0.1628), ('averagepopularity@20', 110.942), ('giniindex@20', 0.9487), ('shannonentropy@20', 0.0179), ('tailpercentage@20', 0.0), ('F1', 0.0928791265253693)])\n"
     ]
    },
    {
     "name": "stderr",
     "output_type": "stream",
     "text": [
      "07 Feb 18:14    INFO  epoch 23 evaluating [time: 0.20s, valid_score: 0.201600]\n",
      "07 Feb 18:14    INFO  valid result: \n",
      "recall@20 : 0.2546    mrr@20 : 0.2016    ndcg@20 : 0.159    hit@20 : 0.6199    map@20 : 0.0815    precision@20 : 0.0568    gauc : 0.8769    itemcoverage@20 : 0.1628    averagepopularity@20 : 110.942    giniindex@20 : 0.9487    shannonentropy@20 : 0.0179    tailpercentage@20 : 0.0    F1 : 0.0928791265253693\n",
      "07 Feb 18:14    INFO  Saving current: /home/RecBole/saved/LightGCN-Feb-07-2023_18-14-24.pth\n",
      "07 Feb 18:14    INFO  epoch 24 training [time: 0.08s, train loss: 2.2483]\n"
     ]
    },
    {
     "name": "stdout",
     "output_type": "stream",
     "text": [
      "interaction :  The batch_size of interaction: 2\n",
      "    user_id, torch.Size([2]), cpu, torch.int64\n",
      "\n",
      "\n",
      "scores :  tensor([[   -inf,  1.0160,  3.7961,  ...,  0.5368, -0.1214,  0.3866],\n",
      "        [   -inf,  3.2937,  1.9430,  ..., -0.0566,  0.2104,  0.2348]],\n",
      "       device='cuda:0')\n",
      "scores size :  torch.Size([2, 1622])\n",
      "positive_u :  tensor([0, 0, 0, 0, 0, 0, 0, 0, 0, 1])\n",
      "positive_i:  tensor([224, 194, 663, 393, 425, 464, 820, 375, 152, 306])\n",
      "result :  OrderedDict([('recall@20', 0.2571), ('mrr@20', 0.2033), ('ndcg@20', 0.1603), ('hit@20', 0.6199), ('map@20', 0.0823), ('precision@20', 0.0571), ('gauc', 0.8771), ('itemcoverage@20', 0.1628), ('averagepopularity@20', 110.1044), ('giniindex@20', 0.9471), ('shannonentropy@20', 0.018), ('tailpercentage@20', 0.0), ('F1', 0.09344627625716105)])\n"
     ]
    },
    {
     "name": "stderr",
     "output_type": "stream",
     "text": [
      "07 Feb 18:14    INFO  epoch 24 evaluating [time: 0.19s, valid_score: 0.203300]\n",
      "07 Feb 18:14    INFO  valid result: \n",
      "recall@20 : 0.2571    mrr@20 : 0.2033    ndcg@20 : 0.1603    hit@20 : 0.6199    map@20 : 0.0823    precision@20 : 0.0571    gauc : 0.8771    itemcoverage@20 : 0.1628    averagepopularity@20 : 110.1044    giniindex@20 : 0.9471    shannonentropy@20 : 0.018    tailpercentage@20 : 0.0    F1 : 0.09344627625716105\n",
      "07 Feb 18:14    INFO  Saving current: /home/RecBole/saved/LightGCN-Feb-07-2023_18-14-24.pth\n",
      "07 Feb 18:14    INFO  epoch 25 training [time: 0.12s, train loss: 2.2583]\n"
     ]
    },
    {
     "name": "stdout",
     "output_type": "stream",
     "text": [
      "interaction :  The batch_size of interaction: 2\n",
      "    user_id, torch.Size([2]), cpu, torch.int64\n",
      "\n",
      "\n",
      "scores :  tensor([[   -inf,  0.9676,  3.7217,  ...,  0.5348, -0.1019,  0.3834],\n",
      "        [   -inf,  3.2758,  1.9001,  ..., -0.0639,  0.1919,  0.2310]],\n",
      "       device='cuda:0')\n",
      "scores size :  torch.Size([2, 1622])\n",
      "positive_u :  tensor([0, 0, 0, 0, 0, 0, 0, 0, 0, 1])\n",
      "positive_i:  tensor([224, 194, 663, 393, 425, 464, 820, 375, 152, 306])\n",
      "result :  OrderedDict([('recall@20', 0.2583), ('mrr@20', 0.2019), ('ndcg@20', 0.1604), ('hit@20', 0.6199), ('map@20', 0.0824), ('precision@20', 0.0571), ('gauc', 0.8771), ('itemcoverage@20', 0.1671), ('averagepopularity@20', 109.5902), ('giniindex@20', 0.946), ('shannonentropy@20', 0.0176), ('tailpercentage@20', 0.0), ('F1', 0.09352523779327838)])\n"
     ]
    },
    {
     "name": "stderr",
     "output_type": "stream",
     "text": [
      "07 Feb 18:14    INFO  epoch 25 evaluating [time: 0.19s, valid_score: 0.201900]\n",
      "07 Feb 18:14    INFO  valid result: \n",
      "recall@20 : 0.2583    mrr@20 : 0.2019    ndcg@20 : 0.1604    hit@20 : 0.6199    map@20 : 0.0824    precision@20 : 0.0571    gauc : 0.8771    itemcoverage@20 : 0.1671    averagepopularity@20 : 109.5902    giniindex@20 : 0.946    shannonentropy@20 : 0.0176    tailpercentage@20 : 0.0    F1 : 0.09352523779327838\n",
      "07 Feb 18:14    INFO  epoch 26 training [time: 0.11s, train loss: 2.2405]\n"
     ]
    },
    {
     "name": "stdout",
     "output_type": "stream",
     "text": [
      "interaction :  The batch_size of interaction: 2\n",
      "    user_id, torch.Size([2]), cpu, torch.int64\n",
      "\n",
      "\n",
      "scores :  tensor([[   -inf,  1.0945,  3.7273,  ...,  0.5449, -0.0829,  0.3877],\n",
      "        [   -inf,  3.3446,  1.9168,  ..., -0.0665,  0.1917,  0.2313]],\n",
      "       device='cuda:0')\n",
      "scores size :  torch.Size([2, 1622])\n",
      "positive_u :  tensor([0, 0, 0, 0, 0, 0, 0, 0, 0, 1])\n",
      "positive_i:  tensor([224, 194, 663, 393, 425, 464, 820, 375, 152, 306])\n",
      "result :  OrderedDict([('recall@20', 0.2579), ('mrr@20', 0.1991), ('ndcg@20', 0.1595), ('hit@20', 0.6147), ('map@20', 0.082), ('precision@20', 0.0562), ('gauc', 0.8771), ('itemcoverage@20', 0.1683), ('averagepopularity@20', 109.9852), ('giniindex@20', 0.9465), ('shannonentropy@20', 0.0175), ('tailpercentage@20', 0.0), ('F1', 0.09228895256287806)])\n"
     ]
    },
    {
     "name": "stderr",
     "output_type": "stream",
     "text": [
      "07 Feb 18:14    INFO  epoch 26 evaluating [time: 0.20s, valid_score: 0.199100]\n",
      "07 Feb 18:14    INFO  valid result: \n",
      "recall@20 : 0.2579    mrr@20 : 0.1991    ndcg@20 : 0.1595    hit@20 : 0.6147    map@20 : 0.082    precision@20 : 0.0562    gauc : 0.8771    itemcoverage@20 : 0.1683    averagepopularity@20 : 109.9852    giniindex@20 : 0.9465    shannonentropy@20 : 0.0175    tailpercentage@20 : 0.0    F1 : 0.09228895256287806\n",
      "07 Feb 18:14    INFO  epoch 27 training [time: 0.12s, train loss: 2.2076]\n"
     ]
    },
    {
     "name": "stdout",
     "output_type": "stream",
     "text": [
      "interaction :  The batch_size of interaction: 2\n",
      "    user_id, torch.Size([2]), cpu, torch.int64\n",
      "\n",
      "\n",
      "scores :  tensor([[   -inf,  0.8658,  3.7535,  ...,  0.5455, -0.0816,  0.4015],\n",
      "        [   -inf,  3.2849,  1.9531,  ..., -0.0764,  0.1981,  0.2405]],\n",
      "       device='cuda:0')\n",
      "scores size :  torch.Size([2, 1622])\n",
      "positive_u :  tensor([0, 0, 0, 0, 0, 0, 0, 0, 0, 1])\n",
      "positive_i:  tensor([224, 194, 663, 393, 425, 464, 820, 375, 152, 306])\n",
      "result :  OrderedDict([('recall@20', 0.2601), ('mrr@20', 0.207), ('ndcg@20', 0.1625), ('hit@20', 0.6164), ('map@20', 0.0839), ('precision@20', 0.0572), ('gauc', 0.8773), ('itemcoverage@20', 0.1689), ('averagepopularity@20', 108.6418), ('giniindex@20', 0.9442), ('shannonentropy@20', 0.0175), ('tailpercentage@20', 0.0), ('F1', 0.09377699338165774)])\n"
     ]
    },
    {
     "name": "stderr",
     "output_type": "stream",
     "text": [
      "07 Feb 18:14    INFO  epoch 27 evaluating [time: 0.19s, valid_score: 0.207000]\n",
      "07 Feb 18:14    INFO  valid result: \n",
      "recall@20 : 0.2601    mrr@20 : 0.207    ndcg@20 : 0.1625    hit@20 : 0.6164    map@20 : 0.0839    precision@20 : 0.0572    gauc : 0.8773    itemcoverage@20 : 0.1689    averagepopularity@20 : 108.6418    giniindex@20 : 0.9442    shannonentropy@20 : 0.0175    tailpercentage@20 : 0.0    F1 : 0.09377699338165774\n",
      "07 Feb 18:14    INFO  Saving current: /home/RecBole/saved/LightGCN-Feb-07-2023_18-14-24.pth\n",
      "07 Feb 18:14    INFO  epoch 28 training [time: 0.07s, train loss: 2.1912]\n"
     ]
    },
    {
     "name": "stdout",
     "output_type": "stream",
     "text": [
      "interaction :  The batch_size of interaction: 2\n",
      "    user_id, torch.Size([2]), cpu, torch.int64\n",
      "\n",
      "\n",
      "scores :  tensor([[   -inf,  0.8316,  3.7668,  ...,  0.5457, -0.0947,  0.4143],\n",
      "        [   -inf,  3.3397,  2.0251,  ..., -0.0804,  0.2032,  0.2550]],\n",
      "       device='cuda:0')\n",
      "scores size :  torch.Size([2, 1622])\n",
      "positive_u :  tensor([0, 0, 0, 0, 0, 0, 0, 0, 0, 1])\n",
      "positive_i:  tensor([224, 194, 663, 393, 425, 464, 820, 375, 152, 306])\n",
      "result :  OrderedDict([('recall@20', 0.26), ('mrr@20', 0.2076), ('ndcg@20', 0.1626), ('hit@20', 0.6216), ('map@20', 0.0837), ('precision@20', 0.0576), ('gauc', 0.8775), ('itemcoverage@20', 0.1671), ('averagepopularity@20', 108.4356), ('giniindex@20', 0.9434), ('shannonentropy@20', 0.0178), ('tailpercentage@20', 0.0), ('F1', 0.0943073047858942)])\n"
     ]
    },
    {
     "name": "stderr",
     "output_type": "stream",
     "text": [
      "07 Feb 18:14    INFO  epoch 28 evaluating [time: 0.19s, valid_score: 0.207600]\n",
      "07 Feb 18:14    INFO  valid result: \n",
      "recall@20 : 0.26    mrr@20 : 0.2076    ndcg@20 : 0.1626    hit@20 : 0.6216    map@20 : 0.0837    precision@20 : 0.0576    gauc : 0.8775    itemcoverage@20 : 0.1671    averagepopularity@20 : 108.4356    giniindex@20 : 0.9434    shannonentropy@20 : 0.0178    tailpercentage@20 : 0.0    F1 : 0.0943073047858942\n",
      "07 Feb 18:14    INFO  Saving current: /home/RecBole/saved/LightGCN-Feb-07-2023_18-14-24.pth\n",
      "07 Feb 18:14    INFO  epoch 29 training [time: 0.10s, train loss: 2.1571]\n"
     ]
    },
    {
     "name": "stdout",
     "output_type": "stream",
     "text": [
      "interaction :  The batch_size of interaction: 2\n",
      "    user_id, torch.Size([2]), cpu, torch.int64\n",
      "\n",
      "\n",
      "scores :  tensor([[   -inf,  1.0502,  3.7914,  ...,  0.5599, -0.0938,  0.4203],\n",
      "        [   -inf,  3.4179,  2.0499,  ..., -0.0740,  0.2063,  0.2646]],\n",
      "       device='cuda:0')\n",
      "scores size :  torch.Size([2, 1622])\n",
      "positive_u :  tensor([0, 0, 0, 0, 0, 0, 0, 0, 0, 1])\n",
      "positive_i:  tensor([224, 194, 663, 393, 425, 464, 820, 375, 152, 306])\n",
      "result :  OrderedDict([('recall@20', 0.265), ('mrr@20', 0.2037), ('ndcg@20', 0.1624), ('hit@20', 0.625), ('map@20', 0.0831), ('precision@20', 0.0568), ('gauc', 0.8776), ('itemcoverage@20', 0.1677), ('averagepopularity@20', 109.0985), ('giniindex@20', 0.9442), ('shannonentropy@20', 0.0177), ('tailpercentage@20', 0.0), ('F1', 0.09354878806712244)])\n"
     ]
    },
    {
     "name": "stderr",
     "output_type": "stream",
     "text": [
      "07 Feb 18:14    INFO  epoch 29 evaluating [time: 0.20s, valid_score: 0.203700]\n",
      "07 Feb 18:14    INFO  valid result: \n",
      "recall@20 : 0.265    mrr@20 : 0.2037    ndcg@20 : 0.1624    hit@20 : 0.625    map@20 : 0.0831    precision@20 : 0.0568    gauc : 0.8776    itemcoverage@20 : 0.1677    averagepopularity@20 : 109.0985    giniindex@20 : 0.9442    shannonentropy@20 : 0.0177    tailpercentage@20 : 0.0    F1 : 0.09354878806712244\n",
      "07 Feb 18:14    INFO  epoch 30 training [time: 0.09s, train loss: 2.1443]\n"
     ]
    },
    {
     "name": "stdout",
     "output_type": "stream",
     "text": [
      "interaction :  The batch_size of interaction: 2\n",
      "    user_id, torch.Size([2]), cpu, torch.int64\n",
      "\n",
      "\n",
      "scores :  tensor([[   -inf,  0.9866,  3.7210,  ...,  0.5505, -0.0985,  0.4122],\n",
      "        [   -inf,  3.3615,  2.0375,  ..., -0.0757,  0.2079,  0.2666]],\n",
      "       device='cuda:0')\n",
      "scores size :  torch.Size([2, 1622])\n",
      "positive_u :  tensor([0, 0, 0, 0, 0, 0, 0, 0, 0, 1])\n",
      "positive_i:  tensor([224, 194, 663, 393, 425, 464, 820, 375, 152, 306])\n",
      "result :  OrderedDict([('recall@20', 0.2638), ('mrr@20', 0.2026), ('ndcg@20', 0.1622), ('hit@20', 0.6233), ('map@20', 0.083), ('precision@20', 0.0572), ('gauc', 0.8778), ('itemcoverage@20', 0.1714), ('averagepopularity@20', 108.3661), ('giniindex@20', 0.943), ('shannonentropy@20', 0.0174), ('tailpercentage@20', 0.0), ('F1', 0.09401470404984424)])\n"
     ]
    },
    {
     "name": "stderr",
     "output_type": "stream",
     "text": [
      "07 Feb 18:14    INFO  epoch 30 evaluating [time: 0.19s, valid_score: 0.202600]\n",
      "07 Feb 18:14    INFO  valid result: \n",
      "recall@20 : 0.2638    mrr@20 : 0.2026    ndcg@20 : 0.1622    hit@20 : 0.6233    map@20 : 0.083    precision@20 : 0.0572    gauc : 0.8778    itemcoverage@20 : 0.1714    averagepopularity@20 : 108.3661    giniindex@20 : 0.943    shannonentropy@20 : 0.0174    tailpercentage@20 : 0.0    F1 : 0.09401470404984424\n",
      "07 Feb 18:14    INFO  epoch 31 training [time: 0.05s, train loss: 2.1975]\n"
     ]
    },
    {
     "name": "stdout",
     "output_type": "stream",
     "text": [
      "interaction :  The batch_size of interaction: 2\n",
      "    user_id, torch.Size([2]), cpu, torch.int64\n",
      "\n",
      "\n",
      "scores :  tensor([[   -inf,  0.8250,  3.6578,  ...,  0.5536, -0.0815,  0.4059],\n",
      "        [   -inf,  3.1679,  1.9334,  ..., -0.0899,  0.1971,  0.2527]],\n",
      "       device='cuda:0')\n",
      "scores size :  torch.Size([2, 1622])\n",
      "positive_u :  tensor([0, 0, 0, 0, 0, 0, 0, 0, 0, 1])\n",
      "positive_i:  tensor([224, 194, 663, 393, 425, 464, 820, 375, 152, 306])\n",
      "result :  OrderedDict([('recall@20', 0.2676), ('mrr@20', 0.2049), ('ndcg@20', 0.1637), ('hit@20', 0.6267), ('map@20', 0.0834), ('precision@20', 0.0582), ('gauc', 0.878), ('itemcoverage@20', 0.1757), ('averagepopularity@20', 107.336), ('giniindex@20', 0.9412), ('shannonentropy@20', 0.0171), ('tailpercentage@20', 0.0), ('F1', 0.09560662983425415)])\n"
     ]
    },
    {
     "name": "stderr",
     "output_type": "stream",
     "text": [
      "07 Feb 18:14    INFO  epoch 31 evaluating [time: 0.19s, valid_score: 0.204900]\n",
      "07 Feb 18:14    INFO  valid result: \n",
      "recall@20 : 0.2676    mrr@20 : 0.2049    ndcg@20 : 0.1637    hit@20 : 0.6267    map@20 : 0.0834    precision@20 : 0.0582    gauc : 0.878    itemcoverage@20 : 0.1757    averagepopularity@20 : 107.336    giniindex@20 : 0.9412    shannonentropy@20 : 0.0171    tailpercentage@20 : 0.0    F1 : 0.09560662983425415\n",
      "07 Feb 18:14    INFO  epoch 32 training [time: 0.07s, train loss: 2.1394]\n"
     ]
    },
    {
     "name": "stdout",
     "output_type": "stream",
     "text": [
      "interaction :  The batch_size of interaction: 2\n",
      "    user_id, torch.Size([2]), cpu, torch.int64\n",
      "\n",
      "\n",
      "scores :  tensor([[   -inf,  1.0918,  3.7548,  ...,  0.5750, -0.0399,  0.4151],\n",
      "        [   -inf,  3.2708,  1.9712,  ..., -0.0806,  0.2019,  0.2539]],\n",
      "       device='cuda:0')\n",
      "scores size :  torch.Size([2, 1622])\n",
      "positive_u :  tensor([0, 0, 0, 0, 0, 0, 0, 0, 0, 1])\n",
      "positive_i:  tensor([224, 194, 663, 393, 425, 464, 820, 375, 152, 306])\n",
      "result :  OrderedDict([('recall@20', 0.264), ('mrr@20', 0.202), ('ndcg@20', 0.1619), ('hit@20', 0.6216), ('map@20', 0.0827), ('precision@20', 0.0571), ('gauc', 0.8781), ('itemcoverage@20', 0.1751), ('averagepopularity@20', 108.3008), ('giniindex@20', 0.9428), ('shannonentropy@20', 0.017), ('tailpercentage@20', 0.0), ('F1', 0.09389224540641544)])\n"
     ]
    },
    {
     "name": "stderr",
     "output_type": "stream",
     "text": [
      "07 Feb 18:14    INFO  epoch 32 evaluating [time: 0.20s, valid_score: 0.202000]\n",
      "07 Feb 18:14    INFO  valid result: \n",
      "recall@20 : 0.264    mrr@20 : 0.202    ndcg@20 : 0.1619    hit@20 : 0.6216    map@20 : 0.0827    precision@20 : 0.0571    gauc : 0.8781    itemcoverage@20 : 0.1751    averagepopularity@20 : 108.3008    giniindex@20 : 0.9428    shannonentropy@20 : 0.017    tailpercentage@20 : 0.0    F1 : 0.09389224540641544\n",
      "07 Feb 18:14    INFO  epoch 33 training [time: 0.05s, train loss: 2.1478]\n"
     ]
    },
    {
     "name": "stdout",
     "output_type": "stream",
     "text": [
      "interaction :  The batch_size of interaction: 2\n",
      "    user_id, torch.Size([2]), cpu, torch.int64\n",
      "\n",
      "\n",
      "scores :  tensor([[   -inf,  0.8129,  3.5716,  ...,  0.5738, -0.0328,  0.4016],\n",
      "        [   -inf,  3.1505,  1.8635,  ..., -0.0865,  0.2043,  0.2411]],\n",
      "       device='cuda:0')\n",
      "scores size :  torch.Size([2, 1622])\n",
      "positive_u :  tensor([0, 0, 0, 0, 0, 0, 0, 0, 0, 1])\n",
      "positive_i:  tensor([224, 194, 663, 393, 425, 464, 820, 375, 152, 306])\n",
      "result :  OrderedDict([('recall@20', 0.2689), ('mrr@20', 0.2032), ('ndcg@20', 0.1638), ('hit@20', 0.625), ('map@20', 0.0833), ('precision@20', 0.0585), ('gauc', 0.8783), ('itemcoverage@20', 0.1788), ('averagepopularity@20', 106.9017), ('giniindex@20', 0.9404), ('shannonentropy@20', 0.0168), ('tailpercentage@20', 0.0), ('F1', 0.09609437996334759)])\n"
     ]
    },
    {
     "name": "stderr",
     "output_type": "stream",
     "text": [
      "07 Feb 18:14    INFO  epoch 33 evaluating [time: 0.20s, valid_score: 0.203200]\n",
      "07 Feb 18:14    INFO  valid result: \n",
      "recall@20 : 0.2689    mrr@20 : 0.2032    ndcg@20 : 0.1638    hit@20 : 0.625    map@20 : 0.0833    precision@20 : 0.0585    gauc : 0.8783    itemcoverage@20 : 0.1788    averagepopularity@20 : 106.9017    giniindex@20 : 0.9404    shannonentropy@20 : 0.0168    tailpercentage@20 : 0.0    F1 : 0.09609437996334759\n",
      "07 Feb 18:14    INFO  epoch 34 training [time: 0.12s, train loss: 2.1077]\n"
     ]
    },
    {
     "name": "stdout",
     "output_type": "stream",
     "text": [
      "interaction :  The batch_size of interaction: 2\n",
      "    user_id, torch.Size([2]), cpu, torch.int64\n",
      "\n",
      "\n",
      "scores :  tensor([[   -inf,  0.9516,  3.7240,  ...,  0.5936, -0.0146,  0.4273],\n",
      "        [   -inf,  3.2994,  1.9779,  ..., -0.0684,  0.2263,  0.2570]],\n",
      "       device='cuda:0')\n",
      "scores size :  torch.Size([2, 1622])\n",
      "positive_u :  tensor([0, 0, 0, 0, 0, 0, 0, 0, 0, 1])\n",
      "positive_i:  tensor([224, 194, 663, 393, 425, 464, 820, 375, 152, 306])\n",
      "result :  OrderedDict([('recall@20', 0.2695), ('mrr@20', 0.2026), ('ndcg@20', 0.1637), ('hit@20', 0.6267), ('map@20', 0.0832), ('precision@20', 0.0582), ('gauc', 0.8787), ('itemcoverage@20', 0.1782), ('averagepopularity@20', 107.7779), ('giniindex@20', 0.9416), ('shannonentropy@20', 0.0168), ('tailpercentage@20', 0.0), ('F1', 0.09572718950259385)])\n"
     ]
    },
    {
     "name": "stderr",
     "output_type": "stream",
     "text": [
      "07 Feb 18:14    INFO  epoch 34 evaluating [time: 0.19s, valid_score: 0.202600]\n",
      "07 Feb 18:14    INFO  valid result: \n",
      "recall@20 : 0.2695    mrr@20 : 0.2026    ndcg@20 : 0.1637    hit@20 : 0.6267    map@20 : 0.0832    precision@20 : 0.0582    gauc : 0.8787    itemcoverage@20 : 0.1782    averagepopularity@20 : 107.7779    giniindex@20 : 0.9416    shannonentropy@20 : 0.0168    tailpercentage@20 : 0.0    F1 : 0.09572718950259385\n",
      "07 Feb 18:14    INFO  epoch 35 training [time: 0.08s, train loss: 2.0867]\n"
     ]
    },
    {
     "name": "stdout",
     "output_type": "stream",
     "text": [
      "interaction :  The batch_size of interaction: 2\n",
      "    user_id, torch.Size([2]), cpu, torch.int64\n",
      "\n",
      "\n",
      "scores :  tensor([[   -inf,  0.8930,  3.7228,  ...,  0.6143, -0.0193,  0.4319],\n",
      "        [   -inf,  3.2703,  1.9435,  ..., -0.0608,  0.2242,  0.2519]],\n",
      "       device='cuda:0')\n",
      "scores size :  torch.Size([2, 1622])\n",
      "positive_u :  tensor([0, 0, 0, 0, 0, 0, 0, 0, 0, 1])\n",
      "positive_i:  tensor([224, 194, 663, 393, 425, 464, 820, 375, 152, 306])\n",
      "result :  OrderedDict([('recall@20', 0.2686), ('mrr@20', 0.2049), ('ndcg@20', 0.1641), ('hit@20', 0.6233), ('map@20', 0.0836), ('precision@20', 0.0583), ('gauc', 0.8788), ('itemcoverage@20', 0.18), ('averagepopularity@20', 107.1396), ('giniindex@20', 0.9406), ('shannonentropy@20', 0.0167), ('tailpercentage@20', 0.0), ('F1', 0.0958053227286632)])\n"
     ]
    },
    {
     "name": "stderr",
     "output_type": "stream",
     "text": [
      "07 Feb 18:14    INFO  epoch 35 evaluating [time: 0.19s, valid_score: 0.204900]\n",
      "07 Feb 18:14    INFO  valid result: \n",
      "recall@20 : 0.2686    mrr@20 : 0.2049    ndcg@20 : 0.1641    hit@20 : 0.6233    map@20 : 0.0836    precision@20 : 0.0583    gauc : 0.8788    itemcoverage@20 : 0.18    averagepopularity@20 : 107.1396    giniindex@20 : 0.9406    shannonentropy@20 : 0.0167    tailpercentage@20 : 0.0    F1 : 0.0958053227286632\n",
      "07 Feb 18:14    INFO  epoch 36 training [time: 0.12s, train loss: 2.0894]\n"
     ]
    },
    {
     "name": "stdout",
     "output_type": "stream",
     "text": [
      "interaction :  The batch_size of interaction: 2\n",
      "    user_id, torch.Size([2]), cpu, torch.int64\n",
      "\n",
      "\n",
      "scores :  tensor([[   -inf,  0.8444,  3.6208,  ...,  0.6210, -0.0440,  0.4223],\n",
      "        [   -inf,  3.2575,  1.8877,  ..., -0.0542,  0.2215,  0.2388]],\n",
      "       device='cuda:0')\n",
      "scores size :  torch.Size([2, 1622])\n",
      "positive_u :  tensor([0, 0, 0, 0, 0, 0, 0, 0, 0, 1])\n",
      "positive_i:  tensor([224, 194, 663, 393, 425, 464, 820, 375, 152, 306])\n",
      "result :  OrderedDict([('recall@20', 0.2665), ('mrr@20', 0.2051), ('ndcg@20', 0.1635), ('hit@20', 0.6216), ('map@20', 0.0833), ('precision@20', 0.0584), ('gauc', 0.8789), ('itemcoverage@20', 0.1843), ('averagepopularity@20', 106.6217), ('giniindex@20', 0.9398), ('shannonentropy@20', 0.0163), ('tailpercentage@20', 0.0), ('F1', 0.0958054786088027)])\n"
     ]
    },
    {
     "name": "stderr",
     "output_type": "stream",
     "text": [
      "07 Feb 18:14    INFO  epoch 36 evaluating [time: 0.19s, valid_score: 0.205100]\n",
      "07 Feb 18:14    INFO  valid result: \n",
      "recall@20 : 0.2665    mrr@20 : 0.2051    ndcg@20 : 0.1635    hit@20 : 0.6216    map@20 : 0.0833    precision@20 : 0.0584    gauc : 0.8789    itemcoverage@20 : 0.1843    averagepopularity@20 : 106.6217    giniindex@20 : 0.9398    shannonentropy@20 : 0.0163    tailpercentage@20 : 0.0    F1 : 0.0958054786088027\n",
      "07 Feb 18:14    INFO  epoch 37 training [time: 0.08s, train loss: 2.0646]\n"
     ]
    },
    {
     "name": "stdout",
     "output_type": "stream",
     "text": [
      "interaction :  The batch_size of interaction: 2\n",
      "    user_id, torch.Size([2]), cpu, torch.int64\n",
      "\n",
      "\n",
      "scores :  tensor([[   -inf,  1.0099,  3.7501,  ...,  0.6300, -0.0461,  0.4351],\n",
      "        [   -inf,  3.3394,  1.9871,  ..., -0.0358,  0.2370,  0.2441]],\n",
      "       device='cuda:0')\n",
      "scores size :  torch.Size([2, 1622])\n",
      "positive_u :  tensor([0, 0, 0, 0, 0, 0, 0, 0, 0, 1])\n",
      "positive_i:  tensor([224, 194, 663, 393, 425, 464, 820, 375, 152, 306])\n",
      "result :  OrderedDict([('recall@20', 0.2645), ('mrr@20', 0.2028), ('ndcg@20', 0.1624), ('hit@20', 0.6164), ('map@20', 0.083), ('precision@20', 0.0574), ('gauc', 0.8792), ('itemcoverage@20', 0.1831), ('averagepopularity@20', 107.3622), ('giniindex@20', 0.9409), ('shannonentropy@20', 0.0164), ('tailpercentage@20', 0.0), ('F1', 0.09432929481205343)])\n"
     ]
    },
    {
     "name": "stderr",
     "output_type": "stream",
     "text": [
      "07 Feb 18:14    INFO  epoch 37 evaluating [time: 0.18s, valid_score: 0.202800]\n",
      "07 Feb 18:14    INFO  valid result: \n",
      "recall@20 : 0.2645    mrr@20 : 0.2028    ndcg@20 : 0.1624    hit@20 : 0.6164    map@20 : 0.083    precision@20 : 0.0574    gauc : 0.8792    itemcoverage@20 : 0.1831    averagepopularity@20 : 107.3622    giniindex@20 : 0.9409    shannonentropy@20 : 0.0164    tailpercentage@20 : 0.0    F1 : 0.09432929481205343\n",
      "07 Feb 18:14    INFO  epoch 38 training [time: 0.05s, train loss: 2.1088]\n"
     ]
    },
    {
     "name": "stdout",
     "output_type": "stream",
     "text": [
      "interaction :  The batch_size of interaction: 2\n",
      "    user_id, torch.Size([2]), cpu, torch.int64\n",
      "\n",
      "\n",
      "scores :  tensor([[   -inf,  0.8483,  3.7641,  ...,  0.6263, -0.0593,  0.4377],\n",
      "        [   -inf,  3.1915,  1.9007,  ..., -0.0436,  0.2351,  0.2273]],\n",
      "       device='cuda:0')\n",
      "scores size :  torch.Size([2, 1622])\n",
      "positive_u :  tensor([0, 0, 0, 0, 0, 0, 0, 0, 0, 1])\n",
      "positive_i:  tensor([224, 194, 663, 393, 425, 464, 820, 375, 152, 306])\n",
      "result :  OrderedDict([('recall@20', 0.2672), ('mrr@20', 0.207), ('ndcg@20', 0.1641), ('hit@20', 0.6216), ('map@20', 0.0837), ('precision@20', 0.0583), ('gauc', 0.8794), ('itemcoverage@20', 0.1862), ('averagepopularity@20', 106.4683), ('giniindex@20', 0.9392), ('shannonentropy@20', 0.0162), ('tailpercentage@20', 0.0), ('F1', 0.09571588325652841)])\n"
     ]
    },
    {
     "name": "stderr",
     "output_type": "stream",
     "text": [
      "07 Feb 18:14    INFO  epoch 38 evaluating [time: 0.19s, valid_score: 0.207000]\n",
      "07 Feb 18:14    INFO  valid result: \n",
      "recall@20 : 0.2672    mrr@20 : 0.207    ndcg@20 : 0.1641    hit@20 : 0.6216    map@20 : 0.0837    precision@20 : 0.0583    gauc : 0.8794    itemcoverage@20 : 0.1862    averagepopularity@20 : 106.4683    giniindex@20 : 0.9392    shannonentropy@20 : 0.0162    tailpercentage@20 : 0.0    F1 : 0.09571588325652841\n",
      "07 Feb 18:14    INFO  epoch 39 training [time: 0.11s, train loss: 2.0747]\n"
     ]
    },
    {
     "name": "stdout",
     "output_type": "stream",
     "text": [
      "interaction :  The batch_size of interaction: 2\n",
      "    user_id, torch.Size([2]), cpu, torch.int64\n",
      "\n",
      "\n",
      "scores :  tensor([[   -inf,  1.0058,  3.5984,  ...,  0.6052, -0.0430,  0.4194],\n",
      "        [   -inf,  3.3041,  1.9050,  ..., -0.0478,  0.2546,  0.2221]],\n",
      "       device='cuda:0')\n",
      "scores size :  torch.Size([2, 1622])\n",
      "positive_u :  tensor([0, 0, 0, 0, 0, 0, 0, 0, 0, 1])\n",
      "positive_i:  tensor([224, 194, 663, 393, 425, 464, 820, 375, 152, 306])\n",
      "result :  OrderedDict([('recall@20', 0.2678), ('mrr@20', 0.2037), ('ndcg@20', 0.1641), ('hit@20', 0.6182), ('map@20', 0.0838), ('precision@20', 0.0584), ('gauc', 0.8796), ('itemcoverage@20', 0.1905), ('averagepopularity@20', 106.8121), ('giniindex@20', 0.9398), ('shannonentropy@20', 0.0158), ('tailpercentage@20', 0.0), ('F1', 0.09588914776210915)])\n"
     ]
    },
    {
     "name": "stderr",
     "output_type": "stream",
     "text": [
      "07 Feb 18:14    INFO  epoch 39 evaluating [time: 0.19s, valid_score: 0.203700]\n",
      "07 Feb 18:14    INFO  valid result: \n",
      "recall@20 : 0.2678    mrr@20 : 0.2037    ndcg@20 : 0.1641    hit@20 : 0.6182    map@20 : 0.0838    precision@20 : 0.0584    gauc : 0.8796    itemcoverage@20 : 0.1905    averagepopularity@20 : 106.8121    giniindex@20 : 0.9398    shannonentropy@20 : 0.0158    tailpercentage@20 : 0.0    F1 : 0.09588914776210915\n",
      "07 Feb 18:14    INFO  epoch 40 training [time: 0.09s, train loss: 2.0715]\n"
     ]
    },
    {
     "name": "stdout",
     "output_type": "stream",
     "text": [
      "interaction :  The batch_size of interaction: 2\n",
      "    user_id, torch.Size([2]), cpu, torch.int64\n",
      "\n",
      "\n",
      "scores :  tensor([[   -inf,  0.9209,  3.6347,  ...,  0.6024, -0.0185,  0.4315],\n",
      "        [   -inf,  3.2202,  1.8963,  ..., -0.0534,  0.2525,  0.2137]],\n",
      "       device='cuda:0')\n",
      "scores size :  torch.Size([2, 1622])\n",
      "positive_u :  tensor([0, 0, 0, 0, 0, 0, 0, 0, 0, 1])\n",
      "positive_i:  tensor([224, 194, 663, 393, 425, 464, 820, 375, 152, 306])\n",
      "result :  OrderedDict([('recall@20', 0.2661), ('mrr@20', 0.205), ('ndcg@20', 0.1637), ('hit@20', 0.6182), ('map@20', 0.0838), ('precision@20', 0.058), ('gauc', 0.88), ('itemcoverage@20', 0.1917), ('averagepopularity@20', 106.4375), ('giniindex@20', 0.9389), ('shannonentropy@20', 0.0157), ('tailpercentage@20', 0.0), ('F1', 0.09524097500771367)])\n"
     ]
    },
    {
     "name": "stderr",
     "output_type": "stream",
     "text": [
      "07 Feb 18:14    INFO  epoch 40 evaluating [time: 0.20s, valid_score: 0.205000]\n",
      "07 Feb 18:14    INFO  valid result: \n",
      "recall@20 : 0.2661    mrr@20 : 0.205    ndcg@20 : 0.1637    hit@20 : 0.6182    map@20 : 0.0838    precision@20 : 0.058    gauc : 0.88    itemcoverage@20 : 0.1917    averagepopularity@20 : 106.4375    giniindex@20 : 0.9389    shannonentropy@20 : 0.0157    tailpercentage@20 : 0.0    F1 : 0.09524097500771367\n",
      "07 Feb 18:14    INFO  epoch 41 training [time: 0.11s, train loss: 2.0699]\n"
     ]
    },
    {
     "name": "stdout",
     "output_type": "stream",
     "text": [
      "interaction :  The batch_size of interaction: 2\n",
      "    user_id, torch.Size([2]), cpu, torch.int64\n",
      "\n",
      "\n",
      "scores :  tensor([[   -inf,  1.0487,  3.7146,  ...,  0.6055, -0.0042,  0.4378],\n",
      "        [   -inf,  3.2469,  1.9489,  ..., -0.0506,  0.2535,  0.2156]],\n",
      "       device='cuda:0')\n",
      "scores size :  torch.Size([2, 1622])\n",
      "positive_u :  tensor([0, 0, 0, 0, 0, 0, 0, 0, 0, 1])\n",
      "positive_i:  tensor([224, 194, 663, 393, 425, 464, 820, 375, 152, 306])\n",
      "result :  OrderedDict([('recall@20', 0.2659), ('mrr@20', 0.2058), ('ndcg@20', 0.1641), ('hit@20', 0.6164), ('map@20', 0.0843), ('precision@20', 0.0579), ('gauc', 0.8803), ('itemcoverage@20', 0.1936), ('averagepopularity@20', 106.7253), ('giniindex@20', 0.9391), ('shannonentropy@20', 0.0156), ('tailpercentage@20', 0.0), ('F1', 0.09509332921556517)])\n"
     ]
    },
    {
     "name": "stderr",
     "output_type": "stream",
     "text": [
      "07 Feb 18:14    INFO  epoch 41 evaluating [time: 0.20s, valid_score: 0.205800]\n",
      "07 Feb 18:14    INFO  valid result: \n",
      "recall@20 : 0.2659    mrr@20 : 0.2058    ndcg@20 : 0.1641    hit@20 : 0.6164    map@20 : 0.0843    precision@20 : 0.0579    gauc : 0.8803    itemcoverage@20 : 0.1936    averagepopularity@20 : 106.7253    giniindex@20 : 0.9391    shannonentropy@20 : 0.0156    tailpercentage@20 : 0.0    F1 : 0.09509332921556517\n",
      "07 Feb 18:14    INFO  epoch 42 training [time: 0.10s, train loss: 2.0523]\n"
     ]
    },
    {
     "name": "stdout",
     "output_type": "stream",
     "text": [
      "interaction :  The batch_size of interaction: 2\n",
      "    user_id, torch.Size([2]), cpu, torch.int64\n",
      "\n",
      "\n",
      "scores :  tensor([[   -inf,  1.0293,  3.5788,  ...,  0.5979, -0.0236,  0.4119],\n",
      "        [   -inf,  3.2119,  1.8144,  ..., -0.0475,  0.2400,  0.1940]],\n",
      "       device='cuda:0')\n",
      "scores size :  torch.Size([2, 1622])\n",
      "positive_u :  tensor([0, 0, 0, 0, 0, 0, 0, 0, 0, 1])\n",
      "positive_i:  tensor([224, 194, 663, 393, 425, 464, 820, 375, 152, 306])\n",
      "result :  OrderedDict([('recall@20', 0.2692), ('mrr@20', 0.207), ('ndcg@20', 0.1652), ('hit@20', 0.6233), ('map@20', 0.0845), ('precision@20', 0.0584), ('gauc', 0.8804), ('itemcoverage@20', 0.1998), ('averagepopularity@20', 106.0703), ('giniindex@20', 0.938), ('shannonentropy@20', 0.0152), ('tailpercentage@20', 0.0), ('F1', 0.09597851037851038)])\n"
     ]
    },
    {
     "name": "stderr",
     "output_type": "stream",
     "text": [
      "07 Feb 18:14    INFO  epoch 42 evaluating [time: 0.20s, valid_score: 0.207000]\n",
      "07 Feb 18:14    INFO  valid result: \n",
      "recall@20 : 0.2692    mrr@20 : 0.207    ndcg@20 : 0.1652    hit@20 : 0.6233    map@20 : 0.0845    precision@20 : 0.0584    gauc : 0.8804    itemcoverage@20 : 0.1998    averagepopularity@20 : 106.0703    giniindex@20 : 0.938    shannonentropy@20 : 0.0152    tailpercentage@20 : 0.0    F1 : 0.09597851037851038\n",
      "07 Feb 18:14    INFO  epoch 43 training [time: 0.05s, train loss: 2.0211]\n"
     ]
    },
    {
     "name": "stdout",
     "output_type": "stream",
     "text": [
      "interaction :  The batch_size of interaction: 2\n",
      "    user_id, torch.Size([2]), cpu, torch.int64\n",
      "\n",
      "\n",
      "scores :  tensor([[   -inf,  1.2582,  3.7824,  ...,  0.6173,  0.0064,  0.4280],\n",
      "        [   -inf,  3.3612,  1.8912,  ..., -0.0224,  0.2583,  0.1969]],\n",
      "       device='cuda:0')\n",
      "scores size :  torch.Size([2, 1622])\n",
      "positive_u :  tensor([0, 0, 0, 0, 0, 0, 0, 0, 0, 1])\n",
      "positive_i:  tensor([224, 194, 663, 393, 425, 464, 820, 375, 152, 306])\n",
      "result :  OrderedDict([('recall@20', 0.2677), ('mrr@20', 0.2072), ('ndcg@20', 0.1651), ('hit@20', 0.6216), ('map@20', 0.0848), ('precision@20', 0.0581), ('gauc', 0.8806), ('itemcoverage@20', 0.1942), ('averagepopularity@20', 107.0486), ('giniindex@20', 0.9396), ('shannonentropy@20', 0.0155), ('tailpercentage@20', 0.0), ('F1', 0.0954780233271946)])\n"
     ]
    },
    {
     "name": "stderr",
     "output_type": "stream",
     "text": [
      "07 Feb 18:14    INFO  epoch 43 evaluating [time: 0.19s, valid_score: 0.207200]\n",
      "07 Feb 18:14    INFO  valid result: \n",
      "recall@20 : 0.2677    mrr@20 : 0.2072    ndcg@20 : 0.1651    hit@20 : 0.6216    map@20 : 0.0848    precision@20 : 0.0581    gauc : 0.8806    itemcoverage@20 : 0.1942    averagepopularity@20 : 107.0486    giniindex@20 : 0.9396    shannonentropy@20 : 0.0155    tailpercentage@20 : 0.0    F1 : 0.0954780233271946\n",
      "07 Feb 18:14    INFO  epoch 44 training [time: 0.05s, train loss: 2.0414]\n"
     ]
    },
    {
     "name": "stdout",
     "output_type": "stream",
     "text": [
      "interaction :  The batch_size of interaction: 2\n",
      "    user_id, torch.Size([2]), cpu, torch.int64\n",
      "\n",
      "\n",
      "scores :  tensor([[   -inf,  1.1527,  3.6895,  ...,  0.6131,  0.0220,  0.4223],\n",
      "        [   -inf,  3.1786,  1.7852,  ..., -0.0139,  0.2626,  0.1846]],\n",
      "       device='cuda:0')\n",
      "scores size :  torch.Size([2, 1622])\n",
      "positive_u :  tensor([0, 0, 0, 0, 0, 0, 0, 0, 0, 1])\n",
      "positive_i:  tensor([224, 194, 663, 393, 425, 464, 820, 375, 152, 306])\n",
      "result :  OrderedDict([('recall@20', 0.2681), ('mrr@20', 0.2119), ('ndcg@20', 0.1663), ('hit@20', 0.6233), ('map@20', 0.0855), ('precision@20', 0.0586), ('gauc', 0.8808), ('itemcoverage@20', 0.1991), ('averagepopularity@20', 105.9848), ('giniindex@20', 0.9378), ('shannonentropy@20', 0.0152), ('tailpercentage@20', 0.0), ('F1', 0.09617790021426387)])\n"
     ]
    },
    {
     "name": "stderr",
     "output_type": "stream",
     "text": [
      "07 Feb 18:14    INFO  epoch 44 evaluating [time: 0.19s, valid_score: 0.211900]\n",
      "07 Feb 18:14    INFO  valid result: \n",
      "recall@20 : 0.2681    mrr@20 : 0.2119    ndcg@20 : 0.1663    hit@20 : 0.6233    map@20 : 0.0855    precision@20 : 0.0586    gauc : 0.8808    itemcoverage@20 : 0.1991    averagepopularity@20 : 105.9848    giniindex@20 : 0.9378    shannonentropy@20 : 0.0152    tailpercentage@20 : 0.0    F1 : 0.09617790021426387\n",
      "07 Feb 18:14    INFO  Saving current: /home/RecBole/saved/LightGCN-Feb-07-2023_18-14-24.pth\n",
      "07 Feb 18:14    INFO  epoch 45 training [time: 0.05s, train loss: 2.0441]\n"
     ]
    },
    {
     "name": "stdout",
     "output_type": "stream",
     "text": [
      "interaction :  The batch_size of interaction: 2\n",
      "    user_id, torch.Size([2]), cpu, torch.int64\n",
      "\n",
      "\n",
      "scores :  tensor([[   -inf,  0.9733,  3.5195,  ...,  0.5896,  0.0141,  0.4036],\n",
      "        [   -inf,  3.0777,  1.7289,  ..., -0.0087,  0.2675,  0.1783]],\n",
      "       device='cuda:0')\n",
      "scores size :  torch.Size([2, 1622])\n",
      "positive_u :  tensor([0, 0, 0, 0, 0, 0, 0, 0, 0, 1])\n",
      "positive_i:  tensor([224, 194, 663, 393, 425, 464, 820, 375, 152, 306])\n",
      "result :  OrderedDict([('recall@20', 0.2696), ('mrr@20', 0.2126), ('ndcg@20', 0.1665), ('hit@20', 0.625), ('map@20', 0.0854), ('precision@20', 0.0586), ('gauc', 0.8809), ('itemcoverage@20', 0.2041), ('averagepopularity@20', 105.1572), ('giniindex@20', 0.9363), ('shannonentropy@20', 0.0149), ('tailpercentage@20', 0.0), ('F1', 0.09627397928092626)])\n"
     ]
    },
    {
     "name": "stderr",
     "output_type": "stream",
     "text": [
      "07 Feb 18:14    INFO  epoch 45 evaluating [time: 0.19s, valid_score: 0.212600]\n",
      "07 Feb 18:14    INFO  valid result: \n",
      "recall@20 : 0.2696    mrr@20 : 0.2126    ndcg@20 : 0.1665    hit@20 : 0.625    map@20 : 0.0854    precision@20 : 0.0586    gauc : 0.8809    itemcoverage@20 : 0.2041    averagepopularity@20 : 105.1572    giniindex@20 : 0.9363    shannonentropy@20 : 0.0149    tailpercentage@20 : 0.0    F1 : 0.09627397928092626\n",
      "07 Feb 18:14    INFO  Saving current: /home/RecBole/saved/LightGCN-Feb-07-2023_18-14-24.pth\n",
      "07 Feb 18:14    INFO  epoch 46 training [time: 0.05s, train loss: 2.0215]\n"
     ]
    },
    {
     "name": "stdout",
     "output_type": "stream",
     "text": [
      "interaction :  The batch_size of interaction: 2\n",
      "    user_id, torch.Size([2]), cpu, torch.int64\n",
      "\n",
      "\n",
      "scores :  tensor([[  -inf, 1.0742, 3.7154,  ..., 0.6037, 0.0390, 0.4312],\n",
      "        [  -inf, 3.1781, 1.8465,  ..., 0.0080, 0.2760, 0.1934]],\n",
      "       device='cuda:0')\n",
      "scores size :  torch.Size([2, 1622])\n",
      "positive_u :  tensor([0, 0, 0, 0, 0, 0, 0, 0, 0, 1])\n",
      "positive_i:  tensor([224, 194, 663, 393, 425, 464, 820, 375, 152, 306])\n",
      "result :  OrderedDict([('recall@20', 0.2712), ('mrr@20', 0.2097), ('ndcg@20', 0.1661), ('hit@20', 0.6284), ('map@20', 0.0849), ('precision@20', 0.0584), ('gauc', 0.8814), ('itemcoverage@20', 0.1998), ('averagepopularity@20', 106.2438), ('giniindex@20', 0.938), ('shannonentropy@20', 0.0152), ('tailpercentage@20', 0.0), ('F1', 0.09610485436893204)])\n"
     ]
    },
    {
     "name": "stderr",
     "output_type": "stream",
     "text": [
      "07 Feb 18:14    INFO  epoch 46 evaluating [time: 0.19s, valid_score: 0.209700]\n",
      "07 Feb 18:14    INFO  valid result: \n",
      "recall@20 : 0.2712    mrr@20 : 0.2097    ndcg@20 : 0.1661    hit@20 : 0.6284    map@20 : 0.0849    precision@20 : 0.0584    gauc : 0.8814    itemcoverage@20 : 0.1998    averagepopularity@20 : 106.2438    giniindex@20 : 0.938    shannonentropy@20 : 0.0152    tailpercentage@20 : 0.0    F1 : 0.09610485436893204\n",
      "07 Feb 18:14    INFO  epoch 47 training [time: 0.10s, train loss: 2.0378]\n"
     ]
    },
    {
     "name": "stdout",
     "output_type": "stream",
     "text": [
      "interaction :  The batch_size of interaction: 2\n",
      "    user_id, torch.Size([2]), cpu, torch.int64\n",
      "\n",
      "\n",
      "scores :  tensor([[       -inf,  9.4499e-01,  3.6547e+00,  ...,  5.9699e-01,\n",
      "          1.8067e-02,  4.2866e-01],\n",
      "        [       -inf,  3.0179e+00,  1.7274e+00,  ..., -1.7532e-03,\n",
      "          2.5907e-01,  1.8269e-01]], device='cuda:0')\n",
      "scores size :  torch.Size([2, 1622])\n",
      "positive_u :  tensor([0, 0, 0, 0, 0, 0, 0, 0, 0, 1])\n",
      "positive_i:  tensor([224, 194, 663, 393, 425, 464, 820, 375, 152, 306])\n",
      "result :  OrderedDict([('recall@20', 0.273), ('mrr@20', 0.2136), ('ndcg@20', 0.1675), ('hit@20', 0.6267), ('map@20', 0.0857), ('precision@20', 0.0588), ('gauc', 0.8817), ('itemcoverage@20', 0.2047), ('averagepopularity@20', 105.3497), ('giniindex@20', 0.936), ('shannonentropy@20', 0.0149), ('tailpercentage@20', 0.0), ('F1', 0.09675949367088607)])\n"
     ]
    },
    {
     "name": "stderr",
     "output_type": "stream",
     "text": [
      "07 Feb 18:14    INFO  epoch 47 evaluating [time: 0.19s, valid_score: 0.213600]\n",
      "07 Feb 18:14    INFO  valid result: \n",
      "recall@20 : 0.273    mrr@20 : 0.2136    ndcg@20 : 0.1675    hit@20 : 0.6267    map@20 : 0.0857    precision@20 : 0.0588    gauc : 0.8817    itemcoverage@20 : 0.2047    averagepopularity@20 : 105.3497    giniindex@20 : 0.936    shannonentropy@20 : 0.0149    tailpercentage@20 : 0.0    F1 : 0.09675949367088607\n",
      "07 Feb 18:14    INFO  Saving current: /home/RecBole/saved/LightGCN-Feb-07-2023_18-14-24.pth\n",
      "07 Feb 18:14    INFO  epoch 48 training [time: 0.10s, train loss: 2.0013]\n"
     ]
    },
    {
     "name": "stdout",
     "output_type": "stream",
     "text": [
      "interaction :  The batch_size of interaction: 2\n",
      "    user_id, torch.Size([2]), cpu, torch.int64\n",
      "\n",
      "\n",
      "scores :  tensor([[       -inf,  1.1352e+00,  3.6164e+00,  ...,  5.9212e-01,\n",
      "         -3.8649e-04,  4.2712e-01],\n",
      "        [       -inf,  3.0165e+00,  1.7062e+00,  ...,  1.6949e-03,\n",
      "          2.5010e-01,  1.7967e-01]], device='cuda:0')\n",
      "scores size :  torch.Size([2, 1622])\n",
      "positive_u :  tensor([0, 0, 0, 0, 0, 0, 0, 0, 0, 1])\n",
      "positive_i:  tensor([224, 194, 663, 393, 425, 464, 820, 375, 152, 306])\n",
      "result :  OrderedDict([('recall@20', 0.274), ('mrr@20', 0.2108), ('ndcg@20', 0.1676), ('hit@20', 0.6301), ('map@20', 0.0857), ('precision@20', 0.059), ('gauc', 0.8818), ('itemcoverage@20', 0.2084), ('averagepopularity@20', 105.8299), ('giniindex@20', 0.9365), ('shannonentropy@20', 0.0146), ('tailpercentage@20', 0.0), ('F1', 0.09709309309309308)])\n"
     ]
    },
    {
     "name": "stderr",
     "output_type": "stream",
     "text": [
      "07 Feb 18:14    INFO  epoch 48 evaluating [time: 0.19s, valid_score: 0.210800]\n",
      "07 Feb 18:14    INFO  valid result: \n",
      "recall@20 : 0.274    mrr@20 : 0.2108    ndcg@20 : 0.1676    hit@20 : 0.6301    map@20 : 0.0857    precision@20 : 0.059    gauc : 0.8818    itemcoverage@20 : 0.2084    averagepopularity@20 : 105.8299    giniindex@20 : 0.9365    shannonentropy@20 : 0.0146    tailpercentage@20 : 0.0    F1 : 0.09709309309309308\n",
      "07 Feb 18:14    INFO  epoch 49 training [time: 0.05s, train loss: 1.9540]\n"
     ]
    },
    {
     "name": "stdout",
     "output_type": "stream",
     "text": [
      "interaction :  The batch_size of interaction: 2\n",
      "    user_id, torch.Size([2]), cpu, torch.int64\n",
      "\n",
      "\n",
      "scores :  tensor([[   -inf,  1.1722,  3.6844,  ...,  0.5877, -0.0139,  0.4460],\n",
      "        [   -inf,  3.0948,  1.8424,  ...,  0.0156,  0.2483,  0.1930]],\n",
      "       device='cuda:0')\n",
      "scores size :  torch.Size([2, 1622])\n",
      "positive_u :  tensor([0, 0, 0, 0, 0, 0, 0, 0, 0, 1])\n",
      "positive_i:  tensor([224, 194, 663, 393, 425, 464, 820, 375, 152, 306])\n",
      "result :  OrderedDict([('recall@20', 0.2732), ('mrr@20', 0.2111), ('ndcg@20', 0.1675), ('hit@20', 0.6284), ('map@20', 0.0855), ('precision@20', 0.0593), ('gauc', 0.8822), ('itemcoverage@20', 0.2084), ('averagepopularity@20', 106.2884), ('giniindex@20', 0.9371), ('shannonentropy@20', 0.0146), ('tailpercentage@20', 0.0), ('F1', 0.0974481804511278)])\n"
     ]
    },
    {
     "name": "stderr",
     "output_type": "stream",
     "text": [
      "07 Feb 18:14    INFO  epoch 49 evaluating [time: 0.19s, valid_score: 0.211100]\n",
      "07 Feb 18:14    INFO  valid result: \n",
      "recall@20 : 0.2732    mrr@20 : 0.2111    ndcg@20 : 0.1675    hit@20 : 0.6284    map@20 : 0.0855    precision@20 : 0.0593    gauc : 0.8822    itemcoverage@20 : 0.2084    averagepopularity@20 : 106.2884    giniindex@20 : 0.9371    shannonentropy@20 : 0.0146    tailpercentage@20 : 0.0    F1 : 0.0974481804511278\n",
      "07 Feb 18:14    INFO  epoch 50 training [time: 0.06s, train loss: 1.9579]\n"
     ]
    },
    {
     "name": "stdout",
     "output_type": "stream",
     "text": [
      "interaction :  The batch_size of interaction: 2\n",
      "    user_id, torch.Size([2]), cpu, torch.int64\n",
      "\n",
      "\n",
      "scores :  tensor([[   -inf,  0.9169,  3.6655,  ...,  0.5934, -0.0103,  0.4510],\n",
      "        [   -inf,  3.0042,  1.8060,  ...,  0.0179,  0.2502,  0.1886]],\n",
      "       device='cuda:0')\n",
      "scores size :  torch.Size([2, 1622])\n",
      "positive_u :  tensor([0, 0, 0, 0, 0, 0, 0, 0, 0, 1])\n",
      "positive_i:  tensor([224, 194, 663, 393, 425, 464, 820, 375, 152, 306])\n",
      "result :  OrderedDict([('recall@20', 0.2717), ('mrr@20', 0.2116), ('ndcg@20', 0.1673), ('hit@20', 0.6233), ('map@20', 0.0853), ('precision@20', 0.0598), ('gauc', 0.8824), ('itemcoverage@20', 0.2139), ('averagepopularity@20', 105.133), ('giniindex@20', 0.9347), ('shannonentropy@20', 0.0143), ('tailpercentage@20', 0.0), ('F1', 0.09802509803921569)])\n"
     ]
    },
    {
     "name": "stderr",
     "output_type": "stream",
     "text": [
      "07 Feb 18:14    INFO  epoch 50 evaluating [time: 0.19s, valid_score: 0.211600]\n",
      "07 Feb 18:14    INFO  valid result: \n",
      "recall@20 : 0.2717    mrr@20 : 0.2116    ndcg@20 : 0.1673    hit@20 : 0.6233    map@20 : 0.0853    precision@20 : 0.0598    gauc : 0.8824    itemcoverage@20 : 0.2139    averagepopularity@20 : 105.133    giniindex@20 : 0.9347    shannonentropy@20 : 0.0143    tailpercentage@20 : 0.0    F1 : 0.09802509803921569\n",
      "07 Feb 18:14    INFO  epoch 51 training [time: 0.07s, train loss: 1.9666]\n"
     ]
    },
    {
     "name": "stdout",
     "output_type": "stream",
     "text": [
      "interaction :  The batch_size of interaction: 2\n",
      "    user_id, torch.Size([2]), cpu, torch.int64\n",
      "\n",
      "\n",
      "scores :  tensor([[       -inf,  1.0088e+00,  3.5349e+00,  ...,  5.8598e-01,\n",
      "         -2.9045e-03,  4.3856e-01],\n",
      "        [       -inf,  3.1560e+00,  1.8413e+00,  ...,  3.6243e-02,\n",
      "          2.6456e-01,  1.9174e-01]], device='cuda:0')\n",
      "scores size :  torch.Size([2, 1622])\n",
      "positive_u :  tensor([0, 0, 0, 0, 0, 0, 0, 0, 0, 1])\n",
      "positive_i:  tensor([224, 194, 663, 393, 425, 464, 820, 375, 152, 306])\n",
      "result :  OrderedDict([('recall@20', 0.2707), ('mrr@20', 0.2094), ('ndcg@20', 0.1665), ('hit@20', 0.6216), ('map@20', 0.0851), ('precision@20', 0.0591), ('gauc', 0.8826), ('itemcoverage@20', 0.2139), ('averagepopularity@20', 105.5021), ('giniindex@20', 0.9354), ('shannonentropy@20', 0.0143), ('tailpercentage@20', 0.0), ('F1', 0.09701861734384477)])\n"
     ]
    },
    {
     "name": "stderr",
     "output_type": "stream",
     "text": [
      "07 Feb 18:14    INFO  epoch 51 evaluating [time: 0.19s, valid_score: 0.209400]\n",
      "07 Feb 18:14    INFO  valid result: \n",
      "recall@20 : 0.2707    mrr@20 : 0.2094    ndcg@20 : 0.1665    hit@20 : 0.6216    map@20 : 0.0851    precision@20 : 0.0591    gauc : 0.8826    itemcoverage@20 : 0.2139    averagepopularity@20 : 105.5021    giniindex@20 : 0.9354    shannonentropy@20 : 0.0143    tailpercentage@20 : 0.0    F1 : 0.09701861734384477\n",
      "07 Feb 18:14    INFO  epoch 52 training [time: 0.08s, train loss: 1.9587]\n"
     ]
    },
    {
     "name": "stdout",
     "output_type": "stream",
     "text": [
      "interaction :  The batch_size of interaction: 2\n",
      "    user_id, torch.Size([2]), cpu, torch.int64\n",
      "\n",
      "\n",
      "scores :  tensor([[  -inf, 1.0960, 3.5862,  ..., 0.6045, 0.0241, 0.4568],\n",
      "        [  -inf, 3.1595, 1.8542,  ..., 0.0479, 0.2708, 0.1964]],\n",
      "       device='cuda:0')\n",
      "scores size :  torch.Size([2, 1622])\n",
      "positive_u :  tensor([0, 0, 0, 0, 0, 0, 0, 0, 0, 1])\n",
      "positive_i:  tensor([224, 194, 663, 393, 425, 464, 820, 375, 152, 306])\n",
      "result :  OrderedDict([('recall@20', 0.2704), ('mrr@20', 0.213), ('ndcg@20', 0.1676), ('hit@20', 0.6216), ('map@20', 0.0859), ('precision@20', 0.0592), ('gauc', 0.883), ('itemcoverage@20', 0.217), ('averagepopularity@20', 105.4986), ('giniindex@20', 0.9349), ('shannonentropy@20', 0.0141), ('tailpercentage@20', 0.0), ('F1', 0.09713398058252427)])\n"
     ]
    },
    {
     "name": "stderr",
     "output_type": "stream",
     "text": [
      "07 Feb 18:14    INFO  epoch 52 evaluating [time: 0.19s, valid_score: 0.213000]\n",
      "07 Feb 18:14    INFO  valid result: \n",
      "recall@20 : 0.2704    mrr@20 : 0.213    ndcg@20 : 0.1676    hit@20 : 0.6216    map@20 : 0.0859    precision@20 : 0.0592    gauc : 0.883    itemcoverage@20 : 0.217    averagepopularity@20 : 105.4986    giniindex@20 : 0.9349    shannonentropy@20 : 0.0141    tailpercentage@20 : 0.0    F1 : 0.09713398058252427\n",
      "07 Feb 18:14    INFO  epoch 53 training [time: 0.06s, train loss: 1.9807]\n"
     ]
    },
    {
     "name": "stdout",
     "output_type": "stream",
     "text": [
      "interaction :  The batch_size of interaction: 2\n",
      "    user_id, torch.Size([2]), cpu, torch.int64\n",
      "\n",
      "\n",
      "scores :  tensor([[  -inf, 1.1890, 3.5795,  ..., 0.6161, 0.0283, 0.4565],\n",
      "        [  -inf, 3.1123, 1.8165,  ..., 0.0643, 0.2725, 0.1932]],\n",
      "       device='cuda:0')\n",
      "scores size :  torch.Size([2, 1622])\n",
      "positive_u :  tensor([0, 0, 0, 0, 0, 0, 0, 0, 0, 1])\n",
      "positive_i:  tensor([224, 194, 663, 393, 425, 464, 820, 375, 152, 306])\n",
      "result :  OrderedDict([('recall@20', 0.2723), ('mrr@20', 0.2129), ('ndcg@20', 0.1681), ('hit@20', 0.6216), ('map@20', 0.0859), ('precision@20', 0.0597), ('gauc', 0.8832), ('itemcoverage@20', 0.2182), ('averagepopularity@20', 105.3372), ('giniindex@20', 0.9344), ('shannonentropy@20', 0.014), ('tailpercentage@20', 0.0), ('F1', 0.09792957831325302)])\n"
     ]
    },
    {
     "name": "stderr",
     "output_type": "stream",
     "text": [
      "07 Feb 18:14    INFO  epoch 53 evaluating [time: 0.19s, valid_score: 0.212900]\n",
      "07 Feb 18:14    INFO  valid result: \n",
      "recall@20 : 0.2723    mrr@20 : 0.2129    ndcg@20 : 0.1681    hit@20 : 0.6216    map@20 : 0.0859    precision@20 : 0.0597    gauc : 0.8832    itemcoverage@20 : 0.2182    averagepopularity@20 : 105.3372    giniindex@20 : 0.9344    shannonentropy@20 : 0.014    tailpercentage@20 : 0.0    F1 : 0.09792957831325302\n",
      "07 Feb 18:14    INFO  epoch 54 training [time: 0.07s, train loss: 1.8720]\n"
     ]
    },
    {
     "name": "stdout",
     "output_type": "stream",
     "text": [
      "interaction :  The batch_size of interaction: 2\n",
      "    user_id, torch.Size([2]), cpu, torch.int64\n",
      "\n",
      "\n",
      "scores :  tensor([[  -inf, 1.2229, 3.8129,  ..., 0.6221, 0.0418, 0.4989],\n",
      "        [  -inf, 3.0452, 1.8176,  ..., 0.0799, 0.2868, 0.1973]],\n",
      "       device='cuda:0')\n",
      "scores size :  torch.Size([2, 1622])\n",
      "positive_u :  tensor([0, 0, 0, 0, 0, 0, 0, 0, 0, 1])\n",
      "positive_i:  tensor([224, 194, 663, 393, 425, 464, 820, 375, 152, 306])\n",
      "result :  OrderedDict([('recall@20', 0.274), ('mrr@20', 0.2142), ('ndcg@20', 0.1686), ('hit@20', 0.625), ('map@20', 0.0861), ('precision@20', 0.0598), ('gauc', 0.8835), ('itemcoverage@20', 0.217), ('averagepopularity@20', 104.9807), ('giniindex@20', 0.9337), ('shannonentropy@20', 0.0141), ('tailpercentage@20', 0.0), ('F1', 0.09817375674056321)])\n"
     ]
    },
    {
     "name": "stderr",
     "output_type": "stream",
     "text": [
      "07 Feb 18:14    INFO  epoch 54 evaluating [time: 0.20s, valid_score: 0.214200]\n",
      "07 Feb 18:14    INFO  valid result: \n",
      "recall@20 : 0.274    mrr@20 : 0.2142    ndcg@20 : 0.1686    hit@20 : 0.625    map@20 : 0.0861    precision@20 : 0.0598    gauc : 0.8835    itemcoverage@20 : 0.217    averagepopularity@20 : 104.9807    giniindex@20 : 0.9337    shannonentropy@20 : 0.0141    tailpercentage@20 : 0.0    F1 : 0.09817375674056321\n",
      "07 Feb 18:14    INFO  Saving current: /home/RecBole/saved/LightGCN-Feb-07-2023_18-14-24.pth\n",
      "07 Feb 18:14    INFO  epoch 55 training [time: 0.09s, train loss: 1.9288]\n"
     ]
    },
    {
     "name": "stdout",
     "output_type": "stream",
     "text": [
      "interaction :  The batch_size of interaction: 2\n",
      "    user_id, torch.Size([2]), cpu, torch.int64\n",
      "\n",
      "\n",
      "scores :  tensor([[  -inf, 1.2136, 3.5169,  ..., 0.5862, 0.0077, 0.4610],\n",
      "        [  -inf, 3.1548, 1.7582,  ..., 0.0905, 0.2917, 0.1901]],\n",
      "       device='cuda:0')\n",
      "scores size :  torch.Size([2, 1622])\n",
      "positive_u :  tensor([0, 0, 0, 0, 0, 0, 0, 0, 0, 1])\n",
      "positive_i:  tensor([224, 194, 663, 393, 425, 464, 820, 375, 152, 306])\n",
      "result :  OrderedDict([('recall@20', 0.2731), ('mrr@20', 0.2161), ('ndcg@20', 0.1689), ('hit@20', 0.6199), ('map@20', 0.0864), ('precision@20', 0.0596), ('gauc', 0.8835), ('itemcoverage@20', 0.2244), ('averagepopularity@20', 104.872), ('giniindex@20', 0.9331), ('shannonentropy@20', 0.0137), ('tailpercentage@20', 0.0), ('F1', 0.09784646828975054)])\n"
     ]
    },
    {
     "name": "stderr",
     "output_type": "stream",
     "text": [
      "07 Feb 18:14    INFO  epoch 55 evaluating [time: 0.19s, valid_score: 0.216100]\n",
      "07 Feb 18:14    INFO  valid result: \n",
      "recall@20 : 0.2731    mrr@20 : 0.2161    ndcg@20 : 0.1689    hit@20 : 0.6199    map@20 : 0.0864    precision@20 : 0.0596    gauc : 0.8835    itemcoverage@20 : 0.2244    averagepopularity@20 : 104.872    giniindex@20 : 0.9331    shannonentropy@20 : 0.0137    tailpercentage@20 : 0.0    F1 : 0.09784646828975054\n",
      "07 Feb 18:14    INFO  Saving current: /home/RecBole/saved/LightGCN-Feb-07-2023_18-14-24.pth\n",
      "07 Feb 18:14    INFO  epoch 56 training [time: 0.09s, train loss: 1.8855]\n"
     ]
    },
    {
     "name": "stdout",
     "output_type": "stream",
     "text": [
      "interaction :  The batch_size of interaction: 2\n",
      "    user_id, torch.Size([2]), cpu, torch.int64\n",
      "\n",
      "\n",
      "scores :  tensor([[   -inf,  1.3178,  3.6209,  ...,  0.5949, -0.0053,  0.4762],\n",
      "        [   -inf,  3.1436,  1.7675,  ...,  0.1016,  0.2813,  0.1909]],\n",
      "       device='cuda:0')\n",
      "scores size :  torch.Size([2, 1622])\n",
      "positive_u :  tensor([0, 0, 0, 0, 0, 0, 0, 0, 0, 1])\n",
      "positive_i:  tensor([224, 194, 663, 393, 425, 464, 820, 375, 152, 306])\n",
      "result :  OrderedDict([('recall@20', 0.2752), ('mrr@20', 0.216), ('ndcg@20', 0.1699), ('hit@20', 0.6233), ('map@20', 0.087), ('precision@20', 0.0602), ('gauc', 0.8837), ('itemcoverage@20', 0.2263), ('averagepopularity@20', 105.1979), ('giniindex@20', 0.9335), ('shannonentropy@20', 0.0136), ('tailpercentage@20', 0.0), ('F1', 0.09878974358974359)])\n"
     ]
    },
    {
     "name": "stderr",
     "output_type": "stream",
     "text": [
      "07 Feb 18:14    INFO  epoch 56 evaluating [time: 0.23s, valid_score: 0.216000]\n",
      "07 Feb 18:14    INFO  valid result: \n",
      "recall@20 : 0.2752    mrr@20 : 0.216    ndcg@20 : 0.1699    hit@20 : 0.6233    map@20 : 0.087    precision@20 : 0.0602    gauc : 0.8837    itemcoverage@20 : 0.2263    averagepopularity@20 : 105.1979    giniindex@20 : 0.9335    shannonentropy@20 : 0.0136    tailpercentage@20 : 0.0    F1 : 0.09878974358974359\n",
      "07 Feb 18:14    INFO  epoch 57 training [time: 0.10s, train loss: 1.9092]\n"
     ]
    },
    {
     "name": "stdout",
     "output_type": "stream",
     "text": [
      "interaction :  The batch_size of interaction: 2\n",
      "    user_id, torch.Size([2]), cpu, torch.int64\n",
      "\n",
      "\n",
      "scores :  tensor([[   -inf,  1.2347,  3.7499,  ...,  0.5950, -0.0073,  0.4995],\n",
      "        [   -inf,  3.0672,  1.8072,  ...,  0.1218,  0.2775,  0.1987]],\n",
      "       device='cuda:0')\n",
      "scores size :  torch.Size([2, 1622])\n",
      "positive_u :  tensor([0, 0, 0, 0, 0, 0, 0, 0, 0, 1])\n",
      "positive_i:  tensor([224, 194, 663, 393, 425, 464, 820, 375, 152, 306])\n",
      "result :  OrderedDict([('recall@20', 0.2751), ('mrr@20', 0.2163), ('ndcg@20', 0.1695), ('hit@20', 0.6267), ('map@20', 0.0867), ('precision@20', 0.0598), ('gauc', 0.8839), ('itemcoverage@20', 0.2275), ('averagepopularity@20', 104.7396), ('giniindex@20', 0.9324), ('shannonentropy@20', 0.0135), ('tailpercentage@20', 0.0), ('F1', 0.09824413257688862)])\n"
     ]
    },
    {
     "name": "stderr",
     "output_type": "stream",
     "text": [
      "07 Feb 18:14    INFO  epoch 57 evaluating [time: 0.20s, valid_score: 0.216300]\n",
      "07 Feb 18:14    INFO  valid result: \n",
      "recall@20 : 0.2751    mrr@20 : 0.2163    ndcg@20 : 0.1695    hit@20 : 0.6267    map@20 : 0.0867    precision@20 : 0.0598    gauc : 0.8839    itemcoverage@20 : 0.2275    averagepopularity@20 : 104.7396    giniindex@20 : 0.9324    shannonentropy@20 : 0.0135    tailpercentage@20 : 0.0    F1 : 0.09824413257688862\n",
      "07 Feb 18:14    INFO  Saving current: /home/RecBole/saved/LightGCN-Feb-07-2023_18-14-24.pth\n",
      "07 Feb 18:14    INFO  epoch 58 training [time: 0.05s, train loss: 1.8881]\n"
     ]
    },
    {
     "name": "stdout",
     "output_type": "stream",
     "text": [
      "interaction :  The batch_size of interaction: 2\n",
      "    user_id, torch.Size([2]), cpu, torch.int64\n",
      "\n",
      "\n",
      "scores :  tensor([[       -inf,  1.4269e+00,  3.6231e+00,  ...,  5.9226e-01,\n",
      "         -2.0302e-04,  4.9055e-01],\n",
      "        [       -inf,  3.2236e+00,  1.8028e+00,  ...,  1.4015e-01,\n",
      "          2.8593e-01,  2.0121e-01]], device='cuda:0')\n",
      "scores size :  torch.Size([2, 1622])\n",
      "positive_u :  tensor([0, 0, 0, 0, 0, 0, 0, 0, 0, 1])\n",
      "positive_i:  tensor([224, 194, 663, 393, 425, 464, 820, 375, 152, 306])\n",
      "result :  OrderedDict([('recall@20', 0.2756), ('mrr@20', 0.2133), ('ndcg@20', 0.1695), ('hit@20', 0.6199), ('map@20', 0.0868), ('precision@20', 0.0604), ('gauc', 0.884), ('itemcoverage@20', 0.2293), ('averagepopularity@20', 105.2874), ('giniindex@20', 0.9334), ('shannonentropy@20', 0.0134), ('tailpercentage@20', 0.0), ('F1', 0.0990847619047619)])\n"
     ]
    },
    {
     "name": "stderr",
     "output_type": "stream",
     "text": [
      "07 Feb 18:14    INFO  epoch 58 evaluating [time: 0.19s, valid_score: 0.213300]\n",
      "07 Feb 18:14    INFO  valid result: \n",
      "recall@20 : 0.2756    mrr@20 : 0.2133    ndcg@20 : 0.1695    hit@20 : 0.6199    map@20 : 0.0868    precision@20 : 0.0604    gauc : 0.884    itemcoverage@20 : 0.2293    averagepopularity@20 : 105.2874    giniindex@20 : 0.9334    shannonentropy@20 : 0.0134    tailpercentage@20 : 0.0    F1 : 0.0990847619047619\n",
      "07 Feb 18:14    INFO  epoch 59 training [time: 0.10s, train loss: 1.8741]\n"
     ]
    },
    {
     "name": "stdout",
     "output_type": "stream",
     "text": [
      "interaction :  The batch_size of interaction: 2\n",
      "    user_id, torch.Size([2]), cpu, torch.int64\n",
      "\n",
      "\n",
      "scores :  tensor([[       -inf,  1.5439e+00,  3.7613e+00,  ...,  5.9457e-01,\n",
      "         -1.1156e-03,  5.0449e-01],\n",
      "        [       -inf,  3.2472e+00,  1.7515e+00,  ...,  1.5349e-01,\n",
      "          2.8181e-01,  1.9537e-01]], device='cuda:0')\n",
      "scores size :  torch.Size([2, 1622])\n",
      "positive_u :  tensor([0, 0, 0, 0, 0, 0, 0, 0, 0, 1])\n",
      "positive_i:  tensor([224, 194, 663, 393, 425, 464, 820, 375, 152, 306])\n",
      "result :  OrderedDict([('recall@20', 0.276), ('mrr@20', 0.215), ('ndcg@20', 0.1699), ('hit@20', 0.625), ('map@20', 0.0869), ('precision@20', 0.0604), ('gauc', 0.8841), ('itemcoverage@20', 0.225), ('averagepopularity@20', 105.5134), ('giniindex@20', 0.934), ('shannonentropy@20', 0.0136), ('tailpercentage@20', 0.0), ('F1', 0.09911058263971463)])\n"
     ]
    },
    {
     "name": "stderr",
     "output_type": "stream",
     "text": [
      "07 Feb 18:14    INFO  epoch 59 evaluating [time: 0.20s, valid_score: 0.215000]\n",
      "07 Feb 18:14    INFO  valid result: \n",
      "recall@20 : 0.276    mrr@20 : 0.215    ndcg@20 : 0.1699    hit@20 : 0.625    map@20 : 0.0869    precision@20 : 0.0604    gauc : 0.8841    itemcoverage@20 : 0.225    averagepopularity@20 : 105.5134    giniindex@20 : 0.934    shannonentropy@20 : 0.0136    tailpercentage@20 : 0.0    F1 : 0.09911058263971463\n",
      "07 Feb 18:14    INFO  epoch 60 training [time: 0.08s, train loss: 1.9115]\n"
     ]
    },
    {
     "name": "stdout",
     "output_type": "stream",
     "text": [
      "interaction :  The batch_size of interaction: 2\n",
      "    user_id, torch.Size([2]), cpu, torch.int64\n",
      "\n",
      "\n",
      "scores :  tensor([[   -inf,  1.2407,  3.7963,  ...,  0.5670, -0.0092,  0.5114],\n",
      "        [   -inf,  3.1058,  1.7118,  ...,  0.1545,  0.2758,  0.1949]],\n",
      "       device='cuda:0')\n",
      "scores size :  torch.Size([2, 1622])\n",
      "positive_u :  tensor([0, 0, 0, 0, 0, 0, 0, 0, 0, 1])\n",
      "positive_i:  tensor([224, 194, 663, 393, 425, 464, 820, 375, 152, 306])\n",
      "result :  OrderedDict([('recall@20', 0.2774), ('mrr@20', 0.2158), ('ndcg@20', 0.1699), ('hit@20', 0.625), ('map@20', 0.087), ('precision@20', 0.0596), ('gauc', 0.8843), ('itemcoverage@20', 0.2306), ('averagepopularity@20', 104.0652), ('giniindex@20', 0.9312), ('shannonentropy@20', 0.0134), ('tailpercentage@20', 0.0), ('F1', 0.09811893175074184)])\n"
     ]
    },
    {
     "name": "stderr",
     "output_type": "stream",
     "text": [
      "07 Feb 18:14    INFO  epoch 60 evaluating [time: 0.19s, valid_score: 0.215800]\n",
      "07 Feb 18:14    INFO  valid result: \n",
      "recall@20 : 0.2774    mrr@20 : 0.2158    ndcg@20 : 0.1699    hit@20 : 0.625    map@20 : 0.087    precision@20 : 0.0596    gauc : 0.8843    itemcoverage@20 : 0.2306    averagepopularity@20 : 104.0652    giniindex@20 : 0.9312    shannonentropy@20 : 0.0134    tailpercentage@20 : 0.0    F1 : 0.09811893175074184\n",
      "07 Feb 18:14    INFO  epoch 61 training [time: 0.09s, train loss: 1.8302]\n"
     ]
    },
    {
     "name": "stdout",
     "output_type": "stream",
     "text": [
      "interaction :  The batch_size of interaction: 2\n",
      "    user_id, torch.Size([2]), cpu, torch.int64\n",
      "\n",
      "\n",
      "scores :  tensor([[  -inf, 1.4587, 3.8873,  ..., 0.5647, 0.0086, 0.5233],\n",
      "        [  -inf, 3.2072, 1.7984,  ..., 0.1678, 0.2826, 0.2090]],\n",
      "       device='cuda:0')\n",
      "scores size :  torch.Size([2, 1622])\n",
      "positive_u :  tensor([0, 0, 0, 0, 0, 0, 0, 0, 0, 1])\n",
      "positive_i:  tensor([224, 194, 663, 393, 425, 464, 820, 375, 152, 306])\n",
      "result :  OrderedDict([('recall@20', 0.2757), ('mrr@20', 0.2157), ('ndcg@20', 0.1698), ('hit@20', 0.6199), ('map@20', 0.087), ('precision@20', 0.0597), ('gauc', 0.8846), ('itemcoverage@20', 0.2306), ('averagepopularity@20', 105.1637), ('giniindex@20', 0.9328), ('shannonentropy@20', 0.0133), ('tailpercentage@20', 0.0), ('F1', 0.09814722719141324)])\n"
     ]
    },
    {
     "name": "stderr",
     "output_type": "stream",
     "text": [
      "07 Feb 18:14    INFO  epoch 61 evaluating [time: 0.25s, valid_score: 0.215700]\n",
      "07 Feb 18:14    INFO  valid result: \n",
      "recall@20 : 0.2757    mrr@20 : 0.2157    ndcg@20 : 0.1698    hit@20 : 0.6199    map@20 : 0.087    precision@20 : 0.0597    gauc : 0.8846    itemcoverage@20 : 0.2306    averagepopularity@20 : 105.1637    giniindex@20 : 0.9328    shannonentropy@20 : 0.0133    tailpercentage@20 : 0.0    F1 : 0.09814722719141324\n",
      "07 Feb 18:14    INFO  epoch 62 training [time: 0.08s, train loss: 1.8713]\n"
     ]
    },
    {
     "name": "stdout",
     "output_type": "stream",
     "text": [
      "interaction :  The batch_size of interaction: 2\n",
      "    user_id, torch.Size([2]), cpu, torch.int64\n",
      "\n",
      "\n",
      "scores :  tensor([[  -inf, 1.3249, 3.7566,  ..., 0.5782, 0.0116, 0.5050],\n",
      "        [  -inf, 3.1986, 1.7228,  ..., 0.1774, 0.2852, 0.1987]],\n",
      "       device='cuda:0')\n",
      "scores size :  torch.Size([2, 1622])\n",
      "positive_u :  tensor([0, 0, 0, 0, 0, 0, 0, 0, 0, 1])\n",
      "positive_i:  tensor([224, 194, 663, 393, 425, 464, 820, 375, 152, 306])\n",
      "result :  OrderedDict([('recall@20', 0.2759), ('mrr@20', 0.2158), ('ndcg@20', 0.1699), ('hit@20', 0.6182), ('map@20', 0.0872), ('precision@20', 0.0598), ('gauc', 0.8848), ('itemcoverage@20', 0.2337), ('averagepopularity@20', 104.2553), ('giniindex@20', 0.9311), ('shannonentropy@20', 0.0132), ('tailpercentage@20', 0.0), ('F1', 0.09829502532022638)])\n"
     ]
    },
    {
     "name": "stderr",
     "output_type": "stream",
     "text": [
      "07 Feb 18:14    INFO  epoch 62 evaluating [time: 0.23s, valid_score: 0.215800]\n",
      "07 Feb 18:14    INFO  valid result: \n",
      "recall@20 : 0.2759    mrr@20 : 0.2158    ndcg@20 : 0.1699    hit@20 : 0.6182    map@20 : 0.0872    precision@20 : 0.0598    gauc : 0.8848    itemcoverage@20 : 0.2337    averagepopularity@20 : 104.2553    giniindex@20 : 0.9311    shannonentropy@20 : 0.0132    tailpercentage@20 : 0.0    F1 : 0.09829502532022638\n",
      "07 Feb 18:14    INFO  epoch 63 training [time: 0.10s, train loss: 1.8484]\n"
     ]
    },
    {
     "name": "stdout",
     "output_type": "stream",
     "text": [
      "interaction :  The batch_size of interaction: 2\n",
      "    user_id, torch.Size([2]), cpu, torch.int64\n",
      "\n",
      "\n",
      "scores :  tensor([[   -inf,  1.3056,  3.8271,  ...,  0.6129, -0.0170,  0.5065],\n",
      "        [   -inf,  3.2357,  1.6873,  ...,  0.1807,  0.2789,  0.1855]],\n",
      "       device='cuda:0')\n",
      "scores size :  torch.Size([2, 1622])\n",
      "positive_u :  tensor([0, 0, 0, 0, 0, 0, 0, 0, 0, 1])\n",
      "positive_i:  tensor([224, 194, 663, 393, 425, 464, 820, 375, 152, 306])\n",
      "result :  OrderedDict([('recall@20', 0.2776), ('mrr@20', 0.2152), ('ndcg@20', 0.1701), ('hit@20', 0.6182), ('map@20', 0.0871), ('precision@20', 0.0599), ('gauc', 0.8851), ('itemcoverage@20', 0.233), ('averagepopularity@20', 104.4612), ('giniindex@20', 0.9314), ('shannonentropy@20', 0.0133), ('tailpercentage@20', 0.0), ('F1', 0.09853771851851853)])\n"
     ]
    },
    {
     "name": "stderr",
     "output_type": "stream",
     "text": [
      "07 Feb 18:14    INFO  epoch 63 evaluating [time: 0.19s, valid_score: 0.215200]\n",
      "07 Feb 18:14    INFO  valid result: \n",
      "recall@20 : 0.2776    mrr@20 : 0.2152    ndcg@20 : 0.1701    hit@20 : 0.6182    map@20 : 0.0871    precision@20 : 0.0599    gauc : 0.8851    itemcoverage@20 : 0.233    averagepopularity@20 : 104.4612    giniindex@20 : 0.9314    shannonentropy@20 : 0.0133    tailpercentage@20 : 0.0    F1 : 0.09853771851851853\n",
      "07 Feb 18:14    INFO  epoch 64 training [time: 0.09s, train loss: 1.8512]\n"
     ]
    },
    {
     "name": "stdout",
     "output_type": "stream",
     "text": [
      "interaction :  The batch_size of interaction: 2\n",
      "    user_id, torch.Size([2]), cpu, torch.int64\n",
      "\n",
      "\n",
      "scores :  tensor([[   -inf,  1.1684,  3.7215,  ...,  0.6117, -0.0301,  0.4995],\n",
      "        [   -inf,  3.3606,  1.7418,  ...,  0.1816,  0.3021,  0.1874]],\n",
      "       device='cuda:0')\n",
      "scores size :  torch.Size([2, 1622])\n",
      "positive_u :  tensor([0, 0, 0, 0, 0, 0, 0, 0, 0, 1])\n",
      "positive_i:  tensor([224, 194, 663, 393, 425, 464, 820, 375, 152, 306])\n",
      "result :  OrderedDict([('recall@20', 0.2775), ('mrr@20', 0.2133), ('ndcg@20', 0.1701), ('hit@20', 0.6199), ('map@20', 0.0873), ('precision@20', 0.0598), ('gauc', 0.8854), ('itemcoverage@20', 0.2374), ('averagepopularity@20', 104.5343), ('giniindex@20', 0.9314), ('shannonentropy@20', 0.013), ('tailpercentage@20', 0.0), ('F1', 0.09839608656981914)])\n"
     ]
    },
    {
     "name": "stderr",
     "output_type": "stream",
     "text": [
      "07 Feb 18:14    INFO  epoch 64 evaluating [time: 0.19s, valid_score: 0.213300]\n",
      "07 Feb 18:14    INFO  valid result: \n",
      "recall@20 : 0.2775    mrr@20 : 0.2133    ndcg@20 : 0.1701    hit@20 : 0.6199    map@20 : 0.0873    precision@20 : 0.0598    gauc : 0.8854    itemcoverage@20 : 0.2374    averagepopularity@20 : 104.5343    giniindex@20 : 0.9314    shannonentropy@20 : 0.013    tailpercentage@20 : 0.0    F1 : 0.09839608656981914\n",
      "07 Feb 18:14    INFO  epoch 65 training [time: 0.10s, train loss: 1.8486]\n"
     ]
    },
    {
     "name": "stdout",
     "output_type": "stream",
     "text": [
      "interaction :  The batch_size of interaction: 2\n",
      "    user_id, torch.Size([2]), cpu, torch.int64\n",
      "\n",
      "\n",
      "scores :  tensor([[   -inf,  1.0894,  3.7569,  ...,  0.6401, -0.0279,  0.5103],\n",
      "        [   -inf,  3.2679,  1.7660,  ...,  0.1903,  0.3079,  0.1892]],\n",
      "       device='cuda:0')\n",
      "scores size :  torch.Size([2, 1622])\n",
      "positive_u :  tensor([0, 0, 0, 0, 0, 0, 0, 0, 0, 1])\n",
      "positive_i:  tensor([224, 194, 663, 393, 425, 464, 820, 375, 152, 306])\n",
      "result :  OrderedDict([('recall@20', 0.2794), ('mrr@20', 0.2159), ('ndcg@20', 0.1714), ('hit@20', 0.625), ('map@20', 0.0882), ('precision@20', 0.0602), ('gauc', 0.8855), ('itemcoverage@20', 0.2386), ('averagepopularity@20', 104.1059), ('giniindex@20', 0.9305), ('shannonentropy@20', 0.013), ('tailpercentage@20', 0.0), ('F1', 0.09905700824499411)])\n"
     ]
    },
    {
     "name": "stderr",
     "output_type": "stream",
     "text": [
      "07 Feb 18:14    INFO  epoch 65 evaluating [time: 0.19s, valid_score: 0.215900]\n",
      "07 Feb 18:14    INFO  valid result: \n",
      "recall@20 : 0.2794    mrr@20 : 0.2159    ndcg@20 : 0.1714    hit@20 : 0.625    map@20 : 0.0882    precision@20 : 0.0602    gauc : 0.8855    itemcoverage@20 : 0.2386    averagepopularity@20 : 104.1059    giniindex@20 : 0.9305    shannonentropy@20 : 0.013    tailpercentage@20 : 0.0    F1 : 0.09905700824499411\n",
      "07 Feb 18:14    INFO  epoch 66 training [time: 0.09s, train loss: 1.8469]\n"
     ]
    },
    {
     "name": "stdout",
     "output_type": "stream",
     "text": [
      "interaction :  The batch_size of interaction: 2\n",
      "    user_id, torch.Size([2]), cpu, torch.int64\n",
      "\n",
      "\n",
      "scores :  tensor([[   -inf,  1.1414,  3.7423,  ...,  0.6469, -0.0598,  0.5076],\n",
      "        [   -inf,  3.2576,  1.7375,  ...,  0.1924,  0.2933,  0.1845]],\n",
      "       device='cuda:0')\n",
      "scores size :  torch.Size([2, 1622])\n",
      "positive_u :  tensor([0, 0, 0, 0, 0, 0, 0, 0, 0, 1])\n",
      "positive_i:  tensor([224, 194, 663, 393, 425, 464, 820, 375, 152, 306])\n",
      "result :  OrderedDict([('recall@20', 0.2812), ('mrr@20', 0.2175), ('ndcg@20', 0.1723), ('hit@20', 0.6216), ('map@20', 0.0887), ('precision@20', 0.0605), ('gauc', 0.8856), ('itemcoverage@20', 0.2429), ('averagepopularity@20', 104.4589), ('giniindex@20', 0.9309), ('shannonentropy@20', 0.0127), ('tailpercentage@20', 0.0), ('F1', 0.09957623646473514)])\n"
     ]
    },
    {
     "name": "stderr",
     "output_type": "stream",
     "text": [
      "07 Feb 18:14    INFO  epoch 66 evaluating [time: 0.21s, valid_score: 0.217500]\n",
      "07 Feb 18:14    INFO  valid result: \n",
      "recall@20 : 0.2812    mrr@20 : 0.2175    ndcg@20 : 0.1723    hit@20 : 0.6216    map@20 : 0.0887    precision@20 : 0.0605    gauc : 0.8856    itemcoverage@20 : 0.2429    averagepopularity@20 : 104.4589    giniindex@20 : 0.9309    shannonentropy@20 : 0.0127    tailpercentage@20 : 0.0    F1 : 0.09957623646473514\n",
      "07 Feb 18:14    INFO  Saving current: /home/RecBole/saved/LightGCN-Feb-07-2023_18-14-24.pth\n",
      "07 Feb 18:14    INFO  epoch 67 training [time: 0.09s, train loss: 1.8475]\n"
     ]
    },
    {
     "name": "stdout",
     "output_type": "stream",
     "text": [
      "interaction :  The batch_size of interaction: 2\n",
      "    user_id, torch.Size([2]), cpu, torch.int64\n",
      "\n",
      "\n",
      "scores :  tensor([[   -inf,  1.0046,  3.6062,  ...,  0.6260, -0.0956,  0.4914],\n",
      "        [   -inf,  3.2083,  1.6700,  ...,  0.1831,  0.2768,  0.1738]],\n",
      "       device='cuda:0')\n",
      "scores size :  torch.Size([2, 1622])\n",
      "positive_u :  tensor([0, 0, 0, 0, 0, 0, 0, 0, 0, 1])\n",
      "positive_i:  tensor([224, 194, 663, 393, 425, 464, 820, 375, 152, 306])\n",
      "result :  OrderedDict([('recall@20', 0.2784), ('mrr@20', 0.2178), ('ndcg@20', 0.1716), ('hit@20', 0.6164), ('map@20', 0.0886), ('precision@20', 0.06), ('gauc', 0.8855), ('itemcoverage@20', 0.2478), ('averagepopularity@20', 103.85), ('giniindex@20', 0.9295), ('shannonentropy@20', 0.0125), ('tailpercentage@20', 0.0), ('F1', 0.09872340425531914)])\n"
     ]
    },
    {
     "name": "stderr",
     "output_type": "stream",
     "text": [
      "07 Feb 18:14    INFO  epoch 67 evaluating [time: 0.19s, valid_score: 0.217800]\n",
      "07 Feb 18:14    INFO  valid result: \n",
      "recall@20 : 0.2784    mrr@20 : 0.2178    ndcg@20 : 0.1716    hit@20 : 0.6164    map@20 : 0.0886    precision@20 : 0.06    gauc : 0.8855    itemcoverage@20 : 0.2478    averagepopularity@20 : 103.85    giniindex@20 : 0.9295    shannonentropy@20 : 0.0125    tailpercentage@20 : 0.0    F1 : 0.09872340425531914\n",
      "07 Feb 18:14    INFO  Saving current: /home/RecBole/saved/LightGCN-Feb-07-2023_18-14-24.pth\n",
      "07 Feb 18:14    INFO  epoch 68 training [time: 0.05s, train loss: 1.8026]\n"
     ]
    },
    {
     "name": "stdout",
     "output_type": "stream",
     "text": [
      "interaction :  The batch_size of interaction: 2\n",
      "    user_id, torch.Size([2]), cpu, torch.int64\n",
      "\n",
      "\n",
      "scores :  tensor([[   -inf,  1.2095,  3.9153,  ...,  0.6466, -0.0825,  0.5401],\n",
      "        [   -inf,  3.3049,  1.8027,  ...,  0.1950,  0.2714,  0.1817]],\n",
      "       device='cuda:0')\n",
      "scores size :  torch.Size([2, 1622])\n",
      "positive_u :  tensor([0, 0, 0, 0, 0, 0, 0, 0, 0, 1])\n",
      "positive_i:  tensor([224, 194, 663, 393, 425, 464, 820, 375, 152, 306])\n",
      "result :  OrderedDict([('recall@20', 0.2803), ('mrr@20', 0.2208), ('ndcg@20', 0.1721), ('hit@20', 0.6216), ('map@20', 0.0882), ('precision@20', 0.0604), ('gauc', 0.8858), ('itemcoverage@20', 0.2386), ('averagepopularity@20', 105.0391), ('giniindex@20', 0.9317), ('shannonentropy@20', 0.0129), ('tailpercentage@20', 0.0), ('F1', 0.0993843263868506)])\n"
     ]
    },
    {
     "name": "stderr",
     "output_type": "stream",
     "text": [
      "07 Feb 18:14    INFO  epoch 68 evaluating [time: 0.21s, valid_score: 0.220800]\n",
      "07 Feb 18:14    INFO  valid result: \n",
      "recall@20 : 0.2803    mrr@20 : 0.2208    ndcg@20 : 0.1721    hit@20 : 0.6216    map@20 : 0.0882    precision@20 : 0.0604    gauc : 0.8858    itemcoverage@20 : 0.2386    averagepopularity@20 : 105.0391    giniindex@20 : 0.9317    shannonentropy@20 : 0.0129    tailpercentage@20 : 0.0    F1 : 0.0993843263868506\n",
      "07 Feb 18:14    INFO  Saving current: /home/RecBole/saved/LightGCN-Feb-07-2023_18-14-24.pth\n",
      "07 Feb 18:14    INFO  epoch 69 training [time: 0.06s, train loss: 1.8036]\n"
     ]
    },
    {
     "name": "stdout",
     "output_type": "stream",
     "text": [
      "interaction :  The batch_size of interaction: 2\n",
      "    user_id, torch.Size([2]), cpu, torch.int64\n",
      "\n",
      "\n",
      "scores :  tensor([[   -inf,  1.0213,  3.7531,  ...,  0.6191, -0.0712,  0.5385],\n",
      "        [   -inf,  3.2636,  1.7932,  ...,  0.1887,  0.2795,  0.1796]],\n",
      "       device='cuda:0')\n",
      "scores size :  torch.Size([2, 1622])\n",
      "positive_u :  tensor([0, 0, 0, 0, 0, 0, 0, 0, 0, 1])\n",
      "positive_i:  tensor([224, 194, 663, 393, 425, 464, 820, 375, 152, 306])\n",
      "result :  OrderedDict([('recall@20', 0.2803), ('mrr@20', 0.2194), ('ndcg@20', 0.1723), ('hit@20', 0.6216), ('map@20', 0.0887), ('precision@20', 0.0602), ('gauc', 0.8858), ('itemcoverage@20', 0.2448), ('averagepopularity@20', 103.8319), ('giniindex@20', 0.9292), ('shannonentropy@20', 0.0127), ('tailpercentage@20', 0.0), ('F1', 0.09911342143906021)])\n"
     ]
    },
    {
     "name": "stderr",
     "output_type": "stream",
     "text": [
      "07 Feb 18:14    INFO  epoch 69 evaluating [time: 0.20s, valid_score: 0.219400]\n",
      "07 Feb 18:14    INFO  valid result: \n",
      "recall@20 : 0.2803    mrr@20 : 0.2194    ndcg@20 : 0.1723    hit@20 : 0.6216    map@20 : 0.0887    precision@20 : 0.0602    gauc : 0.8858    itemcoverage@20 : 0.2448    averagepopularity@20 : 103.8319    giniindex@20 : 0.9292    shannonentropy@20 : 0.0127    tailpercentage@20 : 0.0    F1 : 0.09911342143906021\n",
      "07 Feb 18:14    INFO  epoch 70 training [time: 0.11s, train loss: 1.7693]\n"
     ]
    },
    {
     "name": "stdout",
     "output_type": "stream",
     "text": [
      "interaction :  The batch_size of interaction: 2\n",
      "    user_id, torch.Size([2]), cpu, torch.int64\n",
      "\n",
      "\n",
      "scores :  tensor([[   -inf,  1.2479,  3.7715,  ...,  0.6619, -0.0447,  0.5487],\n",
      "        [   -inf,  3.1457,  1.6845,  ...,  0.1951,  0.2815,  0.1659]],\n",
      "       device='cuda:0')\n",
      "scores size :  torch.Size([2, 1622])\n",
      "positive_u :  tensor([0, 0, 0, 0, 0, 0, 0, 0, 0, 1])\n",
      "positive_i:  tensor([224, 194, 663, 393, 425, 464, 820, 375, 152, 306])\n",
      "result :  OrderedDict([('recall@20', 0.2806), ('mrr@20', 0.2206), ('ndcg@20', 0.1727), ('hit@20', 0.6199), ('map@20', 0.0889), ('precision@20', 0.0604), ('gauc', 0.8858), ('itemcoverage@20', 0.2466), ('averagepopularity@20', 104.0825), ('giniindex@20', 0.9295), ('shannonentropy@20', 0.0126), ('tailpercentage@20', 0.0), ('F1', 0.09940316715542523)])\n"
     ]
    },
    {
     "name": "stderr",
     "output_type": "stream",
     "text": [
      "07 Feb 18:14    INFO  epoch 70 evaluating [time: 0.20s, valid_score: 0.220600]\n",
      "07 Feb 18:14    INFO  valid result: \n",
      "recall@20 : 0.2806    mrr@20 : 0.2206    ndcg@20 : 0.1727    hit@20 : 0.6199    map@20 : 0.0889    precision@20 : 0.0604    gauc : 0.8858    itemcoverage@20 : 0.2466    averagepopularity@20 : 104.0825    giniindex@20 : 0.9295    shannonentropy@20 : 0.0126    tailpercentage@20 : 0.0    F1 : 0.09940316715542523\n",
      "07 Feb 18:14    INFO  epoch 71 training [time: 0.09s, train loss: 1.7769]\n"
     ]
    },
    {
     "name": "stdout",
     "output_type": "stream",
     "text": [
      "interaction :  The batch_size of interaction: 2\n",
      "    user_id, torch.Size([2]), cpu, torch.int64\n",
      "\n",
      "\n",
      "scores :  tensor([[   -inf,  1.1835,  3.8217,  ...,  0.6521, -0.0760,  0.5485],\n",
      "        [   -inf,  2.9726,  1.6682,  ...,  0.1948,  0.2664,  0.1500]],\n",
      "       device='cuda:0')\n",
      "scores size :  torch.Size([2, 1622])\n",
      "positive_u :  tensor([0, 0, 0, 0, 0, 0, 0, 0, 0, 1])\n",
      "positive_i:  tensor([224, 194, 663, 393, 425, 464, 820, 375, 152, 306])\n",
      "result :  OrderedDict([('recall@20', 0.2796), ('mrr@20', 0.2225), ('ndcg@20', 0.1729), ('hit@20', 0.625), ('map@20', 0.0894), ('precision@20', 0.0603), ('gauc', 0.8859), ('itemcoverage@20', 0.2503), ('averagepopularity@20', 103.3647), ('giniindex@20', 0.9281), ('shannonentropy@20', 0.0124), ('tailpercentage@20', 0.0), ('F1', 0.09920494263018534)])\n"
     ]
    },
    {
     "name": "stderr",
     "output_type": "stream",
     "text": [
      "07 Feb 18:14    INFO  epoch 71 evaluating [time: 0.19s, valid_score: 0.222500]\n",
      "07 Feb 18:14    INFO  valid result: \n",
      "recall@20 : 0.2796    mrr@20 : 0.2225    ndcg@20 : 0.1729    hit@20 : 0.625    map@20 : 0.0894    precision@20 : 0.0603    gauc : 0.8859    itemcoverage@20 : 0.2503    averagepopularity@20 : 103.3647    giniindex@20 : 0.9281    shannonentropy@20 : 0.0124    tailpercentage@20 : 0.0    F1 : 0.09920494263018534\n",
      "07 Feb 18:14    INFO  Saving current: /home/RecBole/saved/LightGCN-Feb-07-2023_18-14-24.pth\n",
      "07 Feb 18:14    INFO  epoch 72 training [time: 0.11s, train loss: 1.7630]\n"
     ]
    },
    {
     "name": "stdout",
     "output_type": "stream",
     "text": [
      "interaction :  The batch_size of interaction: 2\n",
      "    user_id, torch.Size([2]), cpu, torch.int64\n",
      "\n",
      "\n",
      "scores :  tensor([[   -inf,  1.2385,  3.7405,  ...,  0.6315, -0.0739,  0.5335],\n",
      "        [   -inf,  3.1326,  1.7893,  ...,  0.2085,  0.2730,  0.1531]],\n",
      "       device='cuda:0')\n",
      "scores size :  torch.Size([2, 1622])\n",
      "positive_u :  tensor([0, 0, 0, 0, 0, 0, 0, 0, 0, 1])\n",
      "positive_i:  tensor([224, 194, 663, 393, 425, 464, 820, 375, 152, 306])\n",
      "result :  OrderedDict([('recall@20', 0.2711), ('mrr@20', 0.2182), ('ndcg@20', 0.1701), ('hit@20', 0.6164), ('map@20', 0.0883), ('precision@20', 0.0597), ('gauc', 0.8859), ('itemcoverage@20', 0.2515), ('averagepopularity@20', 103.824), ('giniindex@20', 0.9289), ('shannonentropy@20', 0.0124), ('tailpercentage@20', 0.0), ('F1', 0.09785169286577994)])\n"
     ]
    },
    {
     "name": "stderr",
     "output_type": "stream",
     "text": [
      "07 Feb 18:14    INFO  epoch 72 evaluating [time: 0.20s, valid_score: 0.218200]\n",
      "07 Feb 18:14    INFO  valid result: \n",
      "recall@20 : 0.2711    mrr@20 : 0.2182    ndcg@20 : 0.1701    hit@20 : 0.6164    map@20 : 0.0883    precision@20 : 0.0597    gauc : 0.8859    itemcoverage@20 : 0.2515    averagepopularity@20 : 103.824    giniindex@20 : 0.9289    shannonentropy@20 : 0.0124    tailpercentage@20 : 0.0    F1 : 0.09785169286577994\n",
      "07 Feb 18:14    INFO  epoch 73 training [time: 0.09s, train loss: 1.7792]\n"
     ]
    },
    {
     "name": "stdout",
     "output_type": "stream",
     "text": [
      "interaction :  The batch_size of interaction: 2\n",
      "    user_id, torch.Size([2]), cpu, torch.int64\n",
      "\n",
      "\n",
      "scores :  tensor([[   -inf,  1.2171,  3.6551,  ...,  0.6330, -0.0675,  0.5259],\n",
      "        [   -inf,  3.1890,  1.7434,  ...,  0.2077,  0.2655,  0.1450]],\n",
      "       device='cuda:0')\n",
      "scores size :  torch.Size([2, 1622])\n",
      "positive_u :  tensor([0, 0, 0, 0, 0, 0, 0, 0, 0, 1])\n",
      "positive_i:  tensor([224, 194, 663, 393, 425, 464, 820, 375, 152, 306])\n",
      "result :  OrderedDict([('recall@20', 0.2733), ('mrr@20', 0.2169), ('ndcg@20', 0.1696), ('hit@20', 0.6164), ('map@20', 0.0876), ('precision@20', 0.0592), ('gauc', 0.8859), ('itemcoverage@20', 0.2528), ('averagepopularity@20', 103.8919), ('giniindex@20', 0.9289), ('shannonentropy@20', 0.0123), ('tailpercentage@20', 0.0), ('F1', 0.09731945864661654)])\n"
     ]
    },
    {
     "name": "stderr",
     "output_type": "stream",
     "text": [
      "07 Feb 18:14    INFO  epoch 73 evaluating [time: 0.19s, valid_score: 0.216900]\n",
      "07 Feb 18:14    INFO  valid result: \n",
      "recall@20 : 0.2733    mrr@20 : 0.2169    ndcg@20 : 0.1696    hit@20 : 0.6164    map@20 : 0.0876    precision@20 : 0.0592    gauc : 0.8859    itemcoverage@20 : 0.2528    averagepopularity@20 : 103.8919    giniindex@20 : 0.9289    shannonentropy@20 : 0.0123    tailpercentage@20 : 0.0    F1 : 0.09731945864661654\n",
      "07 Feb 18:14    INFO  epoch 74 training [time: 0.09s, train loss: 1.8142]\n"
     ]
    },
    {
     "name": "stdout",
     "output_type": "stream",
     "text": [
      "interaction :  The batch_size of interaction: 2\n",
      "    user_id, torch.Size([2]), cpu, torch.int64\n",
      "\n",
      "\n",
      "scores :  tensor([[   -inf,  1.1680,  3.7058,  ...,  0.6428, -0.0762,  0.5302],\n",
      "        [   -inf,  3.2167,  1.7535,  ...,  0.2119,  0.2647,  0.1439]],\n",
      "       device='cuda:0')\n",
      "scores size :  torch.Size([2, 1622])\n",
      "positive_u :  tensor([0, 0, 0, 0, 0, 0, 0, 0, 0, 1])\n",
      "positive_i:  tensor([224, 194, 663, 393, 425, 464, 820, 375, 152, 306])\n",
      "result :  OrderedDict([('recall@20', 0.2742), ('mrr@20', 0.2204), ('ndcg@20', 0.1708), ('hit@20', 0.6164), ('map@20', 0.0885), ('precision@20', 0.0593), ('gauc', 0.886), ('itemcoverage@20', 0.2528), ('averagepopularity@20', 103.7898), ('giniindex@20', 0.9288), ('shannonentropy@20', 0.0123), ('tailpercentage@20', 0.0), ('F1', 0.09751160419790104)])\n"
     ]
    },
    {
     "name": "stderr",
     "output_type": "stream",
     "text": [
      "07 Feb 18:14    INFO  epoch 74 evaluating [time: 0.19s, valid_score: 0.220400]\n",
      "07 Feb 18:14    INFO  valid result: \n",
      "recall@20 : 0.2742    mrr@20 : 0.2204    ndcg@20 : 0.1708    hit@20 : 0.6164    map@20 : 0.0885    precision@20 : 0.0593    gauc : 0.886    itemcoverage@20 : 0.2528    averagepopularity@20 : 103.7898    giniindex@20 : 0.9288    shannonentropy@20 : 0.0123    tailpercentage@20 : 0.0    F1 : 0.09751160419790104\n",
      "07 Feb 18:14    INFO  epoch 75 training [time: 0.05s, train loss: 1.8071]\n"
     ]
    },
    {
     "name": "stdout",
     "output_type": "stream",
     "text": [
      "interaction :  The batch_size of interaction: 2\n",
      "    user_id, torch.Size([2]), cpu, torch.int64\n",
      "\n",
      "\n",
      "scores :  tensor([[   -inf,  1.2327,  3.7438,  ...,  0.6425, -0.0871,  0.5505],\n",
      "        [   -inf,  3.1659,  1.7016,  ...,  0.2103,  0.2567,  0.1406]],\n",
      "       device='cuda:0')\n",
      "scores size :  torch.Size([2, 1622])\n",
      "positive_u :  tensor([0, 0, 0, 0, 0, 0, 0, 0, 0, 1])\n",
      "positive_i:  tensor([224, 194, 663, 393, 425, 464, 820, 375, 152, 306])\n",
      "result :  OrderedDict([('recall@20', 0.2755), ('mrr@20', 0.2203), ('ndcg@20', 0.1718), ('hit@20', 0.6164), ('map@20', 0.0891), ('precision@20', 0.06), ('gauc', 0.8861), ('itemcoverage@20', 0.2552), ('averagepopularity@20', 103.5854), ('giniindex@20', 0.9281), ('shannonentropy@20', 0.0122), ('tailpercentage@20', 0.0), ('F1', 0.09853949329359164)])\n"
     ]
    },
    {
     "name": "stderr",
     "output_type": "stream",
     "text": [
      "07 Feb 18:14    INFO  epoch 75 evaluating [time: 0.19s, valid_score: 0.220300]\n",
      "07 Feb 18:14    INFO  valid result: \n",
      "recall@20 : 0.2755    mrr@20 : 0.2203    ndcg@20 : 0.1718    hit@20 : 0.6164    map@20 : 0.0891    precision@20 : 0.06    gauc : 0.8861    itemcoverage@20 : 0.2552    averagepopularity@20 : 103.5854    giniindex@20 : 0.9281    shannonentropy@20 : 0.0122    tailpercentage@20 : 0.0    F1 : 0.09853949329359164\n",
      "07 Feb 18:14    INFO  epoch 76 training [time: 0.05s, train loss: 1.7403]\n"
     ]
    },
    {
     "name": "stdout",
     "output_type": "stream",
     "text": [
      "interaction :  The batch_size of interaction: 2\n",
      "    user_id, torch.Size([2]), cpu, torch.int64\n",
      "\n",
      "\n",
      "scores :  tensor([[   -inf,  1.2563,  3.9338,  ...,  0.6464, -0.0883,  0.5821],\n",
      "        [   -inf,  3.1643,  1.7117,  ...,  0.2173,  0.2577,  0.1462]],\n",
      "       device='cuda:0')\n",
      "scores size :  torch.Size([2, 1622])\n",
      "positive_u :  tensor([0, 0, 0, 0, 0, 0, 0, 0, 0, 1])\n",
      "positive_i:  tensor([224, 194, 663, 393, 425, 464, 820, 375, 152, 306])\n",
      "result :  OrderedDict([('recall@20', 0.2768), ('mrr@20', 0.2219), ('ndcg@20', 0.1726), ('hit@20', 0.6182), ('map@20', 0.0895), ('precision@20', 0.0604), ('gauc', 0.8862), ('itemcoverage@20', 0.2528), ('averagepopularity@20', 103.63), ('giniindex@20', 0.9284), ('shannonentropy@20', 0.0123), ('tailpercentage@20', 0.0), ('F1', 0.0991620403321471)])\n"
     ]
    },
    {
     "name": "stderr",
     "output_type": "stream",
     "text": [
      "07 Feb 18:14    INFO  epoch 76 evaluating [time: 0.20s, valid_score: 0.221900]\n",
      "07 Feb 18:14    INFO  valid result: \n",
      "recall@20 : 0.2768    mrr@20 : 0.2219    ndcg@20 : 0.1726    hit@20 : 0.6182    map@20 : 0.0895    precision@20 : 0.0604    gauc : 0.8862    itemcoverage@20 : 0.2528    averagepopularity@20 : 103.63    giniindex@20 : 0.9284    shannonentropy@20 : 0.0123    tailpercentage@20 : 0.0    F1 : 0.0991620403321471\n",
      "07 Feb 18:14    INFO  epoch 77 training [time: 0.08s, train loss: 1.7481]\n"
     ]
    },
    {
     "name": "stdout",
     "output_type": "stream",
     "text": [
      "interaction :  The batch_size of interaction: 2\n",
      "    user_id, torch.Size([2]), cpu, torch.int64\n",
      "\n",
      "\n",
      "scores :  tensor([[   -inf,  1.2551,  4.0060,  ...,  0.6553, -0.1214,  0.5820],\n",
      "        [   -inf,  3.1553,  1.7412,  ...,  0.2266,  0.2553,  0.1531]],\n",
      "       device='cuda:0')\n",
      "scores size :  torch.Size([2, 1622])\n",
      "positive_u :  tensor([0, 0, 0, 0, 0, 0, 0, 0, 0, 1])\n",
      "positive_i:  tensor([224, 194, 663, 393, 425, 464, 820, 375, 152, 306])\n",
      "result :  OrderedDict([('recall@20', 0.2776), ('mrr@20', 0.224), ('ndcg@20', 0.1731), ('hit@20', 0.6182), ('map@20', 0.0897), ('precision@20', 0.0604), ('gauc', 0.8863), ('itemcoverage@20', 0.2552), ('averagepopularity@20', 103.4324), ('giniindex@20', 0.9277), ('shannonentropy@20', 0.0122), ('tailpercentage@20', 0.0), ('F1', 0.09921325443786982)])\n"
     ]
    },
    {
     "name": "stderr",
     "output_type": "stream",
     "text": [
      "07 Feb 18:14    INFO  epoch 77 evaluating [time: 0.19s, valid_score: 0.224000]\n",
      "07 Feb 18:14    INFO  valid result: \n",
      "recall@20 : 0.2776    mrr@20 : 0.224    ndcg@20 : 0.1731    hit@20 : 0.6182    map@20 : 0.0897    precision@20 : 0.0604    gauc : 0.8863    itemcoverage@20 : 0.2552    averagepopularity@20 : 103.4324    giniindex@20 : 0.9277    shannonentropy@20 : 0.0122    tailpercentage@20 : 0.0    F1 : 0.09921325443786982\n",
      "07 Feb 18:14    INFO  Saving current: /home/RecBole/saved/LightGCN-Feb-07-2023_18-14-24.pth\n",
      "07 Feb 18:14    INFO  epoch 78 training [time: 0.05s, train loss: 1.8026]\n"
     ]
    },
    {
     "name": "stdout",
     "output_type": "stream",
     "text": [
      "interaction :  The batch_size of interaction: 2\n",
      "    user_id, torch.Size([2]), cpu, torch.int64\n",
      "\n",
      "\n",
      "scores :  tensor([[   -inf,  1.3598,  3.8897,  ...,  0.6580, -0.1422,  0.5468],\n",
      "        [   -inf,  3.1951,  1.7335,  ...,  0.2461,  0.2539,  0.1469]],\n",
      "       device='cuda:0')\n",
      "scores size :  torch.Size([2, 1622])\n",
      "positive_u :  tensor([0, 0, 0, 0, 0, 0, 0, 0, 0, 1])\n",
      "positive_i:  tensor([224, 194, 663, 393, 425, 464, 820, 375, 152, 306])\n",
      "result :  OrderedDict([('recall@20', 0.2774), ('mrr@20', 0.2244), ('ndcg@20', 0.173), ('hit@20', 0.6164), ('map@20', 0.0894), ('precision@20', 0.0604), ('gauc', 0.8862), ('itemcoverage@20', 0.2577), ('averagepopularity@20', 103.6613), ('giniindex@20', 0.9281), ('shannonentropy@20', 0.0121), ('tailpercentage@20', 0.0), ('F1', 0.09920047365304914)])\n"
     ]
    },
    {
     "name": "stderr",
     "output_type": "stream",
     "text": [
      "07 Feb 18:14    INFO  epoch 78 evaluating [time: 0.20s, valid_score: 0.224400]\n",
      "07 Feb 18:14    INFO  valid result: \n",
      "recall@20 : 0.2774    mrr@20 : 0.2244    ndcg@20 : 0.173    hit@20 : 0.6164    map@20 : 0.0894    precision@20 : 0.0604    gauc : 0.8862    itemcoverage@20 : 0.2577    averagepopularity@20 : 103.6613    giniindex@20 : 0.9281    shannonentropy@20 : 0.0121    tailpercentage@20 : 0.0    F1 : 0.09920047365304914\n",
      "07 Feb 18:14    INFO  Saving current: /home/RecBole/saved/LightGCN-Feb-07-2023_18-14-24.pth\n",
      "07 Feb 18:14    INFO  epoch 79 training [time: 0.06s, train loss: 1.7724]\n"
     ]
    },
    {
     "name": "stdout",
     "output_type": "stream",
     "text": [
      "interaction :  The batch_size of interaction: 2\n",
      "    user_id, torch.Size([2]), cpu, torch.int64\n",
      "\n",
      "\n",
      "scores :  tensor([[   -inf,  1.3855,  3.9239,  ...,  0.6608, -0.1327,  0.5481],\n",
      "        [   -inf,  3.1632,  1.7785,  ...,  0.2501,  0.2546,  0.1500]],\n",
      "       device='cuda:0')\n",
      "scores size :  torch.Size([2, 1622])\n",
      "positive_u :  tensor([0, 0, 0, 0, 0, 0, 0, 0, 0, 1])\n",
      "positive_i:  tensor([224, 194, 663, 393, 425, 464, 820, 375, 152, 306])\n",
      "result :  OrderedDict([('recall@20', 0.2768), ('mrr@20', 0.227), ('ndcg@20', 0.1733), ('hit@20', 0.6199), ('map@20', 0.0898), ('precision@20', 0.0602), ('gauc', 0.8864), ('itemcoverage@20', 0.2571), ('averagepopularity@20', 103.596), ('giniindex@20', 0.9278), ('shannonentropy@20', 0.0121), ('tailpercentage@20', 0.0), ('F1', 0.09889234421364985)])\n"
     ]
    },
    {
     "name": "stderr",
     "output_type": "stream",
     "text": [
      "07 Feb 18:14    INFO  epoch 79 evaluating [time: 0.19s, valid_score: 0.227000]\n",
      "07 Feb 18:14    INFO  valid result: \n",
      "recall@20 : 0.2768    mrr@20 : 0.227    ndcg@20 : 0.1733    hit@20 : 0.6199    map@20 : 0.0898    precision@20 : 0.0602    gauc : 0.8864    itemcoverage@20 : 0.2571    averagepopularity@20 : 103.596    giniindex@20 : 0.9278    shannonentropy@20 : 0.0121    tailpercentage@20 : 0.0    F1 : 0.09889234421364985\n",
      "07 Feb 18:14    INFO  Saving current: /home/RecBole/saved/LightGCN-Feb-07-2023_18-14-24.pth\n",
      "07 Feb 18:14    INFO  epoch 80 training [time: 0.09s, train loss: 1.7529]\n"
     ]
    },
    {
     "name": "stdout",
     "output_type": "stream",
     "text": [
      "interaction :  The batch_size of interaction: 2\n",
      "    user_id, torch.Size([2]), cpu, torch.int64\n",
      "\n",
      "\n",
      "scores :  tensor([[   -inf,  1.3732,  3.9427,  ...,  0.6707, -0.1072,  0.5670],\n",
      "        [   -inf,  3.0688,  1.7327,  ...,  0.2469,  0.2621,  0.1466]],\n",
      "       device='cuda:0')\n",
      "scores size :  torch.Size([2, 1622])\n",
      "positive_u :  tensor([0, 0, 0, 0, 0, 0, 0, 0, 0, 1])\n",
      "positive_i:  tensor([224, 194, 663, 393, 425, 464, 820, 375, 152, 306])\n",
      "result :  OrderedDict([('recall@20', 0.277), ('mrr@20', 0.2275), ('ndcg@20', 0.1738), ('hit@20', 0.6216), ('map@20', 0.0903), ('precision@20', 0.0603), ('gauc', 0.8866), ('itemcoverage@20', 0.2602), ('averagepopularity@20', 102.9462), ('giniindex@20', 0.9264), ('shannonentropy@20', 0.012), ('tailpercentage@20', 0.0), ('F1', 0.09904002371775868)])\n"
     ]
    },
    {
     "name": "stderr",
     "output_type": "stream",
     "text": [
      "07 Feb 18:14    INFO  epoch 80 evaluating [time: 0.19s, valid_score: 0.227500]\n",
      "07 Feb 18:14    INFO  valid result: \n",
      "recall@20 : 0.277    mrr@20 : 0.2275    ndcg@20 : 0.1738    hit@20 : 0.6216    map@20 : 0.0903    precision@20 : 0.0603    gauc : 0.8866    itemcoverage@20 : 0.2602    averagepopularity@20 : 102.9462    giniindex@20 : 0.9264    shannonentropy@20 : 0.012    tailpercentage@20 : 0.0    F1 : 0.09904002371775868\n",
      "07 Feb 18:14    INFO  Saving current: /home/RecBole/saved/LightGCN-Feb-07-2023_18-14-24.pth\n",
      "07 Feb 18:14    INFO  epoch 81 training [time: 0.07s, train loss: 1.7374]\n"
     ]
    },
    {
     "name": "stdout",
     "output_type": "stream",
     "text": [
      "interaction :  The batch_size of interaction: 2\n",
      "    user_id, torch.Size([2]), cpu, torch.int64\n",
      "\n",
      "\n",
      "scores :  tensor([[   -inf,  1.6058,  4.2027,  ...,  0.6843, -0.1182,  0.5992],\n",
      "        [   -inf,  3.1420,  1.7793,  ...,  0.2555,  0.2619,  0.1475]],\n",
      "       device='cuda:0')\n",
      "scores size :  torch.Size([2, 1622])\n",
      "positive_u :  tensor([0, 0, 0, 0, 0, 0, 0, 0, 0, 1])\n",
      "positive_i:  tensor([224, 194, 663, 393, 425, 464, 820, 375, 152, 306])\n",
      "result :  OrderedDict([('recall@20', 0.2767), ('mrr@20', 0.229), ('ndcg@20', 0.1741), ('hit@20', 0.6216), ('map@20', 0.0907), ('precision@20', 0.0598), ('gauc', 0.8867), ('itemcoverage@20', 0.2509), ('averagepopularity@20', 103.9226), ('giniindex@20', 0.9286), ('shannonentropy@20', 0.0124), ('tailpercentage@20', 0.0), ('F1', 0.09834567607726598)])\n"
     ]
    },
    {
     "name": "stderr",
     "output_type": "stream",
     "text": [
      "07 Feb 18:14    INFO  epoch 81 evaluating [time: 0.20s, valid_score: 0.229000]\n",
      "07 Feb 18:14    INFO  valid result: \n",
      "recall@20 : 0.2767    mrr@20 : 0.229    ndcg@20 : 0.1741    hit@20 : 0.6216    map@20 : 0.0907    precision@20 : 0.0598    gauc : 0.8867    itemcoverage@20 : 0.2509    averagepopularity@20 : 103.9226    giniindex@20 : 0.9286    shannonentropy@20 : 0.0124    tailpercentage@20 : 0.0    F1 : 0.09834567607726598\n",
      "07 Feb 18:14    INFO  Saving current: /home/RecBole/saved/LightGCN-Feb-07-2023_18-14-24.pth\n",
      "07 Feb 18:14    INFO  epoch 82 training [time: 0.06s, train loss: 1.7576]\n"
     ]
    },
    {
     "name": "stdout",
     "output_type": "stream",
     "text": [
      "interaction :  The batch_size of interaction: 2\n",
      "    user_id, torch.Size([2]), cpu, torch.int64\n",
      "\n",
      "\n",
      "scores :  tensor([[   -inf,  1.3761,  3.8648,  ...,  0.6543, -0.1487,  0.5527],\n",
      "        [   -inf,  3.1075,  1.6653,  ...,  0.2449,  0.2505,  0.1271]],\n",
      "       device='cuda:0')\n",
      "scores size :  torch.Size([2, 1622])\n",
      "positive_u :  tensor([0, 0, 0, 0, 0, 0, 0, 0, 0, 1])\n",
      "positive_i:  tensor([224, 194, 663, 393, 425, 464, 820, 375, 152, 306])\n",
      "result :  OrderedDict([('recall@20', 0.2767), ('mrr@20', 0.2285), ('ndcg@20', 0.174), ('hit@20', 0.6199), ('map@20', 0.0904), ('precision@20', 0.0605), ('gauc', 0.8866), ('itemcoverage@20', 0.2608), ('averagepopularity@20', 102.9486), ('giniindex@20', 0.9262), ('shannonentropy@20', 0.012), ('tailpercentage@20', 0.0), ('F1', 0.09929033214709372)])\n"
     ]
    },
    {
     "name": "stderr",
     "output_type": "stream",
     "text": [
      "07 Feb 18:14    INFO  epoch 82 evaluating [time: 0.20s, valid_score: 0.228500]\n",
      "07 Feb 18:14    INFO  valid result: \n",
      "recall@20 : 0.2767    mrr@20 : 0.2285    ndcg@20 : 0.174    hit@20 : 0.6199    map@20 : 0.0904    precision@20 : 0.0605    gauc : 0.8866    itemcoverage@20 : 0.2608    averagepopularity@20 : 102.9486    giniindex@20 : 0.9262    shannonentropy@20 : 0.012    tailpercentage@20 : 0.0    F1 : 0.09929033214709372\n",
      "07 Feb 18:14    INFO  epoch 83 training [time: 0.05s, train loss: 1.7780]\n"
     ]
    },
    {
     "name": "stdout",
     "output_type": "stream",
     "text": [
      "interaction :  The batch_size of interaction: 2\n",
      "    user_id, torch.Size([2]), cpu, torch.int64\n",
      "\n",
      "\n",
      "scores :  tensor([[   -inf,  1.1428,  3.8025,  ...,  0.6357, -0.1450,  0.5507],\n",
      "        [   -inf,  3.0929,  1.6638,  ...,  0.2471,  0.2505,  0.1294]],\n",
      "       device='cuda:0')\n",
      "scores size :  torch.Size([2, 1622])\n",
      "positive_u :  tensor([0, 0, 0, 0, 0, 0, 0, 0, 0, 1])\n",
      "positive_i:  tensor([224, 194, 663, 393, 425, 464, 820, 375, 152, 306])\n",
      "result :  OrderedDict([('recall@20', 0.2816), ('mrr@20', 0.2287), ('ndcg@20', 0.1754), ('hit@20', 0.625), ('map@20', 0.0908), ('precision@20', 0.0613), ('gauc', 0.8867), ('itemcoverage@20', 0.2663), ('averagepopularity@20', 102.2515), ('giniindex@20', 0.9244), ('shannonentropy@20', 0.0118), ('tailpercentage@20', 0.0), ('F1', 0.10068288130650335)])\n"
     ]
    },
    {
     "name": "stderr",
     "output_type": "stream",
     "text": [
      "07 Feb 18:14    INFO  epoch 83 evaluating [time: 0.19s, valid_score: 0.228700]\n",
      "07 Feb 18:14    INFO  valid result: \n",
      "recall@20 : 0.2816    mrr@20 : 0.2287    ndcg@20 : 0.1754    hit@20 : 0.625    map@20 : 0.0908    precision@20 : 0.0613    gauc : 0.8867    itemcoverage@20 : 0.2663    averagepopularity@20 : 102.2515    giniindex@20 : 0.9244    shannonentropy@20 : 0.0118    tailpercentage@20 : 0.0    F1 : 0.10068288130650335\n",
      "07 Feb 18:14    INFO  epoch 84 training [time: 0.06s, train loss: 1.7639]\n"
     ]
    },
    {
     "name": "stdout",
     "output_type": "stream",
     "text": [
      "interaction :  The batch_size of interaction: 2\n",
      "    user_id, torch.Size([2]), cpu, torch.int64\n",
      "\n",
      "\n",
      "scores :  tensor([[   -inf,  1.4224,  4.1380,  ...,  0.6389, -0.1417,  0.5888],\n",
      "        [   -inf,  3.1664,  1.8058,  ...,  0.2539,  0.2557,  0.1519]],\n",
      "       device='cuda:0')\n",
      "scores size :  torch.Size([2, 1622])\n",
      "positive_u :  tensor([0, 0, 0, 0, 0, 0, 0, 0, 0, 1])\n",
      "positive_i:  tensor([224, 194, 663, 393, 425, 464, 820, 375, 152, 306])\n",
      "result :  OrderedDict([('recall@20', 0.2782), ('mrr@20', 0.2291), ('ndcg@20', 0.1743), ('hit@20', 0.6199), ('map@20', 0.0906), ('precision@20', 0.0603), ('gauc', 0.887), ('itemcoverage@20', 0.2528), ('averagepopularity@20', 103.694), ('giniindex@20', 0.9278), ('shannonentropy@20', 0.0123), ('tailpercentage@20', 0.0), ('F1', 0.09911645494830132)])\n"
     ]
    },
    {
     "name": "stderr",
     "output_type": "stream",
     "text": [
      "07 Feb 18:14    INFO  epoch 84 evaluating [time: 0.19s, valid_score: 0.229100]\n",
      "07 Feb 18:14    INFO  valid result: \n",
      "recall@20 : 0.2782    mrr@20 : 0.2291    ndcg@20 : 0.1743    hit@20 : 0.6199    map@20 : 0.0906    precision@20 : 0.0603    gauc : 0.887    itemcoverage@20 : 0.2528    averagepopularity@20 : 103.694    giniindex@20 : 0.9278    shannonentropy@20 : 0.0123    tailpercentage@20 : 0.0    F1 : 0.09911645494830132\n",
      "07 Feb 18:14    INFO  Saving current: /home/RecBole/saved/LightGCN-Feb-07-2023_18-14-24.pth\n",
      "07 Feb 18:14    INFO  epoch 85 training [time: 0.06s, train loss: 1.7404]\n"
     ]
    },
    {
     "name": "stdout",
     "output_type": "stream",
     "text": [
      "interaction :  The batch_size of interaction: 2\n",
      "    user_id, torch.Size([2]), cpu, torch.int64\n",
      "\n",
      "\n",
      "scores :  tensor([[   -inf,  1.3396,  3.8547,  ...,  0.6276, -0.1799,  0.5645],\n",
      "        [   -inf,  3.1123,  1.7146,  ...,  0.2480,  0.2548,  0.1421]],\n",
      "       device='cuda:0')\n",
      "scores size :  torch.Size([2, 1622])\n",
      "positive_u :  tensor([0, 0, 0, 0, 0, 0, 0, 0, 0, 1])\n",
      "positive_i:  tensor([224, 194, 663, 393, 425, 464, 820, 375, 152, 306])\n",
      "result :  OrderedDict([('recall@20', 0.2764), ('mrr@20', 0.2282), ('ndcg@20', 0.1741), ('hit@20', 0.6199), ('map@20', 0.0907), ('precision@20', 0.0605), ('gauc', 0.8868), ('itemcoverage@20', 0.2614), ('averagepopularity@20', 102.5137), ('giniindex@20', 0.9252), ('shannonentropy@20', 0.012), ('tailpercentage@20', 0.0), ('F1', 0.099271000296824)])\n"
     ]
    },
    {
     "name": "stderr",
     "output_type": "stream",
     "text": [
      "07 Feb 18:14    INFO  epoch 85 evaluating [time: 0.19s, valid_score: 0.228200]\n",
      "07 Feb 18:14    INFO  valid result: \n",
      "recall@20 : 0.2764    mrr@20 : 0.2282    ndcg@20 : 0.1741    hit@20 : 0.6199    map@20 : 0.0907    precision@20 : 0.0605    gauc : 0.8868    itemcoverage@20 : 0.2614    averagepopularity@20 : 102.5137    giniindex@20 : 0.9252    shannonentropy@20 : 0.012    tailpercentage@20 : 0.0    F1 : 0.099271000296824\n",
      "07 Feb 18:14    INFO  epoch 86 training [time: 0.12s, train loss: 1.7527]\n"
     ]
    },
    {
     "name": "stdout",
     "output_type": "stream",
     "text": [
      "interaction :  The batch_size of interaction: 2\n",
      "    user_id, torch.Size([2]), cpu, torch.int64\n",
      "\n",
      "\n",
      "scores :  tensor([[   -inf,  1.6748,  4.0590,  ...,  0.6679, -0.1677,  0.5867],\n",
      "        [   -inf,  3.1609,  1.6982,  ...,  0.2477,  0.2556,  0.1269]],\n",
      "       device='cuda:0')\n",
      "scores size :  torch.Size([2, 1622])\n",
      "positive_u :  tensor([0, 0, 0, 0, 0, 0, 0, 0, 0, 1])\n",
      "positive_i:  tensor([224, 194, 663, 393, 425, 464, 820, 375, 152, 306])\n",
      "result :  OrderedDict([('recall@20', 0.2811), ('mrr@20', 0.2282), ('ndcg@20', 0.175), ('hit@20', 0.625), ('map@20', 0.0908), ('precision@20', 0.0603), ('gauc', 0.8868), ('itemcoverage@20', 0.2522), ('averagepopularity@20', 103.9777), ('giniindex@20', 0.9283), ('shannonentropy@20', 0.0123), ('tailpercentage@20', 0.0), ('F1', 0.09929894551845342)])\n"
     ]
    },
    {
     "name": "stderr",
     "output_type": "stream",
     "text": [
      "07 Feb 18:14    INFO  epoch 86 evaluating [time: 0.20s, valid_score: 0.228200]\n",
      "07 Feb 18:14    INFO  valid result: \n",
      "recall@20 : 0.2811    mrr@20 : 0.2282    ndcg@20 : 0.175    hit@20 : 0.625    map@20 : 0.0908    precision@20 : 0.0603    gauc : 0.8868    itemcoverage@20 : 0.2522    averagepopularity@20 : 103.9777    giniindex@20 : 0.9283    shannonentropy@20 : 0.0123    tailpercentage@20 : 0.0    F1 : 0.09929894551845342\n",
      "07 Feb 18:14    INFO  epoch 87 training [time: 0.05s, train loss: 1.7193]\n"
     ]
    },
    {
     "name": "stdout",
     "output_type": "stream",
     "text": [
      "interaction :  The batch_size of interaction: 2\n",
      "    user_id, torch.Size([2]), cpu, torch.int64\n",
      "\n",
      "\n",
      "scores :  tensor([[   -inf,  1.4199,  3.9398,  ...,  0.6535, -0.1689,  0.5737],\n",
      "        [   -inf,  3.0923,  1.6254,  ...,  0.2438,  0.2616,  0.1101]],\n",
      "       device='cuda:0')\n",
      "scores size :  torch.Size([2, 1622])\n",
      "positive_u :  tensor([0, 0, 0, 0, 0, 0, 0, 0, 0, 1])\n",
      "positive_i:  tensor([224, 194, 663, 393, 425, 464, 820, 375, 152, 306])\n",
      "result :  OrderedDict([('recall@20', 0.2837), ('mrr@20', 0.2296), ('ndcg@20', 0.1759), ('hit@20', 0.6267), ('map@20', 0.091), ('precision@20', 0.0607), ('gauc', 0.887), ('itemcoverage@20', 0.2589), ('averagepopularity@20', 102.6128), ('giniindex@20', 0.9253), ('shannonentropy@20', 0.0121), ('tailpercentage@20', 0.0), ('F1', 0.10000342624854822)])\n"
     ]
    },
    {
     "name": "stderr",
     "output_type": "stream",
     "text": [
      "07 Feb 18:14    INFO  epoch 87 evaluating [time: 0.21s, valid_score: 0.229600]\n",
      "07 Feb 18:14    INFO  valid result: \n",
      "recall@20 : 0.2837    mrr@20 : 0.2296    ndcg@20 : 0.1759    hit@20 : 0.6267    map@20 : 0.091    precision@20 : 0.0607    gauc : 0.887    itemcoverage@20 : 0.2589    averagepopularity@20 : 102.6128    giniindex@20 : 0.9253    shannonentropy@20 : 0.0121    tailpercentage@20 : 0.0    F1 : 0.10000342624854822\n",
      "07 Feb 18:14    INFO  Saving current: /home/RecBole/saved/LightGCN-Feb-07-2023_18-14-24.pth\n",
      "07 Feb 18:14    INFO  epoch 88 training [time: 0.09s, train loss: 1.6963]\n"
     ]
    },
    {
     "name": "stdout",
     "output_type": "stream",
     "text": [
      "interaction :  The batch_size of interaction: 2\n",
      "    user_id, torch.Size([2]), cpu, torch.int64\n",
      "\n",
      "\n",
      "scores :  tensor([[   -inf,  1.3738,  3.9473,  ...,  0.6493, -0.1654,  0.5641],\n",
      "        [   -inf,  3.1549,  1.7726,  ...,  0.2600,  0.2711,  0.1275]],\n",
      "       device='cuda:0')\n",
      "scores size :  torch.Size([2, 1622])\n",
      "positive_u :  tensor([0, 0, 0, 0, 0, 0, 0, 0, 0, 1])\n",
      "positive_i:  tensor([224, 194, 663, 393, 425, 464, 820, 375, 152, 306])\n",
      "result :  OrderedDict([('recall@20', 0.2797), ('mrr@20', 0.23), ('ndcg@20', 0.1752), ('hit@20', 0.6267), ('map@20', 0.0909), ('precision@20', 0.0608), ('gauc', 0.8872), ('itemcoverage@20', 0.2565), ('averagepopularity@20', 102.5117), ('giniindex@20', 0.9251), ('shannonentropy@20', 0.0122), ('tailpercentage@20', 0.0), ('F1', 0.09988698972099853)])\n"
     ]
    },
    {
     "name": "stderr",
     "output_type": "stream",
     "text": [
      "07 Feb 18:14    INFO  epoch 88 evaluating [time: 0.20s, valid_score: 0.230000]\n",
      "07 Feb 18:14    INFO  valid result: \n",
      "recall@20 : 0.2797    mrr@20 : 0.23    ndcg@20 : 0.1752    hit@20 : 0.6267    map@20 : 0.0909    precision@20 : 0.0608    gauc : 0.8872    itemcoverage@20 : 0.2565    averagepopularity@20 : 102.5117    giniindex@20 : 0.9251    shannonentropy@20 : 0.0122    tailpercentage@20 : 0.0    F1 : 0.09988698972099853\n",
      "07 Feb 18:14    INFO  Saving current: /home/RecBole/saved/LightGCN-Feb-07-2023_18-14-24.pth\n",
      "07 Feb 18:14    INFO  epoch 89 training [time: 0.06s, train loss: 1.7023]\n"
     ]
    },
    {
     "name": "stdout",
     "output_type": "stream",
     "text": [
      "interaction :  The batch_size of interaction: 2\n",
      "    user_id, torch.Size([2]), cpu, torch.int64\n",
      "\n",
      "\n",
      "scores :  tensor([[   -inf,  1.4827,  3.8954,  ...,  0.6534, -0.1653,  0.5582],\n",
      "        [   -inf,  3.2046,  1.8027,  ...,  0.2626,  0.2798,  0.1331]],\n",
      "       device='cuda:0')\n",
      "scores size :  torch.Size([2, 1622])\n",
      "positive_u :  tensor([0, 0, 0, 0, 0, 0, 0, 0, 0, 1])\n",
      "positive_i:  tensor([224, 194, 663, 393, 425, 464, 820, 375, 152, 306])\n",
      "result :  OrderedDict([('recall@20', 0.2813), ('mrr@20', 0.2283), ('ndcg@20', 0.1755), ('hit@20', 0.6267), ('map@20', 0.0909), ('precision@20', 0.0609), ('gauc', 0.8872), ('itemcoverage@20', 0.2608), ('averagepopularity@20', 102.7829), ('giniindex@20', 0.9254), ('shannonentropy@20', 0.012), ('tailpercentage@20', 0.0), ('F1', 0.10012372881355933)])\n"
     ]
    },
    {
     "name": "stderr",
     "output_type": "stream",
     "text": [
      "07 Feb 18:14    INFO  epoch 89 evaluating [time: 0.19s, valid_score: 0.228300]\n",
      "07 Feb 18:14    INFO  valid result: \n",
      "recall@20 : 0.2813    mrr@20 : 0.2283    ndcg@20 : 0.1755    hit@20 : 0.6267    map@20 : 0.0909    precision@20 : 0.0609    gauc : 0.8872    itemcoverage@20 : 0.2608    averagepopularity@20 : 102.7829    giniindex@20 : 0.9254    shannonentropy@20 : 0.012    tailpercentage@20 : 0.0    F1 : 0.10012372881355933\n",
      "07 Feb 18:14    INFO  epoch 90 training [time: 0.07s, train loss: 1.6910]\n"
     ]
    },
    {
     "name": "stdout",
     "output_type": "stream",
     "text": [
      "interaction :  The batch_size of interaction: 2\n",
      "    user_id, torch.Size([2]), cpu, torch.int64\n",
      "\n",
      "\n",
      "scores :  tensor([[   -inf,  1.6476,  4.0070,  ...,  0.6730, -0.1723,  0.5669],\n",
      "        [   -inf,  3.1911,  1.7764,  ...,  0.2566,  0.2656,  0.1308]],\n",
      "       device='cuda:0')\n",
      "scores size :  torch.Size([2, 1622])\n",
      "positive_u :  tensor([0, 0, 0, 0, 0, 0, 0, 0, 0, 1])\n",
      "positive_i:  tensor([224, 194, 663, 393, 425, 464, 820, 375, 152, 306])\n",
      "result :  OrderedDict([('recall@20', 0.2828), ('mrr@20', 0.2289), ('ndcg@20', 0.1762), ('hit@20', 0.625), ('map@20', 0.0915), ('precision@20', 0.0607), ('gauc', 0.8874), ('itemcoverage@20', 0.2596), ('averagepopularity@20', 103.7495), ('giniindex@20', 0.9271), ('shannonentropy@20', 0.012), ('tailpercentage@20', 0.0), ('F1', 0.09994736535662299)])\n"
     ]
    },
    {
     "name": "stderr",
     "output_type": "stream",
     "text": [
      "07 Feb 18:14    INFO  epoch 90 evaluating [time: 0.19s, valid_score: 0.228900]\n",
      "07 Feb 18:14    INFO  valid result: \n",
      "recall@20 : 0.2828    mrr@20 : 0.2289    ndcg@20 : 0.1762    hit@20 : 0.625    map@20 : 0.0915    precision@20 : 0.0607    gauc : 0.8874    itemcoverage@20 : 0.2596    averagepopularity@20 : 103.7495    giniindex@20 : 0.9271    shannonentropy@20 : 0.012    tailpercentage@20 : 0.0    F1 : 0.09994736535662299\n",
      "07 Feb 18:14    INFO  epoch 91 training [time: 0.09s, train loss: 1.7103]\n"
     ]
    },
    {
     "name": "stdout",
     "output_type": "stream",
     "text": [
      "interaction :  The batch_size of interaction: 2\n",
      "    user_id, torch.Size([2]), cpu, torch.int64\n",
      "\n",
      "\n",
      "scores :  tensor([[   -inf,  1.4582,  3.8019,  ...,  0.6539, -0.1671,  0.5614],\n",
      "        [   -inf,  3.0335,  1.6189,  ...,  0.2339,  0.2557,  0.1194]],\n",
      "       device='cuda:0')\n",
      "scores size :  torch.Size([2, 1622])\n",
      "positive_u :  tensor([0, 0, 0, 0, 0, 0, 0, 0, 0, 1])\n",
      "positive_i:  tensor([224, 194, 663, 393, 425, 464, 820, 375, 152, 306])\n",
      "result :  OrderedDict([('recall@20', 0.2833), ('mrr@20', 0.2274), ('ndcg@20', 0.176), ('hit@20', 0.6301), ('map@20', 0.091), ('precision@20', 0.0612), ('gauc', 0.8871), ('itemcoverage@20', 0.2725), ('averagepopularity@20', 102.3353), ('giniindex@20', 0.9238), ('shannonentropy@20', 0.0116), ('tailpercentage@20', 0.0), ('F1', 0.10065579100145139)])\n"
     ]
    },
    {
     "name": "stderr",
     "output_type": "stream",
     "text": [
      "07 Feb 18:14    INFO  epoch 91 evaluating [time: 0.19s, valid_score: 0.227400]\n",
      "07 Feb 18:14    INFO  valid result: \n",
      "recall@20 : 0.2833    mrr@20 : 0.2274    ndcg@20 : 0.176    hit@20 : 0.6301    map@20 : 0.091    precision@20 : 0.0612    gauc : 0.8871    itemcoverage@20 : 0.2725    averagepopularity@20 : 102.3353    giniindex@20 : 0.9238    shannonentropy@20 : 0.0116    tailpercentage@20 : 0.0    F1 : 0.10065579100145139\n",
      "07 Feb 18:14    INFO  epoch 92 training [time: 0.05s, train loss: 1.6976]\n"
     ]
    },
    {
     "name": "stdout",
     "output_type": "stream",
     "text": [
      "interaction :  The batch_size of interaction: 2\n",
      "    user_id, torch.Size([2]), cpu, torch.int64\n",
      "\n",
      "\n",
      "scores :  tensor([[   -inf,  1.8178,  4.2537,  ...,  0.6912, -0.1349,  0.6133],\n",
      "        [   -inf,  3.2027,  1.8675,  ...,  0.2529,  0.2875,  0.1561]],\n",
      "       device='cuda:0')\n",
      "scores size :  torch.Size([2, 1622])\n",
      "positive_u :  tensor([0, 0, 0, 0, 0, 0, 0, 0, 0, 1])\n",
      "positive_i:  tensor([224, 194, 663, 393, 425, 464, 820, 375, 152, 306])\n",
      "result :  OrderedDict([('recall@20', 0.2789), ('mrr@20', 0.2267), ('ndcg@20', 0.1752), ('hit@20', 0.6216), ('map@20', 0.0912), ('precision@20', 0.0611), ('gauc', 0.8873), ('itemcoverage@20', 0.2546), ('averagepopularity@20', 103.836), ('giniindex@20', 0.9275), ('shannonentropy@20', 0.0123), ('tailpercentage@20', 0.0), ('F1', 0.1002399411764706)])\n"
     ]
    },
    {
     "name": "stderr",
     "output_type": "stream",
     "text": [
      "07 Feb 18:14    INFO  epoch 92 evaluating [time: 0.22s, valid_score: 0.226700]\n",
      "07 Feb 18:14    INFO  valid result: \n",
      "recall@20 : 0.2789    mrr@20 : 0.2267    ndcg@20 : 0.1752    hit@20 : 0.6216    map@20 : 0.0912    precision@20 : 0.0611    gauc : 0.8873    itemcoverage@20 : 0.2546    averagepopularity@20 : 103.836    giniindex@20 : 0.9275    shannonentropy@20 : 0.0123    tailpercentage@20 : 0.0    F1 : 0.1002399411764706\n",
      "07 Feb 18:14    INFO  epoch 93 training [time: 0.11s, train loss: 1.7027]\n"
     ]
    },
    {
     "name": "stdout",
     "output_type": "stream",
     "text": [
      "interaction :  The batch_size of interaction: 2\n",
      "    user_id, torch.Size([2]), cpu, torch.int64\n",
      "\n",
      "\n",
      "scores :  tensor([[   -inf,  1.6214,  3.9784,  ...,  0.6819, -0.1762,  0.5791],\n",
      "        [   -inf,  3.1158,  1.7313,  ...,  0.2414,  0.2857,  0.1401]],\n",
      "       device='cuda:0')\n",
      "scores size :  torch.Size([2, 1622])\n",
      "positive_u :  tensor([0, 0, 0, 0, 0, 0, 0, 0, 0, 1])\n",
      "positive_i:  tensor([224, 194, 663, 393, 425, 464, 820, 375, 152, 306])\n",
      "result :  OrderedDict([('recall@20', 0.2773), ('mrr@20', 0.2318), ('ndcg@20', 0.1758), ('hit@20', 0.625), ('map@20', 0.0917), ('precision@20', 0.0609), ('gauc', 0.8873), ('itemcoverage@20', 0.2645), ('averagepopularity@20', 102.5961), ('giniindex@20', 0.9247), ('shannonentropy@20', 0.0119), ('tailpercentage@20', 0.0), ('F1', 0.09986735659373153)])\n"
     ]
    },
    {
     "name": "stderr",
     "output_type": "stream",
     "text": [
      "07 Feb 18:14    INFO  epoch 93 evaluating [time: 0.20s, valid_score: 0.231800]\n",
      "07 Feb 18:14    INFO  valid result: \n",
      "recall@20 : 0.2773    mrr@20 : 0.2318    ndcg@20 : 0.1758    hit@20 : 0.625    map@20 : 0.0917    precision@20 : 0.0609    gauc : 0.8873    itemcoverage@20 : 0.2645    averagepopularity@20 : 102.5961    giniindex@20 : 0.9247    shannonentropy@20 : 0.0119    tailpercentage@20 : 0.0    F1 : 0.09986735659373153\n",
      "07 Feb 18:14    INFO  Saving current: /home/RecBole/saved/LightGCN-Feb-07-2023_18-14-24.pth\n",
      "07 Feb 18:14    INFO  epoch 94 training [time: 0.09s, train loss: 1.6970]\n"
     ]
    },
    {
     "name": "stdout",
     "output_type": "stream",
     "text": [
      "interaction :  The batch_size of interaction: 2\n",
      "    user_id, torch.Size([2]), cpu, torch.int64\n",
      "\n",
      "\n",
      "scores :  tensor([[   -inf,  1.4466,  3.9955,  ...,  0.6728, -0.1841,  0.5826],\n",
      "        [   -inf,  2.9242,  1.5815,  ...,  0.2160,  0.2834,  0.1114]],\n",
      "       device='cuda:0')\n",
      "scores size :  torch.Size([2, 1622])\n",
      "positive_u :  tensor([0, 0, 0, 0, 0, 0, 0, 0, 0, 1])\n",
      "positive_i:  tensor([224, 194, 663, 393, 425, 464, 820, 375, 152, 306])\n",
      "result :  OrderedDict([('recall@20', 0.2816), ('mrr@20', 0.23), ('ndcg@20', 0.1766), ('hit@20', 0.6284), ('map@20', 0.0919), ('precision@20', 0.0611), ('gauc', 0.8872), ('itemcoverage@20', 0.2707), ('averagepopularity@20', 102.0461), ('giniindex@20', 0.9231), ('shannonentropy@20', 0.0117), ('tailpercentage@20', 0.0), ('F1', 0.10041295593813832)])\n"
     ]
    },
    {
     "name": "stderr",
     "output_type": "stream",
     "text": [
      "07 Feb 18:14    INFO  epoch 94 evaluating [time: 0.20s, valid_score: 0.230000]\n",
      "07 Feb 18:14    INFO  valid result: \n",
      "recall@20 : 0.2816    mrr@20 : 0.23    ndcg@20 : 0.1766    hit@20 : 0.6284    map@20 : 0.0919    precision@20 : 0.0611    gauc : 0.8872    itemcoverage@20 : 0.2707    averagepopularity@20 : 102.0461    giniindex@20 : 0.9231    shannonentropy@20 : 0.0117    tailpercentage@20 : 0.0    F1 : 0.10041295593813832\n",
      "07 Feb 18:14    INFO  epoch 95 training [time: 0.10s, train loss: 1.6999]\n"
     ]
    },
    {
     "name": "stdout",
     "output_type": "stream",
     "text": [
      "interaction :  The batch_size of interaction: 2\n",
      "    user_id, torch.Size([2]), cpu, torch.int64\n",
      "\n",
      "\n",
      "scores :  tensor([[   -inf,  1.5092,  3.8953,  ...,  0.6320, -0.1818,  0.5657],\n",
      "        [   -inf,  3.0070,  1.6242,  ...,  0.2101,  0.2948,  0.1103]],\n",
      "       device='cuda:0')\n",
      "scores size :  torch.Size([2, 1622])\n",
      "positive_u :  tensor([0, 0, 0, 0, 0, 0, 0, 0, 0, 1])\n",
      "positive_i:  tensor([224, 194, 663, 393, 425, 464, 820, 375, 152, 306])\n",
      "result :  OrderedDict([('recall@20', 0.2807), ('mrr@20', 0.2293), ('ndcg@20', 0.1757), ('hit@20', 0.625), ('map@20', 0.0916), ('precision@20', 0.0603), ('gauc', 0.8873), ('itemcoverage@20', 0.2676), ('averagepopularity@20', 103.2053), ('giniindex@20', 0.9255), ('shannonentropy@20', 0.0117), ('tailpercentage@20', 0.0), ('F1', 0.09927395894428152)])\n"
     ]
    },
    {
     "name": "stderr",
     "output_type": "stream",
     "text": [
      "07 Feb 18:14    INFO  epoch 95 evaluating [time: 0.20s, valid_score: 0.229300]\n",
      "07 Feb 18:14    INFO  valid result: \n",
      "recall@20 : 0.2807    mrr@20 : 0.2293    ndcg@20 : 0.1757    hit@20 : 0.625    map@20 : 0.0916    precision@20 : 0.0603    gauc : 0.8873    itemcoverage@20 : 0.2676    averagepopularity@20 : 103.2053    giniindex@20 : 0.9255    shannonentropy@20 : 0.0117    tailpercentage@20 : 0.0    F1 : 0.09927395894428152\n",
      "07 Feb 18:14    INFO  epoch 96 training [time: 0.07s, train loss: 1.6608]\n"
     ]
    },
    {
     "name": "stdout",
     "output_type": "stream",
     "text": [
      "interaction :  The batch_size of interaction: 2\n",
      "    user_id, torch.Size([2]), cpu, torch.int64\n",
      "\n",
      "\n",
      "scores :  tensor([[   -inf,  1.3928,  3.8832,  ...,  0.6294, -0.2094,  0.5481],\n",
      "        [   -inf,  3.0156,  1.6410,  ...,  0.2126,  0.2778,  0.1085]],\n",
      "       device='cuda:0')\n",
      "scores size :  torch.Size([2, 1622])\n",
      "positive_u :  tensor([0, 0, 0, 0, 0, 0, 0, 0, 0, 1])\n",
      "positive_i:  tensor([224, 194, 663, 393, 425, 464, 820, 375, 152, 306])\n",
      "result :  OrderedDict([('recall@20', 0.2814), ('mrr@20', 0.2297), ('ndcg@20', 0.1758), ('hit@20', 0.6318), ('map@20', 0.0915), ('precision@20', 0.0604), ('gauc', 0.8874), ('itemcoverage@20', 0.2694), ('averagepopularity@20', 103.0895), ('giniindex@20', 0.9254), ('shannonentropy@20', 0.0116), ('tailpercentage@20', 0.0), ('F1', 0.0994532475131656)])\n"
     ]
    },
    {
     "name": "stderr",
     "output_type": "stream",
     "text": [
      "07 Feb 18:14    INFO  epoch 96 evaluating [time: 0.20s, valid_score: 0.229700]\n",
      "07 Feb 18:14    INFO  valid result: \n",
      "recall@20 : 0.2814    mrr@20 : 0.2297    ndcg@20 : 0.1758    hit@20 : 0.6318    map@20 : 0.0915    precision@20 : 0.0604    gauc : 0.8874    itemcoverage@20 : 0.2694    averagepopularity@20 : 103.0895    giniindex@20 : 0.9254    shannonentropy@20 : 0.0116    tailpercentage@20 : 0.0    F1 : 0.0994532475131656\n",
      "07 Feb 18:14    INFO  epoch 97 training [time: 0.07s, train loss: 1.7151]\n"
     ]
    },
    {
     "name": "stdout",
     "output_type": "stream",
     "text": [
      "interaction :  The batch_size of interaction: 2\n",
      "    user_id, torch.Size([2]), cpu, torch.int64\n",
      "\n",
      "\n",
      "scores :  tensor([[   -inf,  1.3432,  3.8267,  ...,  0.6363, -0.2112,  0.5397],\n",
      "        [   -inf,  2.9586,  1.5768,  ...,  0.2069,  0.2735,  0.1021]],\n",
      "       device='cuda:0')\n",
      "scores size :  torch.Size([2, 1622])\n",
      "positive_u :  tensor([0, 0, 0, 0, 0, 0, 0, 0, 0, 1])\n",
      "positive_i:  tensor([224, 194, 663, 393, 425, 464, 820, 375, 152, 306])\n",
      "result :  OrderedDict([('recall@20', 0.2819), ('mrr@20', 0.2283), ('ndcg@20', 0.1756), ('hit@20', 0.6336), ('map@20', 0.091), ('precision@20', 0.061), ('gauc', 0.8873), ('itemcoverage@20', 0.2731), ('averagepopularity@20', 102.2962), ('giniindex@20', 0.9239), ('shannonentropy@20', 0.0115), ('tailpercentage@20', 0.0), ('F1', 0.10029687955672208)])\n"
     ]
    },
    {
     "name": "stderr",
     "output_type": "stream",
     "text": [
      "07 Feb 18:14    INFO  epoch 97 evaluating [time: 0.20s, valid_score: 0.228300]\n",
      "07 Feb 18:14    INFO  valid result: \n",
      "recall@20 : 0.2819    mrr@20 : 0.2283    ndcg@20 : 0.1756    hit@20 : 0.6336    map@20 : 0.091    precision@20 : 0.061    gauc : 0.8873    itemcoverage@20 : 0.2731    averagepopularity@20 : 102.2962    giniindex@20 : 0.9239    shannonentropy@20 : 0.0115    tailpercentage@20 : 0.0    F1 : 0.10029687955672208\n",
      "07 Feb 18:14    INFO  epoch 98 training [time: 0.07s, train loss: 1.6507]\n"
     ]
    },
    {
     "name": "stdout",
     "output_type": "stream",
     "text": [
      "interaction :  The batch_size of interaction: 2\n",
      "    user_id, torch.Size([2]), cpu, torch.int64\n",
      "\n",
      "\n",
      "scores :  tensor([[   -inf,  1.4077,  4.0121,  ...,  0.6275, -0.1870,  0.5787],\n",
      "        [   -inf,  2.9762,  1.6785,  ...,  0.2157,  0.2905,  0.1149]],\n",
      "       device='cuda:0')\n",
      "scores size :  torch.Size([2, 1622])\n",
      "positive_u :  tensor([0, 0, 0, 0, 0, 0, 0, 0, 0, 1])\n",
      "positive_i:  tensor([224, 194, 663, 393, 425, 464, 820, 375, 152, 306])\n",
      "result :  OrderedDict([('recall@20', 0.2771), ('mrr@20', 0.2291), ('ndcg@20', 0.1744), ('hit@20', 0.6301), ('map@20', 0.0907), ('precision@20', 0.0604), ('gauc', 0.8877), ('itemcoverage@20', 0.2676), ('averagepopularity@20', 102.8227), ('giniindex@20', 0.9252), ('shannonentropy@20', 0.0117), ('tailpercentage@20', 0.0), ('F1', 0.09918127407407408)])\n"
     ]
    },
    {
     "name": "stderr",
     "output_type": "stream",
     "text": [
      "07 Feb 18:14    INFO  epoch 98 evaluating [time: 0.19s, valid_score: 0.229100]\n",
      "07 Feb 18:14    INFO  valid result: \n",
      "recall@20 : 0.2771    mrr@20 : 0.2291    ndcg@20 : 0.1744    hit@20 : 0.6301    map@20 : 0.0907    precision@20 : 0.0604    gauc : 0.8877    itemcoverage@20 : 0.2676    averagepopularity@20 : 102.8227    giniindex@20 : 0.9252    shannonentropy@20 : 0.0117    tailpercentage@20 : 0.0    F1 : 0.09918127407407408\n",
      "07 Feb 18:14    INFO  epoch 99 training [time: 0.09s, train loss: 1.6826]\n"
     ]
    },
    {
     "name": "stdout",
     "output_type": "stream",
     "text": [
      "interaction :  The batch_size of interaction: 2\n",
      "    user_id, torch.Size([2]), cpu, torch.int64\n",
      "\n",
      "\n",
      "scores :  tensor([[   -inf,  1.1590,  3.8777,  ...,  0.5989, -0.1728,  0.5715],\n",
      "        [   -inf,  2.9154,  1.6522,  ...,  0.2071,  0.3007,  0.1068]],\n",
      "       device='cuda:0')\n",
      "scores size :  torch.Size([2, 1622])\n",
      "positive_u :  tensor([0, 0, 0, 0, 0, 0, 0, 0, 0, 1])\n",
      "positive_i:  tensor([224, 194, 663, 393, 425, 464, 820, 375, 152, 306])\n",
      "result :  OrderedDict([('recall@20', 0.277), ('mrr@20', 0.2313), ('ndcg@20', 0.175), ('hit@20', 0.6284), ('map@20', 0.0912), ('precision@20', 0.0603), ('gauc', 0.8878), ('itemcoverage@20', 0.2719), ('averagepopularity@20', 102.1383), ('giniindex@20', 0.9236), ('shannonentropy@20', 0.0116), ('tailpercentage@20', 0.0), ('F1', 0.09904002371775868)])\n"
     ]
    },
    {
     "name": "stderr",
     "output_type": "stream",
     "text": [
      "07 Feb 18:14    INFO  epoch 99 evaluating [time: 0.20s, valid_score: 0.231300]\n",
      "07 Feb 18:14    INFO  valid result: \n",
      "recall@20 : 0.277    mrr@20 : 0.2313    ndcg@20 : 0.175    hit@20 : 0.6284    map@20 : 0.0912    precision@20 : 0.0603    gauc : 0.8878    itemcoverage@20 : 0.2719    averagepopularity@20 : 102.1383    giniindex@20 : 0.9236    shannonentropy@20 : 0.0116    tailpercentage@20 : 0.0    F1 : 0.09904002371775868\n"
     ]
    }
   ],
   "source": [
    "best_valid_score, best_valid_result = trainer.fit(train_data, valid_data)"
   ]
  },
  {
   "cell_type": "code",
   "execution_count": 16,
   "id": "364fd736-fded-434c-af55-c8a1204056f2",
   "metadata": {},
   "outputs": [
    {
     "data": {
      "text/plain": [
       "0.2318"
      ]
     },
     "execution_count": 16,
     "metadata": {},
     "output_type": "execute_result"
    }
   ],
   "source": [
    "best_valid_score"
   ]
  },
  {
   "cell_type": "code",
   "execution_count": 17,
   "id": "c2be8a0f-c04b-41e9-96bb-0927f4208e77",
   "metadata": {},
   "outputs": [
    {
     "data": {
      "text/plain": [
       "OrderedDict([('recall@20', 0.2773),\n",
       "             ('mrr@20', 0.2318),\n",
       "             ('ndcg@20', 0.1758),\n",
       "             ('hit@20', 0.625),\n",
       "             ('map@20', 0.0917),\n",
       "             ('precision@20', 0.0609),\n",
       "             ('gauc', 0.8873),\n",
       "             ('itemcoverage@20', 0.2645),\n",
       "             ('averagepopularity@20', 102.5961),\n",
       "             ('giniindex@20', 0.9247),\n",
       "             ('shannonentropy@20', 0.0119),\n",
       "             ('tailpercentage@20', 0.0),\n",
       "             ('F1', 0.09986735659373153)])"
      ]
     },
     "execution_count": 17,
     "metadata": {},
     "output_type": "execute_result"
    }
   ],
   "source": [
    "best_valid_result"
   ]
  },
  {
   "cell_type": "code",
   "execution_count": 18,
   "id": "b516c086-0e84-4b31-91e5-24886125d410",
   "metadata": {},
   "outputs": [
    {
     "data": {
      "text/plain": [
       "LightGCN(\n",
       "  (user_embedding): Embedding(587, 64)\n",
       "  (item_embedding): Embedding(1622, 64)\n",
       "  (mf_loss): BPRLoss()\n",
       "  (reg_loss): EmbLoss()\n",
       ")"
      ]
     },
     "execution_count": 18,
     "metadata": {},
     "output_type": "execute_result"
    }
   ],
   "source": [
    "model.eval()"
   ]
  },
  {
   "cell_type": "code",
   "execution_count": 19,
   "id": "9a3baa5b-e6a2-436b-a25f-b4e078d63e3c",
   "metadata": {},
   "outputs": [
    {
     "name": "stderr",
     "output_type": "stream",
     "text": [
      "07 Feb 18:14    INFO  Loading model structure and parameters from /home/RecBole/saved/LightGCN-Feb-07-2023_18-14-24.pth\n"
     ]
    },
    {
     "name": "stdout",
     "output_type": "stream",
     "text": [
      "interaction :  The batch_size of interaction: 1\n",
      "    user_id, torch.Size([1]), cpu, torch.int64\n",
      "\n",
      "\n",
      "scores :  tensor([[  -inf, 3.1158, 1.7313,  ..., 0.2414, 0.2857, 0.1401]],\n",
      "       device='cuda:0')\n",
      "scores size :  torch.Size([1, 1622])\n",
      "positive_u :  tensor([0, 0, 0, 0, 0, 0])\n",
      "positive_i:  tensor([514, 408, 654, 178, 440, 505])\n",
      "result :  OrderedDict([('recall@20', 0.3162), ('mrr@20', 0.5959), ('ndcg@20', 0.3751), ('hit@20', 0.9094), ('map@20', 0.2211), ('precision@20', 0.2479), ('gauc', 0.9085), ('itemcoverage@20', 0.2756), ('averagepopularity@20', 101.1001), ('giniindex@20', 0.9213), ('shannonentropy@20', 0.0115), ('tailpercentage@20', 0.0), ('F1', 0.2779151923417833)])\n"
     ]
    }
   ],
   "source": [
    "test_result = trainer.evaluate(test_data)"
   ]
  },
  {
   "cell_type": "code",
   "execution_count": 20,
   "id": "7b7445eb-4860-478f-a921-dad7785bb29a",
   "metadata": {},
   "outputs": [
    {
     "data": {
      "text/plain": [
       "13"
      ]
     },
     "execution_count": 20,
     "metadata": {},
     "output_type": "execute_result"
    },
    {
     "name": "stderr",
     "output_type": "stream",
     "text": [
      "wandb: Waiting for W&B process to finish... (success).\n"
     ]
    }
   ],
   "source": [
    "len(test_result)"
   ]
  },
  {
   "cell_type": "code",
   "execution_count": 19,
   "id": "9cc7fea3-38f5-4587-9c2d-e9ccd4b4d70b",
   "metadata": {},
   "outputs": [
    {
     "name": "stderr",
     "output_type": "stream",
     "text": [
      "07 Feb 12:44    INFO  Checkpoint loaded. Resume training from epoch 97\n"
     ]
    }
   ],
   "source": [
    "checkpoint_file = '/home/RecBole/saved/LightGCN-Feb-07-2023_12-43-52.pth'\n",
    "trainer.resume_checkpoint(checkpoint_file)"
   ]
  },
  {
   "cell_type": "code",
   "execution_count": 68,
   "id": "0405dada-e10e-45d4-8baa-e5651c3b7fd8",
   "metadata": {},
   "outputs": [],
   "source": [
    "import numpy as np\n",
    "import pandas as pd\n",
    "\n",
    "rating_df = pd.read_csv('/home/RecBole/dataset/ml-100k/input/u.data', sep='\\t', \n",
    "                        names=['user_id', 'movie_id', 'rating', 'timestamp'], \n",
    "                        parse_dates=['timestamp'])\n",
    "\n",
    "rating_df_sorted_by_values = rating_df.sort_values(by='timestamp', ascending=True)\n",
    "test = rating_df_sorted_by_values.iloc[90000:100000]\n",
    "test_sorted_by_index = test.sort_index(ascending=True)\n",
    "uid = test_sorted_by_index['user_id']\n",
    "iid = test_sorted_by_index['movie_id']"
   ]
  },
  {
   "cell_type": "code",
   "execution_count": 21,
   "id": "f099c826-2b4a-46bb-a08f-1b851d586648",
   "metadata": {},
   "outputs": [
    {
     "data": {
      "text/plain": [
       "166"
      ]
     },
     "execution_count": 21,
     "metadata": {},
     "output_type": "execute_result"
    }
   ],
   "source": [
    "uid.nunique()"
   ]
  },
  {
   "cell_type": "code",
   "execution_count": 70,
   "id": "4a87f266-5086-47b6-b1c7-5eab5fb867ee",
   "metadata": {},
   "outputs": [
    {
     "data": {
      "text/plain": [
       "1343"
      ]
     },
     "execution_count": 70,
     "metadata": {},
     "output_type": "execute_result"
    }
   ],
   "source": [
    "iid.nunique()"
   ]
  },
  {
   "cell_type": "code",
   "execution_count": 22,
   "id": "71f01250-5cf6-46ee-9672-722974d30ca1",
   "metadata": {},
   "outputs": [
    {
     "data": {
      "text/plain": [
       "1        186\n",
       "7        253\n",
       "19       234\n",
       "21       167\n",
       "26        38\n",
       "        ... \n",
       "99942    363\n",
       "99953    655\n",
       "99987    660\n",
       "99988    421\n",
       "99991    676\n",
       "Name: user_id, Length: 10000, dtype: int64"
      ]
     },
     "execution_count": 22,
     "metadata": {},
     "output_type": "execute_result"
    }
   ],
   "source": [
    "uid"
   ]
  },
  {
   "cell_type": "code",
   "execution_count": 71,
   "id": "3718dd42-0724-416e-b104-6fcd6468c67c",
   "metadata": {},
   "outputs": [
    {
     "data": {
      "text/plain": [
       "1         302\n",
       "7         465\n",
       "19       1184\n",
       "21        486\n",
       "26         95\n",
       "         ... \n",
       "99942     181\n",
       "99953     913\n",
       "99987     229\n",
       "99988     498\n",
       "99991     538\n",
       "Name: movie_id, Length: 10000, dtype: int64"
      ]
     },
     "execution_count": 71,
     "metadata": {},
     "output_type": "execute_result"
    }
   ],
   "source": [
    "iid"
   ]
  },
  {
   "cell_type": "code",
   "execution_count": 23,
   "id": "c2b0012c-7ba3-496c-9aa5-ba0c3a1336ec",
   "metadata": {},
   "outputs": [
    {
     "data": {
      "text/plain": [
       "array([186, 253, 234, 167,  38, 223, 189,  11,  90,  94, 269, 121, 279,\n",
       "        26,  56, 125,  91, 229, 214,  33, 112, 215, 191,  61, 197, 134,\n",
       "       111, 280, 146,  58,  14, 312,   7, 190, 179,   4, 252, 200, 204,\n",
       "       247, 266,  54, 325,  85, 195, 183, 116,  13, 159,  27, 329, 119,\n",
       "       334,  39, 335, 178, 102, 317, 328, 363, 356,  43, 233, 381, 332,\n",
       "       299, 276, 353,  92, 378, 416, 411, 423, 379, 421, 428, 174, 440,\n",
       "       294, 425, 448, 444, 472, 358, 407, 455, 232, 145, 489, 503, 475,\n",
       "       532, 517, 219, 514, 533, 548, 551, 500, 453, 587, 603, 450, 611,\n",
       "       483, 561, 499, 530, 624, 643, 625, 636, 645, 650, 653, 655, 649,\n",
       "       656, 659, 669, 676, 683, 701, 704, 708, 207, 714, 729, 699, 738,\n",
       "       741, 753, 767, 776, 782, 642, 784, 660, 796, 661, 807, 818, 825,\n",
       "       829, 830, 828, 827, 816, 778, 851, 856, 810, 873, 880, 883, 891,\n",
       "       911, 918, 922, 909, 751, 860, 903, 479, 790, 838])"
      ]
     },
     "execution_count": 23,
     "metadata": {},
     "output_type": "execute_result"
    }
   ],
   "source": [
    "uid.unique()"
   ]
  },
  {
   "cell_type": "code",
   "execution_count": 72,
   "id": "8ee37747-e9b1-4f68-9790-67d8a414a54d",
   "metadata": {},
   "outputs": [
    {
     "data": {
      "text/plain": [
       "array([ 302,  465, 1184, ...,  833, 1140, 1610])"
      ]
     },
     "execution_count": 72,
     "metadata": {},
     "output_type": "execute_result"
    }
   ],
   "source": [
    "iid.unique()"
   ]
  },
  {
   "cell_type": "code",
   "execution_count": 24,
   "id": "0490357f-1fc7-4b23-88ca-cbad8addb6f3",
   "metadata": {},
   "outputs": [
    {
     "data": {
      "text/plain": [
       "234    428\n",
       "796    358\n",
       "551    334\n",
       "334    333\n",
       "269    323\n",
       "      ... \n",
       "358      1\n",
       "661      1\n",
       "294      1\n",
       "14       1\n",
       "838      1\n",
       "Name: user_id, Length: 166, dtype: int64"
      ]
     },
     "execution_count": 24,
     "metadata": {},
     "output_type": "execute_result"
    }
   ],
   "source": [
    "uid.value_counts()"
   ]
  },
  {
   "cell_type": "code",
   "execution_count": 25,
   "id": "5f4ee514-5822-4f7b-89a7-76830ec1cfaf",
   "metadata": {},
   "outputs": [
    {
     "data": {
      "text/plain": [
       "1        186\n",
       "7        253\n",
       "19       234\n",
       "21       167\n",
       "26        38\n",
       "        ... \n",
       "99942    363\n",
       "99953    655\n",
       "99987    660\n",
       "99988    421\n",
       "99991    676\n",
       "Name: user_id, Length: 10000, dtype: int64"
      ]
     },
     "execution_count": 25,
     "metadata": {},
     "output_type": "execute_result"
    }
   ],
   "source": [
    "uid"
   ]
  },
  {
   "cell_type": "code",
   "execution_count": 67,
   "id": "ce8b9425-dafe-4a3e-8fc3-1ac1b22fa3fc",
   "metadata": {},
   "outputs": [
    {
     "data": {
      "text/plain": [
       "166"
      ]
     },
     "execution_count": 67,
     "metadata": {},
     "output_type": "execute_result"
    }
   ],
   "source": [
    "len(uid.unique())"
   ]
  },
  {
   "cell_type": "code",
   "execution_count": 54,
   "id": "7865743a-37d1-4bcb-955f-0794e98d2649",
   "metadata": {},
   "outputs": [],
   "source": [
    "uid_series = dataset.token2id(dataset.uid_field, ['1', '186'])\n",
    "# uid_series = dataset.token2id(dataset.uid_field, ['7', '253'])"
   ]
  },
  {
   "cell_type": "code",
   "execution_count": 27,
   "id": "c9b0c170-fb11-4744-a906-d72b14a78be0",
   "metadata": {},
   "outputs": [
    {
     "data": {
      "text/plain": [
       "array([  9, 408])"
      ]
     },
     "execution_count": 27,
     "metadata": {},
     "output_type": "execute_result"
    }
   ],
   "source": [
    "uid_series"
   ]
  },
  {
   "cell_type": "code",
   "execution_count": 78,
   "id": "6af5b228-e3a0-49fb-adbc-0e616fb1a5fd",
   "metadata": {},
   "outputs": [
    {
     "name": "stdout",
     "output_type": "stream",
     "text": [
      "tensor([[       -inf,  3.8014e+00, -5.9394e-02,  ..., -4.5321e-01,\n",
      "          3.3351e-01, -8.1701e-03],\n",
      "        [       -inf,  5.2378e+00,  2.4305e-01,  ...,  3.8994e-01,\n",
      "          4.5201e-03, -1.1946e-02]], device='cuda:0')\n"
     ]
    }
   ],
   "source": [
    "score = full_sort_scores(uid_series, model, test_data, device=config['device'])\n",
    "print(score)  # score of all items"
   ]
  },
  {
   "cell_type": "code",
   "execution_count": 59,
   "id": "ba163b55-ab6b-4b51-9d12-6979488fca4a",
   "metadata": {},
   "outputs": [],
   "source": [
    "result = score[0, dataset.token2id(dataset.iid_field, ['40'])]\n",
    "# score of item ['283', '113'] for user '196'."
   ]
  },
  {
   "cell_type": "code",
   "execution_count": 73,
   "id": "60ef485d-bce7-4a19-857e-041abe5ccfd1",
   "metadata": {},
   "outputs": [
    {
     "data": {
      "text/plain": [
       "array([149])"
      ]
     },
     "execution_count": 73,
     "metadata": {},
     "output_type": "execute_result"
    }
   ],
   "source": [
    "dataset.token2id(dataset.iid_field, ['302'])"
   ]
  },
  {
   "cell_type": "code",
   "execution_count": 96,
   "id": "7befc5ce-6170-4b43-ada8-d130e80183c4",
   "metadata": {},
   "outputs": [
    {
     "data": {
      "text/plain": [
       "tensor(5.8526, device='cuda:0')"
      ]
     },
     "execution_count": 96,
     "metadata": {},
     "output_type": "execute_result"
    }
   ],
   "source": [
    "score[1, 149]"
   ]
  },
  {
   "cell_type": "code",
   "execution_count": 75,
   "id": "f4c2230c-5dc7-4855-bd15-c255f5eb7e7b",
   "metadata": {},
   "outputs": [
    {
     "data": {
      "text/plain": [
       "tensor([2.5247], device='cuda:0')"
      ]
     },
     "execution_count": 75,
     "metadata": {},
     "output_type": "execute_result"
    }
   ],
   "source": [
    "result"
   ]
  },
  {
   "cell_type": "code",
   "execution_count": 76,
   "id": "207db439-7503-4c19-9eef-52a6c1a87635",
   "metadata": {},
   "outputs": [
    {
     "data": {
      "text/plain": [
       "tensor([   -inf,  3.7294,  3.3661,  ...,  0.7369, -0.0687, -0.0322],\n",
       "       device='cuda:0')"
      ]
     },
     "execution_count": 76,
     "metadata": {},
     "output_type": "execute_result"
    }
   ],
   "source": [
    "score[1]"
   ]
  },
  {
   "cell_type": "code",
   "execution_count": 82,
   "id": "22146b28-3eb6-4d53-8a56-2481485867f1",
   "metadata": {},
   "outputs": [
    {
     "data": {
      "text/plain": [
       "torch.return_types.topk(\n",
       "values=tensor([[4.0923, 3.9093, 3.8014, 3.7448, 3.6433, 3.4447, 3.4372, 3.2954, 3.1395,\n",
       "         2.9601, 2.9410, 2.8891, 2.8666, 2.8603, 2.8497],\n",
       "        [7.5915, 7.0294, 6.2821, 6.2224, 6.1681, 6.1402, 6.0532, 5.8526, 5.7952,\n",
       "         5.5251, 5.4144, 5.3703, 5.3340, 5.3029, 5.2378]], device='cuda:0'),\n",
       "indices=tensor([[ 40, 375,   1, 319, 346, 226, 149, 265, 256, 243, 492, 527, 382, 306,\n",
       "         489],\n",
       "        [319, 275, 375,  46, 154,  26, 382, 149, 111,  99,  51, 346, 306,  28,\n",
       "           1]], device='cuda:0'))"
      ]
     },
     "execution_count": 82,
     "metadata": {},
     "output_type": "execute_result"
    }
   ],
   "source": [
    "score_2 = full_sort_topk(uid_series, model, test_data, k=15, device=config['device'])\n",
    "score_2  # score of all items"
   ]
  },
  {
   "cell_type": "code",
   "execution_count": 88,
   "id": "d2fe4151-aa06-4a47-95fc-a8d4d6b8d0d3",
   "metadata": {},
   "outputs": [
    {
     "data": {
      "text/plain": [
       "tensor([4.0923, 3.9093, 3.8014, 3.7448, 3.6433, 3.4447, 3.4372, 3.2954, 3.1395,\n",
       "        2.9601, 2.9410, 2.8891, 2.8666, 2.8603, 2.8497], device='cuda:0')"
      ]
     },
     "execution_count": 88,
     "metadata": {},
     "output_type": "execute_result"
    }
   ],
   "source": [
    "score_2[0][0]"
   ]
  },
  {
   "cell_type": "code",
   "execution_count": 87,
   "id": "d8ce5ffa-c8a5-4eb3-b2e7-85601bac7aae",
   "metadata": {},
   "outputs": [
    {
     "data": {
      "text/plain": [
       "tensor([7.5915, 7.0294, 6.2821, 6.2224, 6.1681, 6.1402, 6.0532, 5.8526, 5.7952,\n",
       "        5.5251, 5.4144, 5.3703, 5.3340, 5.3029, 5.2378], device='cuda:0')"
      ]
     },
     "execution_count": 87,
     "metadata": {},
     "output_type": "execute_result"
    }
   ],
   "source": [
    "score_2[0][1]"
   ]
  },
  {
   "cell_type": "code",
   "execution_count": 90,
   "id": "e30d14ba-809a-4d36-b307-4c06280ded4c",
   "metadata": {},
   "outputs": [
    {
     "data": {
      "text/plain": [
       "tensor([ 40, 375,   1, 319, 346, 226, 149, 265, 256, 243, 492, 527, 382, 306,\n",
       "        489], device='cuda:0')"
      ]
     },
     "execution_count": 90,
     "metadata": {},
     "output_type": "execute_result"
    }
   ],
   "source": [
    "score_2[1][0]"
   ]
  },
  {
   "cell_type": "code",
   "execution_count": 91,
   "id": "5876af83-c355-4411-89f6-842f56b10902",
   "metadata": {},
   "outputs": [
    {
     "data": {
      "text/plain": [
       "tensor([319, 275, 375,  46, 154,  26, 382, 149, 111,  99,  51, 346, 306,  28,\n",
       "          1], device='cuda:0')"
      ]
     },
     "execution_count": 91,
     "metadata": {},
     "output_type": "execute_result"
    }
   ],
   "source": [
    "score_2[1][1]"
   ]
  },
  {
   "cell_type": "code",
   "execution_count": 101,
   "id": "d3e5be2c-7fb8-42d4-8f40-dc2b1b81ef72",
   "metadata": {},
   "outputs": [
    {
     "ename": "NameError",
     "evalue": "name 'used_info' is not defined",
     "output_type": "error",
     "traceback": [
      "\u001b[0;31m---------------------------------------------------------------------------\u001b[0m",
      "\u001b[0;31mNameError\u001b[0m                                 Traceback (most recent call last)",
      "\u001b[0;32m/tmp/ipykernel_74926/1574507258.py\u001b[0m in \u001b[0;36m<module>\u001b[0;34m\u001b[0m\n\u001b[1;32m      1\u001b[0m \u001b[0;32mfrom\u001b[0m \u001b[0mrecbole\u001b[0m\u001b[0;34m.\u001b[0m\u001b[0mevaluator\u001b[0m\u001b[0;34m.\u001b[0m\u001b[0mbase_metric\u001b[0m \u001b[0;32mimport\u001b[0m \u001b[0mTopkMetric\u001b[0m\u001b[0;34m\u001b[0m\u001b[0;34m\u001b[0m\u001b[0m\n\u001b[1;32m      2\u001b[0m \u001b[0;34m\u001b[0m\u001b[0m\n\u001b[0;32m----> 3\u001b[0;31m \u001b[0mpos_index\u001b[0m\u001b[0;34m,\u001b[0m \u001b[0m_\u001b[0m \u001b[0;34m=\u001b[0m \u001b[0mused_info\u001b[0m\u001b[0;34m(\u001b[0m\u001b[0mtest_data\u001b[0m\u001b[0;34m)\u001b[0m\u001b[0;34m\u001b[0m\u001b[0;34m\u001b[0m\u001b[0m\n\u001b[0m",
      "\u001b[0;31mNameError\u001b[0m: name 'used_info' is not defined"
     ]
    }
   ],
   "source": [
    "from recbole.evaluator.base_metric import TopkMetric\n",
    "\n",
    "pos_index, _ = used_info(test_data)"
   ]
  },
  {
   "cell_type": "code",
   "execution_count": null,
   "id": "4cb1db58-5be6-496e-9f74-4e8991d6436d",
   "metadata": {},
   "outputs": [],
   "source": []
  }
 ],
 "metadata": {
  "kernelspec": {
   "display_name": "Python 3 (ipykernel)",
   "language": "python",
   "name": "python3"
  },
  "language_info": {
   "codemirror_mode": {
    "name": "ipython",
    "version": 3
   },
   "file_extension": ".py",
   "mimetype": "text/x-python",
   "name": "python",
   "nbconvert_exporter": "python",
   "pygments_lexer": "ipython3",
   "version": "3.7.11"
  },
  "widgets": {
   "application/vnd.jupyter.widget-state+json": {
    "state": {
     "11445bd4b0cd4d6eb9d6601b86473801": {
      "model_module": "@jupyter-widgets/base",
      "model_module_version": "2.0.0",
      "model_name": "LayoutModel",
      "state": {}
     },
     "18b10b2c3db645d1a73db7975debffe1": {
      "model_module": "@jupyter-widgets/controls",
      "model_module_version": "2.0.0",
      "model_name": "ProgressStyleModel",
      "state": {
       "description_width": ""
      }
     },
     "24a93f74d15e4b41aea9b196cba2a635": {
      "model_module": "@jupyter-widgets/controls",
      "model_module_version": "2.0.0",
      "model_name": "FloatProgressModel",
      "state": {
       "layout": "IPY_MODEL_11445bd4b0cd4d6eb9d6601b86473801",
       "max": 1,
       "style": "IPY_MODEL_18b10b2c3db645d1a73db7975debffe1"
      }
     },
     "385a1198bc1645a7925aaa8679247c71": {
      "model_module": "@jupyter-widgets/controls",
      "model_module_version": "2.0.0",
      "model_name": "LabelModel",
      "state": {
       "layout": "IPY_MODEL_4ebd3d1ba79b42b98980eda7f50d6dd0",
       "style": "IPY_MODEL_dcb17938d06d46c79305a89f9c5b385e"
      }
     },
     "38f4de16f4f64ef8ab201fb8ce4e8b54": {
      "model_module": "@jupyter-widgets/controls",
      "model_module_version": "2.0.0",
      "model_name": "VBoxModel",
      "state": {
       "children": [
        "IPY_MODEL_a42a6ba8f7434b6990b52058de1d6e0c",
        "IPY_MODEL_a00bdb149b8d45b091068bfc869c3ffc"
       ],
       "layout": "IPY_MODEL_799b00df6ca34b7e84109db4cfd695e1"
      }
     },
     "41b19667d8d1465993859f7acc69c974": {
      "model_module": "@jupyter-widgets/controls",
      "model_module_version": "2.0.0",
      "model_name": "VBoxModel",
      "state": {
       "children": [
        "IPY_MODEL_91bb1ec769b840a69672cab0726c8c32",
        "IPY_MODEL_a10ac41e0cec4a2a8783de0e9061ab8f"
       ],
       "layout": "IPY_MODEL_5974f6cf420740e1b5b1406b4216980a"
      }
     },
     "4ebd3d1ba79b42b98980eda7f50d6dd0": {
      "model_module": "@jupyter-widgets/base",
      "model_module_version": "2.0.0",
      "model_name": "LayoutModel",
      "state": {}
     },
     "58b09ad451f8456d82503905f332210b": {
      "model_module": "@jupyter-widgets/controls",
      "model_module_version": "2.0.0",
      "model_name": "LabelStyleModel",
      "state": {
       "description_width": "",
       "font_family": null,
       "font_size": null,
       "font_style": null,
       "font_variant": null,
       "font_weight": null,
       "text_color": null,
       "text_decoration": null
      }
     },
     "5974f6cf420740e1b5b1406b4216980a": {
      "model_module": "@jupyter-widgets/base",
      "model_module_version": "2.0.0",
      "model_name": "LayoutModel",
      "state": {}
     },
     "5c688db0fca44c3bbd5fe583bc5864f7": {
      "model_module": "@jupyter-widgets/controls",
      "model_module_version": "2.0.0",
      "model_name": "LabelStyleModel",
      "state": {
       "description_width": "",
       "font_family": null,
       "font_size": null,
       "font_style": null,
       "font_variant": null,
       "font_weight": null,
       "text_color": null,
       "text_decoration": null
      }
     },
     "67e9efeec10a4f3dac800c0fdf692fef": {
      "model_module": "@jupyter-widgets/base",
      "model_module_version": "2.0.0",
      "model_name": "LayoutModel",
      "state": {}
     },
     "69de8d229d424394bf1c634659dee7d8": {
      "model_module": "@jupyter-widgets/base",
      "model_module_version": "2.0.0",
      "model_name": "LayoutModel",
      "state": {}
     },
     "6d767e23bdb34719a1c4a98c0a846e0d": {
      "model_module": "@jupyter-widgets/base",
      "model_module_version": "2.0.0",
      "model_name": "LayoutModel",
      "state": {}
     },
     "747c4d7c53e7449ead69da0d341aba54": {
      "model_module": "@jupyter-widgets/controls",
      "model_module_version": "2.0.0",
      "model_name": "LabelStyleModel",
      "state": {
       "description_width": "",
       "font_family": null,
       "font_size": null,
       "font_style": null,
       "font_variant": null,
       "font_weight": null,
       "text_color": null,
       "text_decoration": null
      }
     },
     "781b2880a00544ca8ee3db14f2ab7b45": {
      "model_module": "@jupyter-widgets/controls",
      "model_module_version": "2.0.0",
      "model_name": "LabelModel",
      "state": {
       "layout": "IPY_MODEL_a7bfac9aa03f49ecb0462eea1388bbef",
       "style": "IPY_MODEL_5c688db0fca44c3bbd5fe583bc5864f7"
      }
     },
     "799b00df6ca34b7e84109db4cfd695e1": {
      "model_module": "@jupyter-widgets/base",
      "model_module_version": "2.0.0",
      "model_name": "LayoutModel",
      "state": {}
     },
     "7a08e6da64d4426385fe53c90579d27e": {
      "model_module": "@jupyter-widgets/base",
      "model_module_version": "2.0.0",
      "model_name": "LayoutModel",
      "state": {}
     },
     "892398d2222a4d8aa21ede4467383327": {
      "model_module": "@jupyter-widgets/controls",
      "model_module_version": "2.0.0",
      "model_name": "VBoxModel",
      "state": {
       "children": [
        "IPY_MODEL_781b2880a00544ca8ee3db14f2ab7b45",
        "IPY_MODEL_24a93f74d15e4b41aea9b196cba2a635"
       ],
       "layout": "IPY_MODEL_67e9efeec10a4f3dac800c0fdf692fef"
      }
     },
     "91bb1ec769b840a69672cab0726c8c32": {
      "model_module": "@jupyter-widgets/controls",
      "model_module_version": "2.0.0",
      "model_name": "LabelModel",
      "state": {
       "layout": "IPY_MODEL_b597e42a8b8a44b6ae48a7bb99c67e5d",
       "style": "IPY_MODEL_747c4d7c53e7449ead69da0d341aba54"
      }
     },
     "970f9cf3698f442d8ab3b0172bc7ffe9": {
      "model_module": "@jupyter-widgets/controls",
      "model_module_version": "2.0.0",
      "model_name": "FloatProgressModel",
      "state": {
       "layout": "IPY_MODEL_e76c37ca30724bd88c1481dfc450fa96",
       "max": 1,
       "style": "IPY_MODEL_ab484f6d8605461f8cdfe0f73bbec0dc"
      }
     },
     "9a8e7918c78f458c9ee38c0f68090206": {
      "model_module": "@jupyter-widgets/controls",
      "model_module_version": "2.0.0",
      "model_name": "VBoxModel",
      "state": {
       "children": [
        "IPY_MODEL_385a1198bc1645a7925aaa8679247c71",
        "IPY_MODEL_970f9cf3698f442d8ab3b0172bc7ffe9"
       ],
       "layout": "IPY_MODEL_b9dc3682b3944366beae94b9ee7403d1"
      }
     },
     "a00bdb149b8d45b091068bfc869c3ffc": {
      "model_module": "@jupyter-widgets/controls",
      "model_module_version": "2.0.0",
      "model_name": "FloatProgressModel",
      "state": {
       "layout": "IPY_MODEL_7a08e6da64d4426385fe53c90579d27e",
       "max": 1,
       "style": "IPY_MODEL_c744ce51b34743779a3ba35444457e44"
      }
     },
     "a10ac41e0cec4a2a8783de0e9061ab8f": {
      "model_module": "@jupyter-widgets/controls",
      "model_module_version": "2.0.0",
      "model_name": "FloatProgressModel",
      "state": {
       "layout": "IPY_MODEL_6d767e23bdb34719a1c4a98c0a846e0d",
       "max": 1,
       "style": "IPY_MODEL_aef674c7e3b44c4d988284ec94a44976"
      }
     },
     "a42a6ba8f7434b6990b52058de1d6e0c": {
      "model_module": "@jupyter-widgets/controls",
      "model_module_version": "2.0.0",
      "model_name": "LabelModel",
      "state": {
       "layout": "IPY_MODEL_69de8d229d424394bf1c634659dee7d8",
       "style": "IPY_MODEL_58b09ad451f8456d82503905f332210b"
      }
     },
     "a7bfac9aa03f49ecb0462eea1388bbef": {
      "model_module": "@jupyter-widgets/base",
      "model_module_version": "2.0.0",
      "model_name": "LayoutModel",
      "state": {}
     },
     "ab484f6d8605461f8cdfe0f73bbec0dc": {
      "model_module": "@jupyter-widgets/controls",
      "model_module_version": "2.0.0",
      "model_name": "ProgressStyleModel",
      "state": {
       "description_width": ""
      }
     },
     "aef674c7e3b44c4d988284ec94a44976": {
      "model_module": "@jupyter-widgets/controls",
      "model_module_version": "2.0.0",
      "model_name": "ProgressStyleModel",
      "state": {
       "description_width": ""
      }
     },
     "b597e42a8b8a44b6ae48a7bb99c67e5d": {
      "model_module": "@jupyter-widgets/base",
      "model_module_version": "2.0.0",
      "model_name": "LayoutModel",
      "state": {}
     },
     "b9dc3682b3944366beae94b9ee7403d1": {
      "model_module": "@jupyter-widgets/base",
      "model_module_version": "2.0.0",
      "model_name": "LayoutModel",
      "state": {}
     },
     "c744ce51b34743779a3ba35444457e44": {
      "model_module": "@jupyter-widgets/controls",
      "model_module_version": "2.0.0",
      "model_name": "ProgressStyleModel",
      "state": {
       "description_width": ""
      }
     },
     "dcb17938d06d46c79305a89f9c5b385e": {
      "model_module": "@jupyter-widgets/controls",
      "model_module_version": "2.0.0",
      "model_name": "LabelStyleModel",
      "state": {
       "description_width": "",
       "font_family": null,
       "font_size": null,
       "font_style": null,
       "font_variant": null,
       "font_weight": null,
       "text_color": null,
       "text_decoration": null
      }
     },
     "e76c37ca30724bd88c1481dfc450fa96": {
      "model_module": "@jupyter-widgets/base",
      "model_module_version": "2.0.0",
      "model_name": "LayoutModel",
      "state": {}
     }
    },
    "version_major": 2,
    "version_minor": 0
   }
  }
 },
 "nbformat": 4,
 "nbformat_minor": 5
}
