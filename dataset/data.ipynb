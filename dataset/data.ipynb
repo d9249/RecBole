{
 "cells": [
  {
   "cell_type": "code",
   "execution_count": 10,
   "id": "5da44885-9f7f-40dd-87c3-d3ebdc100eda",
   "metadata": {},
   "outputs": [],
   "source": [
    "from recbole.data.dataset import Dataset\n",
    "from recbole.config import Config\n",
    "from recbole.model.general_recommender import LightGCN"
   ]
  },
  {
   "cell_type": "code",
   "execution_count": 11,
   "id": "b8251c36-8f44-49cc-8140-f5055231ebb9",
   "metadata": {},
   "outputs": [],
   "source": [
    "config = Config(\n",
    "        model = LightGCN,\n",
    "        dataset = '/home/RecBole/dataset/ml-100k'\n",
    "    )"
   ]
  },
  {
   "cell_type": "code",
   "execution_count": 13,
   "id": "01c2652f-ae78-4ea0-a550-26192d832b5e",
   "metadata": {},
   "outputs": [
    {
     "ename": "AttributeError",
     "evalue": "type object 'Dataset' has no attribute 'dataset_name'",
     "output_type": "error",
     "traceback": [
      "\u001b[0;31m---------------------------------------------------------------------------\u001b[0m",
      "\u001b[0;31mAttributeError\u001b[0m                            Traceback (most recent call last)",
      "\u001b[0;32m/tmp/ipykernel_551/2889895338.py\u001b[0m in \u001b[0;36m<module>\u001b[0;34m\u001b[0m\n\u001b[0;32m----> 1\u001b[0;31m \u001b[0mDataset\u001b[0m\u001b[0;34m.\u001b[0m\u001b[0mdataset_name\u001b[0m\u001b[0;34m(\u001b[0m\u001b[0mconfig\u001b[0m\u001b[0;34m)\u001b[0m\u001b[0;34m\u001b[0m\u001b[0;34m\u001b[0m\u001b[0m\n\u001b[0m",
      "\u001b[0;31mAttributeError\u001b[0m: type object 'Dataset' has no attribute 'dataset_name'"
     ]
    }
   ],
   "source": [
    "Dataset.dataset_name(config)"
   ]
  },
  {
   "cell_type": "code",
   "execution_count": null,
   "id": "7e230aa1-efea-462d-a038-118c144aeb28",
   "metadata": {},
   "outputs": [],
   "source": []
  }
 ],
 "metadata": {
  "kernelspec": {
   "display_name": "Python 3 (ipykernel)",
   "language": "python",
   "name": "python3"
  },
  "language_info": {
   "codemirror_mode": {
    "name": "ipython",
    "version": 3
   },
   "file_extension": ".py",
   "mimetype": "text/x-python",
   "name": "python",
   "nbconvert_exporter": "python",
   "pygments_lexer": "ipython3",
   "version": "3.7.11"
  }
 },
 "nbformat": 4,
 "nbformat_minor": 5
}
